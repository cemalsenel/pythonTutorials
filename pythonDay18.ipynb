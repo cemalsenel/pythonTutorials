{
  "nbformat": 4,
  "nbformat_minor": 0,
  "metadata": {
    "colab": {
      "name": "pythonDay18.ipynb",
      "provenance": [],
      "collapsed_sections": []
    },
    "kernelspec": {
      "name": "python3",
      "display_name": "Python 3"
    },
    "language_info": {
      "name": "python"
    }
  },
  "cells": [
    {
      "cell_type": "code",
      "metadata": {
        "id": "Cl2UeSUcA-Fj"
      },
      "source": [
        "def filterVowels(letter):\n",
        "  vowels = [\"a\", \"e\", \"i\", \"o\", \"u\"]\n",
        "\n",
        "  if letter.lower() in vowels :\n",
        "    return True\n",
        "  else :\n",
        "    return False"
      ],
      "execution_count": 9,
      "outputs": []
    },
    {
      "cell_type": "code",
      "metadata": {
        "colab": {
          "base_uri": "https://localhost:8080/"
        },
        "id": "Y0AoeyooBAqa",
        "outputId": "fb713ff9-2e4b-412d-ae15-d0dd89295162"
      },
      "source": [
        "filterVowels(\"b\")"
      ],
      "execution_count": 3,
      "outputs": [
        {
          "output_type": "execute_result",
          "data": {
            "text/plain": [
              "False"
            ]
          },
          "metadata": {},
          "execution_count": 3
        }
      ]
    },
    {
      "cell_type": "code",
      "metadata": {
        "colab": {
          "base_uri": "https://localhost:8080/"
        },
        "id": "GwiF8Er_BAtU",
        "outputId": "74cd69ca-7e7b-4419-eb25-c0471dbfc869"
      },
      "source": [
        "filterVowels(\"U\")"
      ],
      "execution_count": 4,
      "outputs": [
        {
          "output_type": "execute_result",
          "data": {
            "text/plain": [
              "True"
            ]
          },
          "metadata": {},
          "execution_count": 4
        }
      ]
    },
    {
      "cell_type": "code",
      "metadata": {
        "colab": {
          "base_uri": "https://localhost:8080/"
        },
        "id": "ENsaZcOIBAv6",
        "outputId": "ea828a5b-e11b-428b-845c-dc9bd9d51802"
      },
      "source": [
        "sentence = \"Jimmy is here\"\n",
        "filtered_vowels = filter(filterVowels, sentence)\n",
        "print(* filtered_vowels)"
      ],
      "execution_count": 10,
      "outputs": [
        {
          "output_type": "stream",
          "name": "stdout",
          "text": [
            "i i e e\n"
          ]
        }
      ]
    },
    {
      "cell_type": "code",
      "metadata": {
        "id": "1yCcpSgPBAy7"
      },
      "source": [
        "def absolute(num):\n",
        "  \"\"\"\n",
        "  This function returns the absolute value of the number\n",
        "  \"\"\"\n",
        "  if num >= 0 :\n",
        "    return num\n",
        "  else :\n",
        "    return -num"
      ],
      "execution_count": 11,
      "outputs": []
    },
    {
      "cell_type": "code",
      "metadata": {
        "colab": {
          "base_uri": "https://localhost:8080/"
        },
        "id": "suBlkqjLBA1k",
        "outputId": "c94c129d-9dd1-431a-d42a-5be0c8db870a"
      },
      "source": [
        "print(absolute.__doc__)"
      ],
      "execution_count": 13,
      "outputs": [
        {
          "output_type": "stream",
          "name": "stdout",
          "text": [
            "\n",
            "  This function returns the absolute value of the number\n",
            "  \n"
          ]
        }
      ]
    },
    {
      "cell_type": "code",
      "metadata": {
        "colab": {
          "base_uri": "https://localhost:8080/"
        },
        "id": "sZUiaEVKBA4Z",
        "outputId": "7afa4cb3-6ae8-4a2b-c4bb-07399f36c5a0"
      },
      "source": [
        "absolute(-11)"
      ],
      "execution_count": 14,
      "outputs": [
        {
          "output_type": "execute_result",
          "data": {
            "text/plain": [
              "11"
            ]
          },
          "metadata": {},
          "execution_count": 14
        }
      ]
    },
    {
      "cell_type": "code",
      "metadata": {
        "id": "cciI2I5QBA7V"
      },
      "source": [
        "def pos_arg(x, y):\n",
        "  print(x, \" is here\")\n",
        "  print(y, \" is not here\")"
      ],
      "execution_count": 15,
      "outputs": []
    },
    {
      "cell_type": "code",
      "metadata": {
        "colab": {
          "base_uri": "https://localhost:8080/"
        },
        "id": "ef80DUaSD9t2",
        "outputId": "dcbfdffd-9c79-4d7b-a7a6-7faf546beb95"
      },
      "source": [
        "pos_arg(\"jimmy\", \"joe\")\n",
        "print()\n",
        "pos_arg(\"joe\", \"jimmy\")"
      ],
      "execution_count": 17,
      "outputs": [
        {
          "output_type": "stream",
          "name": "stdout",
          "text": [
            "jimmy  is here\n",
            "joe  is not here\n",
            "\n",
            "joe  is here\n",
            "jimmy  is not here\n"
          ]
        }
      ]
    },
    {
      "cell_type": "code",
      "metadata": {
        "id": "5bT7Bs_UD9wv"
      },
      "source": [
        "def texter(a, b, c):\n",
        "  print(f\"{b} {c} {a}\")"
      ],
      "execution_count": 23,
      "outputs": []
    },
    {
      "cell_type": "code",
      "metadata": {
        "colab": {
          "base_uri": "https://localhost:8080/"
        },
        "id": "zY7-TFaND90U",
        "outputId": "8ad1674d-4791-43e3-e570-1a958cc05522"
      },
      "source": [
        "a= \"I\"\n",
        "b= \"love\"\n",
        "c= \"you\"\n",
        "texter(c, a, b)"
      ],
      "execution_count": 24,
      "outputs": [
        {
          "output_type": "stream",
          "name": "stdout",
          "text": [
            "I love you\n"
          ]
        }
      ]
    },
    {
      "cell_type": "code",
      "metadata": {
        "id": "SSsqNwcwD923"
      },
      "source": [
        "def default(a = \"jimmy\", b = 33):\n",
        "  print(a, \"is\", b, \"years old\")"
      ],
      "execution_count": 27,
      "outputs": []
    },
    {
      "cell_type": "code",
      "metadata": {
        "colab": {
          "base_uri": "https://localhost:8080/"
        },
        "id": "Rgb1gsjwBA-g",
        "outputId": "f97dd40e-51f0-4494-d3be-a7559771c614"
      },
      "source": [
        "default()"
      ],
      "execution_count": 28,
      "outputs": [
        {
          "output_type": "stream",
          "name": "stdout",
          "text": [
            "jimmy is 33 years old\n"
          ]
        }
      ]
    },
    {
      "cell_type": "code",
      "metadata": {
        "colab": {
          "base_uri": "https://localhost:8080/"
        },
        "id": "siO_dukeBBAg",
        "outputId": "1e13e5dd-6fa8-4203-8c8d-cc17be6dacb0"
      },
      "source": [
        "default(\"johnny\", 12)"
      ],
      "execution_count": 29,
      "outputs": [
        {
          "output_type": "stream",
          "name": "stdout",
          "text": [
            "johnny is 12 years old\n"
          ]
        }
      ]
    },
    {
      "cell_type": "code",
      "metadata": {
        "colab": {
          "base_uri": "https://localhost:8080/"
        },
        "id": "_-YDRVKvIEbN",
        "outputId": "a295f6b6-5e20-4d5a-e2c3-e625c1f5f1b1"
      },
      "source": [
        "default(b= 12)"
      ],
      "execution_count": 32,
      "outputs": [
        {
          "output_type": "stream",
          "name": "stdout",
          "text": [
            "jimmy is 12 years old\n"
          ]
        }
      ]
    },
    {
      "cell_type": "code",
      "metadata": {
        "colab": {
          "base_uri": "https://localhost:8080/"
        },
        "id": "ir7x6n9qIEeP",
        "outputId": "effa6f8b-eacc-4f5d-a476-bcf587aa089f"
      },
      "source": [
        "default(a = \"Joe\", b = 23)"
      ],
      "execution_count": 33,
      "outputs": [
        {
          "output_type": "stream",
          "name": "stdout",
          "text": [
            "Joe is 23 years old\n"
          ]
        }
      ]
    },
    {
      "cell_type": "code",
      "metadata": {
        "id": "ZOZHWRjZIEhE"
      },
      "source": [
        "def default(x, a = \"jimmy\", b = 33):\n",
        "  print(a,\"and\",x ,\"are\", b, \"years old\")"
      ],
      "execution_count": 36,
      "outputs": []
    },
    {
      "cell_type": "code",
      "metadata": {
        "colab": {
          "base_uri": "https://localhost:8080/"
        },
        "id": "CUXc4IqOIEjm",
        "outputId": "d75e9472-6c4a-480e-b918-edd248ec6a59"
      },
      "source": [
        "default(\"Sue\")"
      ],
      "execution_count": 37,
      "outputs": [
        {
          "output_type": "stream",
          "name": "stdout",
          "text": [
            "jimmy and Sue are 33 years old\n"
          ]
        }
      ]
    },
    {
      "cell_type": "code",
      "metadata": {
        "id": "gB8opYdAIEmk"
      },
      "source": [
        "def argu(a, b, c = \"is\", d = \"here\"):  # fonksiyon tanımlarken ilk önce positional arguments gelmeli. daha sonra keyword arguments gelir\n",
        "  print(a, b, c, d)"
      ],
      "execution_count": 38,
      "outputs": []
    },
    {
      "cell_type": "code",
      "metadata": {
        "colab": {
          "base_uri": "https://localhost:8080/"
        },
        "id": "g9Jm0IIfIEpB",
        "outputId": "53953e33-e428-42c6-f60c-e4a89c7f89e8"
      },
      "source": [
        "argu(\"jimmy\", \"the boy\")  # fonksiyon çağırırken de ilk önce positional arguments gelmeli. daha sonra keyword arguments gelir"
      ],
      "execution_count": 39,
      "outputs": [
        {
          "output_type": "stream",
          "name": "stdout",
          "text": [
            "jimmy the boy is here\n"
          ]
        }
      ]
    },
    {
      "cell_type": "code",
      "metadata": {
        "colab": {
          "base_uri": "https://localhost:8080/"
        },
        "id": "l0kr93C3IEro",
        "outputId": "6bfbc359-c88a-4a76-ebdb-85f0254fd8db"
      },
      "source": [
        "def fruiterer(*fruit):\n",
        "  print(\"I want to buy : \")\n",
        "  for i in fruit:\n",
        "    print(\"==> \",i)\n",
        "\n",
        "fruits = [\"orange\", \"apple\", \"banana\", \"melon\"]\n",
        "fruiterer(*fruits)"
      ],
      "execution_count": 43,
      "outputs": [
        {
          "output_type": "stream",
          "name": "stdout",
          "text": [
            "I want to buy : \n",
            "==>  orange\n",
            "==>  apple\n",
            "==>  banana\n",
            "==>  melon\n"
          ]
        }
      ]
    },
    {
      "cell_type": "code",
      "metadata": {
        "colab": {
          "base_uri": "https://localhost:8080/"
        },
        "id": "mIvDaEm1L6_G",
        "outputId": "d268594f-bfd7-4a91-fe2c-24a647aa9f20"
      },
      "source": [
        "def slicer(*nums):\n",
        "  even=[]\n",
        "  odd=[]\n",
        "  for i in nums:\n",
        "    if i % 2 :\n",
        "      odd.append(i)\n",
        "    else:\n",
        "      even.append(i)\n",
        "  print(\"even:\",even)\n",
        "  print(\"odd:\",odd)\n",
        "\n",
        "slicer(1,2,3,5,4,6,9,8,7)"
      ],
      "execution_count": 45,
      "outputs": [
        {
          "output_type": "stream",
          "name": "stdout",
          "text": [
            "even: [2, 4, 6, 8]\n",
            "odd: [1, 3, 5, 9, 7]\n"
          ]
        }
      ]
    },
    {
      "cell_type": "code",
      "metadata": {
        "colab": {
          "base_uri": "https://localhost:8080/"
        },
        "id": "oYBRSQ7BL7CH",
        "outputId": "aff18866-1670-491d-d171-695779095d20"
      },
      "source": [
        "def slicer(*num):\n",
        "  print(\"evens:\", [i for i in num if i%2 == 0])\n",
        "  print(\"odds:\", [i for i in num if not i%2 == 0])\n",
        "\n",
        "slicer(1,2,3,5,4,6,9,8,7)"
      ],
      "execution_count": 47,
      "outputs": [
        {
          "output_type": "stream",
          "name": "stdout",
          "text": [
            "evens: [2, 4, 6, 8]\n",
            "odds: [1, 3, 5, 9, 7]\n"
          ]
        }
      ]
    },
    {
      "cell_type": "code",
      "metadata": {
        "colab": {
          "base_uri": "https://localhost:8080/"
        },
        "id": "-chEI54CL7Ff",
        "outputId": "34dbc867-41f2-484e-f94b-c3831d2d27e3"
      },
      "source": [
        "def dic(**a):\n",
        "  for key,value in a.items():\n",
        "    print(key, value)\n",
        "\n",
        "dic(bir=\"one\", iki=\"two\", üc=\"three\", dort=\"four\", bes=\"five\")"
      ],
      "execution_count": 49,
      "outputs": [
        {
          "output_type": "stream",
          "name": "stdout",
          "text": [
            "bir one\n",
            "iki two\n",
            "üc three\n",
            "dort four\n",
            "bes five\n"
          ]
        }
      ]
    },
    {
      "cell_type": "code",
      "metadata": {
        "colab": {
          "base_uri": "https://localhost:8080/"
        },
        "id": "psWpIzRdIEuW",
        "outputId": "3181fb95-c8a4-46cf-83ff-96cad1b32e0b"
      },
      "source": [
        "def organizer(**coll):\n",
        "  keys=[]\n",
        "  values=[]\n",
        "  for key, value in coll.items():\n",
        "    keys.append(key)\n",
        "    values.append(value)\n",
        "  print(keys, values, sep=\"\\n\")\n",
        "organizer(bir=\"one\", iki=\"two\", üc=\"three\", dort=\"four\", bes=\"five\")"
      ],
      "execution_count": 54,
      "outputs": [
        {
          "output_type": "stream",
          "name": "stdout",
          "text": [
            "['bir', 'iki', 'üc', 'dort', 'bes']\n",
            "['one', 'two', 'three', 'four', 'five']\n"
          ]
        }
      ]
    },
    {
      "cell_type": "code",
      "metadata": {
        "colab": {
          "base_uri": "https://localhost:8080/"
        },
        "id": "NbvM5iqsIExa",
        "outputId": "c6b8bbf3-de6d-47aa-f9ea-33686973595a"
      },
      "source": [
        "def organizer(**coll):\n",
        "  keys=[i for i in coll.keys()]\n",
        "  values=[i for i in coll.values()]\n",
        "  print(keys, values, sep=\"\\n\")\n",
        "organizer(bir=\"one\", iki=\"two\", üc=\"three\", dort=\"four\", bes=\"five\")"
      ],
      "execution_count": 60,
      "outputs": [
        {
          "output_type": "stream",
          "name": "stdout",
          "text": [
            "['bir', 'iki', 'üc', 'dort', 'bes']\n",
            "['one', 'two', 'three', 'four', 'five']\n"
          ]
        }
      ]
    },
    {
      "cell_type": "code",
      "metadata": {
        "id": "m_2qj_zNIE0H"
      },
      "source": [
        ""
      ],
      "execution_count": null,
      "outputs": []
    },
    {
      "cell_type": "code",
      "metadata": {
        "id": "h2fyDzByIE3U"
      },
      "source": [
        ""
      ],
      "execution_count": null,
      "outputs": []
    }
  ]
}