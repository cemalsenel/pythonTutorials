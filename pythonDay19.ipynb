{
  "nbformat": 4,
  "nbformat_minor": 0,
  "metadata": {
    "colab": {
      "name": "pythonDay19.ipynb",
      "provenance": [],
      "collapsed_sections": []
    },
    "kernelspec": {
      "name": "python3",
      "display_name": "Python 3"
    },
    "language_info": {
      "name": "python"
    }
  },
  "cells": [
    {
      "cell_type": "code",
      "metadata": {
        "colab": {
          "base_uri": "https://localhost:8080/"
        },
        "id": "iQf7e8_VXgbD",
        "outputId": "488c8b18-2275-4fdc-fb08-ffaa4fd44af5"
      },
      "source": [
        "def bros(bro1, bro2, bro3):\n",
        "  print(\"The names of bros:\")\n",
        "  print(bro1, bro2, bro3, sep=\"\\n\")\n",
        "\n",
        "bro=[\"cemil\", \"nurettin\", \"oguz\"]\n",
        "bros(*bro)"
      ],
      "execution_count": 1,
      "outputs": [
        {
          "output_type": "stream",
          "name": "stdout",
          "text": [
            "The names of bros:\n",
            "cemil\n",
            "nurettin\n",
            "oguz\n"
          ]
        }
      ]
    },
    {
      "cell_type": "code",
      "metadata": {
        "colab": {
          "base_uri": "https://localhost:8080/"
        },
        "id": "16Hs5XZSatcs",
        "outputId": "8234cb49-3993-489a-e085-8b107a3bbf1f"
      },
      "source": [
        "genius = [\"Bill\", \"Rossum\", \"Guido van\", \"Gates\"]\n",
        "\n",
        "def merger(par1, par2, par3, par4):\n",
        "  print(f\"for me, {par1} {par4} and {par3} {par2} are geniuses.\")\n",
        "merger(*genius)"
      ],
      "execution_count": 3,
      "outputs": [
        {
          "output_type": "stream",
          "name": "stdout",
          "text": [
            "for me, Bill Gates and Guido van Rossum are geniuses.\n"
          ]
        }
      ]
    },
    {
      "cell_type": "code",
      "metadata": {
        "colab": {
          "base_uri": "https://localhost:8080/"
        },
        "id": "AkhWvxH-atfS",
        "outputId": "43bd6272-47d1-4b83-a673-a4ae5469f76c"
      },
      "source": [
        "def gene(x=\"Solomon\", y=\"David\"):  # atanacak keyler ile aynı olmalı\n",
        "  print(x,\"belongs to Generation X\")\n",
        "  print(y,\"belongs to Generation Y\")\n",
        "dict_gene={'y':\"Marry\", 'x':'Fred'}  # atanacak keyler ile aynı olmalı\n",
        "gene(**dict_gene)"
      ],
      "execution_count": 5,
      "outputs": [
        {
          "output_type": "stream",
          "name": "stdout",
          "text": [
            "Fred belongs to Generation X\n",
            "Marry belongs to Generation Y\n"
          ]
        }
      ]
    },
    {
      "cell_type": "code",
      "metadata": {
        "colab": {
          "base_uri": "https://localhost:8080/"
        },
        "id": "twP1u7ciatiE",
        "outputId": "92975b1a-23e9-45be-bad7-0d21a0afe4d2"
      },
      "source": [
        "#  [(\"marry\", \"ryan\"), (\"bella\", \"fred\"), (\"linda\", \"roland\")]\n",
        "dict_couple = { \"bride\": [\"marry\", \"bella\", \"linda\"],\n",
        "               \"groom\":[\"ryan\", \"fred\", \"roland\"]}\n",
        "def couples(bride, groom):\n",
        "  couple_list= []\n",
        "  for x in zip(bride, groom):\n",
        "    couple_list.append(x)\n",
        "  return couple_list\n",
        "\n",
        "couples(**dict_couple)\n"
      ],
      "execution_count": 8,
      "outputs": [
        {
          "output_type": "execute_result",
          "data": {
            "text/plain": [
              "[('marry', 'ryan'), ('bella', 'fred'), ('linda', 'roland')]"
            ]
          },
          "metadata": {},
          "execution_count": 8
        }
      ]
    },
    {
      "cell_type": "code",
      "metadata": {
        "colab": {
          "base_uri": "https://localhost:8080/"
        },
        "id": "Jztgyv72dOXo",
        "outputId": "b0a03fb5-460c-4dff-9413-ede698c35c71"
      },
      "source": [
        "#  [(\"marry\", \"ryan\"), (\"bella\", \"fred\"), (\"linda\", \"roland\")]\n",
        "dict_couple = { \"bride\": [\"marry\", \"bella\", \"linda\"],\n",
        "               \"groom\":[\"ryan\", \"fred\", \"roland\"]}\n",
        "def couples(bride, groom):\n",
        "  return [x for x in zip(bride, groom)]\n",
        "\n",
        "couples(**dict_couple)"
      ],
      "execution_count": 11,
      "outputs": [
        {
          "output_type": "execute_result",
          "data": {
            "text/plain": [
              "[('marry', 'ryan'), ('bella', 'fred'), ('linda', 'roland')]"
            ]
          },
          "metadata": {},
          "execution_count": 11
        }
      ]
    },
    {
      "cell_type": "code",
      "metadata": {
        "colab": {
          "base_uri": "https://localhost:8080/"
        },
        "id": "yHt-Eby_dOaL",
        "outputId": "1143076a-52a2-428f-9daa-dac9aa533593"
      },
      "source": [
        "friends = {\"cemil\":44, \"oguz\":41, \"nurettin\":61}\n",
        "\n",
        "def meaner(cemil, oguz, nurettin):\n",
        "  avg = (cemil+oguz+nurettin)/3\n",
        "  print(\"Avergae age is:\",avg)\n",
        "\n",
        "meaner(**friends)"
      ],
      "execution_count": 12,
      "outputs": [
        {
          "output_type": "stream",
          "name": "stdout",
          "text": [
            "Avergae age is: 48.666666666666664\n"
          ]
        }
      ]
    },
    {
      "cell_type": "code",
      "metadata": {
        "id": "P-7Cd4emdOdB"
      },
      "source": [
        "def isValid(s):\n",
        "  while \"()\" in s or \"[]\" in s or \"{}\" in s :\n",
        "    s = s.replace(\"()\", \"\").replace(\"[]\", \"\").replace(\"{}\", \"\")\n",
        "  return s == \"\""
      ],
      "execution_count": null,
      "outputs": []
    },
    {
      "cell_type": "code",
      "metadata": {
        "id": "gMNGIj5wdOgF"
      },
      "source": [
        "# Lambda"
      ],
      "execution_count": null,
      "outputs": []
    },
    {
      "cell_type": "code",
      "metadata": {
        "colab": {
          "base_uri": "https://localhost:8080/"
        },
        "id": "w32xbFcTatkg",
        "outputId": "754550a5-07e4-46ca-842c-f9c37a1554ce"
      },
      "source": [
        "print((lambda x : \"odd\" if x % 2 else \"even\")(8))\n",
        "print((lambda x : \"odd\" if x % 2 else \"even\")(3))"
      ],
      "execution_count": 17,
      "outputs": [
        {
          "output_type": "stream",
          "name": "stdout",
          "text": [
            "even\n",
            "odd\n"
          ]
        }
      ]
    },
    {
      "cell_type": "code",
      "metadata": {
        "colab": {
          "base_uri": "https://localhost:8080/"
        },
        "id": "AEfRnYApatnR",
        "outputId": "bcedcf1c-0aba-4669-cf86-1bef75cec279"
      },
      "source": [
        "average = (lambda a,b : a**2 + b**2)(3, 5)\n",
        "print(average)"
      ],
      "execution_count": 18,
      "outputs": [
        {
          "output_type": "stream",
          "name": "stdout",
          "text": [
            "34\n"
          ]
        }
      ]
    },
    {
      "cell_type": "code",
      "metadata": {
        "colab": {
          "base_uri": "https://localhost:8080/"
        },
        "id": "XMzEBUAOatqN",
        "outputId": "79f073c9-4f26-4431-f320-1efce3a65be4"
      },
      "source": [
        "iterable = \"jimmy\"\n",
        "reverser = (lambda x : x[::-1] )(iterable)\n",
        "print(reverser)"
      ],
      "execution_count": 19,
      "outputs": [
        {
          "output_type": "stream",
          "name": "stdout",
          "text": [
            "ymmij\n"
          ]
        }
      ]
    },
    {
      "cell_type": "code",
      "metadata": {
        "colab": {
          "base_uri": "https://localhost:8080/"
        },
        "id": "9fM7aMsfqHHy",
        "outputId": "1ff45a87-90cf-45d3-9206-dfa96ea45272"
      },
      "source": [
        "for i in [1, 2, 3, 4, 5, 6]:\n",
        "  print(i, \":\", (lambda x : \"odd\" if x%2 else \"even\")(i))"
      ],
      "execution_count": 20,
      "outputs": [
        {
          "output_type": "stream",
          "name": "stdout",
          "text": [
            "1 : odd\n",
            "2 : even\n",
            "3 : odd\n",
            "4 : even\n",
            "5 : odd\n",
            "6 : even\n"
          ]
        }
      ]
    },
    {
      "cell_type": "code",
      "metadata": {
        "colab": {
          "base_uri": "https://localhost:8080/"
        },
        "id": "0n7z_0LYqHKx",
        "outputId": "22024e63-2be9-43af-a94a-ce9b076cc4fa"
      },
      "source": [
        "hypo = lambda a,b : a**2 + b**2\n",
        "hypo(3,5)"
      ],
      "execution_count": 21,
      "outputs": [
        {
          "output_type": "execute_result",
          "data": {
            "text/plain": [
              "34"
            ]
          },
          "metadata": {},
          "execution_count": 21
        }
      ]
    },
    {
      "cell_type": "code",
      "metadata": {
        "colab": {
          "base_uri": "https://localhost:8080/"
        },
        "id": "OkmDhWq5qHNR",
        "outputId": "354370fe-5875-40a6-fe81-9b0c1de54b0f"
      },
      "source": [
        "iterable=[1, 2, 3, 4, 5, 6]\n",
        "print(list(map(lambda x: x**2, iterable)))"
      ],
      "execution_count": 22,
      "outputs": [
        {
          "output_type": "stream",
          "name": "stdout",
          "text": [
            "[1, 4, 9, 16, 25, 36]\n"
          ]
        }
      ]
    },
    {
      "cell_type": "code",
      "metadata": {
        "colab": {
          "base_uri": "https://localhost:8080/"
        },
        "id": "dzMGAQOtrvuL",
        "outputId": "c81e91e6-9332-4f0e-bc95-aebf26d1f062"
      },
      "source": [
        "def square(x):\n",
        "  return x**2\n",
        "\n",
        "list(map(square, iterable))"
      ],
      "execution_count": 23,
      "outputs": [
        {
          "output_type": "execute_result",
          "data": {
            "text/plain": [
              "[1, 4, 9, 16, 25, 36]"
            ]
          },
          "metadata": {},
          "execution_count": 23
        }
      ]
    },
    {
      "cell_type": "code",
      "metadata": {
        "colab": {
          "base_uri": "https://localhost:8080/"
        },
        "id": "EFx8v5pTrvxG",
        "outputId": "9b6fd77f-1c25-42aa-e78a-57ab5bbeef30"
      },
      "source": [
        "iterable_2 = [\"ali\", \"veli\", \"cemil\"]\n",
        "list(map(len, iterable_2))"
      ],
      "execution_count": 24,
      "outputs": [
        {
          "output_type": "execute_result",
          "data": {
            "text/plain": [
              "[3, 4, 5]"
            ]
          },
          "metadata": {},
          "execution_count": 24
        }
      ]
    },
    {
      "cell_type": "code",
      "metadata": {
        "colab": {
          "base_uri": "https://localhost:8080/"
        },
        "id": "tdPLx2_urv2r",
        "outputId": "263884eb-c4c8-4e7f-e0c6-b67e75867c5e"
      },
      "source": [
        "letter1 = [\"o\", \"s\", \"t\", \"t\"]\n",
        "letter2 = [\"n\", \"i\", \"e\", \"w\"]\n",
        "letter3 = [\"e\", \"x\", \"n\", \"o\"]\n",
        "\n",
        "print(list(map(lambda x,y,z : x+y+z, letter1, letter2, letter3)))  # map birdern fazla iterable nesnesi alabilir, sırası önemli bu iterable'ların"
      ],
      "execution_count": 25,
      "outputs": [
        {
          "output_type": "stream",
          "name": "stdout",
          "text": [
            "['one', 'six', 'ten', 'two']\n"
          ]
        }
      ]
    },
    {
      "cell_type": "code",
      "metadata": {
        "colab": {
          "base_uri": "https://localhost:8080/"
        },
        "id": "qM8N-Jj3rv5C",
        "outputId": "d3a2a887-31d3-45af-80e2-d1d16671823d"
      },
      "source": [
        "letter1 = [\"o\", \"s\", \"t\", \"t\"]\n",
        "letter2 = [\"n\", \"i\", \"e\", \"w\"]\n",
        "letter3 = [\"e\", \"x\", \"n\", \"o\"]\n",
        "\n",
        "zipp = map(zip, letter1, letter2, letter3)\n",
        "\n",
        "for i in zipp:\n",
        "  for j in i:\n",
        "    print(j)"
      ],
      "execution_count": 30,
      "outputs": [
        {
          "output_type": "stream",
          "name": "stdout",
          "text": [
            "('o', 'n', 'e')\n",
            "('s', 'i', 'x')\n",
            "('t', 'e', 'n')\n",
            "('t', 'w', 'o')\n"
          ]
        }
      ]
    }
  ]
}