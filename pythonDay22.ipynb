{
  "nbformat": 4,
  "nbformat_minor": 0,
  "metadata": {
    "kernelspec": {
      "display_name": "Python 3",
      "language": "python",
      "name": "python3"
    },
    "language_info": {
      "codemirror_mode": {
        "name": "ipython",
        "version": 3
      },
      "file_extension": ".py",
      "mimetype": "text/x-python",
      "name": "python",
      "nbconvert_exporter": "python",
      "pygments_lexer": "ipython3",
      "version": "3.7.3"
    },
    "colab": {
      "name": "pythonDay22.ipynb",
      "provenance": [],
      "collapsed_sections": []
    }
  },
  "cells": [
    {
      "cell_type": "code",
      "metadata": {
        "id": "c32k4xhuj-RZ"
      },
      "source": [
        "fruits = [\"banana\", \"mango\", \"pear\", \"apple\", \"kiwi\", \"grape\"]"
      ],
      "execution_count": null,
      "outputs": []
    },
    {
      "cell_type": "code",
      "metadata": {
        "id": "Ha5O2FyLj-Ra",
        "outputId": "31142254-f457-4916-a406-ba4dd2172f9a"
      },
      "source": [
        "while True :\n",
        "    \n",
        "    try :\n",
        "        index = int(input(\"Favori meyve indexini girer misin? : \"))\n",
        "        print(\"Benim favori meyvem {}'dir.\".format(fruits[index]))\n",
        "        break\n",
        "    \n",
        "    except IndexError :\n",
        "        print(\"Böyle bir index bulunmamaktadır. Lütfen doğru giriş yapınız.\")\n",
        "        \n",
        "    except ValueError :\n",
        "        print(\"Integer yani numeric bir değer giriniz. Tekrar deneyin.\")"
      ],
      "execution_count": null,
      "outputs": [
        {
          "name": "stdout",
          "output_type": "stream",
          "text": [
            "Favori meyve indexini girer misin? : 7\n",
            "Böyle bir index bulunmamaktadır. Lütfen doğru giriş yapınız.\n",
            "Favori meyve indexini girer misin? : iki\n",
            "Integer yani numeric bir değer giriniz. Tekrar deneyin.\n",
            "Favori meyve indexini girer misin? : 1\n",
            "Benim favori meyvem mango'dir.\n"
          ]
        }
      ]
    },
    {
      "cell_type": "code",
      "metadata": {
        "id": "CdhpNtp_j-Ra",
        "outputId": "a655b34c-602f-4aed-cb92-a75174810310"
      },
      "source": [
        "count = 3\n",
        "\n",
        "while count > 0 :\n",
        "    \n",
        "    try :\n",
        "        index = int(input(\"Favori meyve indexini girer misin? : \"))\n",
        "        print(\"Benim favori meyvem {}'dir.\".format(fruits[index]))\n",
        "    \n",
        "    except IndexError :\n",
        "        count -= 1\n",
        "        print(f\"Böyle bir index bulunmamaktadır. {count} adet giriş hakkınız kaldı. Lütfen doğru giriş yapınız.\")\n",
        "        \n",
        "    except ValueError :\n",
        "        count -= 1\n",
        "        print(f\"Integer yani numeric bir değer giriniz. {count} adet giriş hakkınız kaldı. Tekrar deneyin.\")\n",
        "        \n",
        "    else :\n",
        "        print(\"Tebrikler.. Doğru giriş yaptınız.\")\n",
        "        break\n",
        "        \n",
        "    finally :\n",
        "        print(\"Meyvelerim tazedir. Afiyet ossun.\")"
      ],
      "execution_count": null,
      "outputs": [
        {
          "name": "stdout",
          "output_type": "stream",
          "text": [
            "Favori meyve indexini girer misin? : 2\n",
            "Benim favori meyvem pear'dir.\n",
            "Tebrikler.. Doğru giriş yaptınız.\n",
            "Meyvelerim tazedir. Afiyet ossun.\n"
          ]
        }
      ]
    },
    {
      "cell_type": "code",
      "metadata": {
        "id": "sCVxdyW6j-Rb",
        "outputId": "2f83cd27-5345-43e7-8101-d511f8fb26a8"
      },
      "source": [
        "pwd"
      ],
      "execution_count": null,
      "outputs": [
        {
          "data": {
            "text/plain": [
              "'C:\\\\Users\\\\YD\\\\pythonic\\\\PythonSessions\\\\Cohort-008-PythonSessions'"
            ]
          },
          "execution_count": 5,
          "metadata": {},
          "output_type": "execute_result"
        }
      ]
    },
    {
      "cell_type": "code",
      "metadata": {
        "id": "-nJ1-Ixzj-Rc",
        "outputId": "82a1700a-8c96-463a-cdf0-393c091f8618"
      },
      "source": [
        "sea = open(\"C:\\\\Users\\\\YD\\\\pythonic\\\\fishes.txt\", \"r\")\n",
        "\n",
        "print(sea.read())\n",
        "\n",
        "sea.close()"
      ],
      "execution_count": null,
      "outputs": [
        {
          "name": "stdout",
          "output_type": "stream",
          "text": [
            "Orca is a kind of Dolphin.\n",
            "Blue Whale is the largest animal known on earth.\n",
            "Sharks are the sister group to the Rays (batoids).\n",
            "The Tuna Fish can weigh up to 260 kg.\n",
            "Squid and Octopus are in the same class.\n"
          ]
        }
      ]
    },
    {
      "cell_type": "code",
      "metadata": {
        "id": "qhcXaEBMj-Rc",
        "outputId": "86cde867-7338-4842-b747-14cdb4c85190"
      },
      "source": [
        "sea = open(\"C:\\\\Users\\\\YD\\\\pythonic\\\\fishes.txt\", \"r\")\n",
        "\n",
        "print(sea.read(33))\n",
        "\n",
        "sea.close()"
      ],
      "execution_count": null,
      "outputs": [
        {
          "name": "stdout",
          "output_type": "stream",
          "text": [
            "Orca is a kind of Dolphin.\n",
            "Blue W\n"
          ]
        }
      ]
    },
    {
      "cell_type": "code",
      "metadata": {
        "id": "9Ci3V-W6j-Rd",
        "outputId": "a68c13d7-260b-4ad9-eca5-ee2ffc4b9f34"
      },
      "source": [
        "sea = open(\"C:\\\\Users\\\\YD\\\\pythonic\\\\fishes.txt\", \"r\")\n",
        "\n",
        "print(sea.read(33))\n",
        "print(sea.read(33))\n",
        "\n",
        "sea.close()"
      ],
      "execution_count": null,
      "outputs": [
        {
          "name": "stdout",
          "output_type": "stream",
          "text": [
            "Orca is a kind of Dolphin.\n",
            "Blue W\n",
            "hale is the largest animal known \n"
          ]
        }
      ]
    },
    {
      "cell_type": "code",
      "metadata": {
        "id": "zIYLxW4wj-Re",
        "outputId": "fc4d7c93-b48d-4681-94f3-6ee7bc4e733c"
      },
      "source": [
        "sea = open(\"C:\\\\Users\\\\YD\\\\pythonic\\\\fishes.txt\", \"r\")\n",
        "\n",
        "print(sea.read(33))\n",
        "print(sea.read(33))\n",
        "sea.seek(0)\n",
        "print(sea.read(33))\n",
        "\n",
        "sea.close()"
      ],
      "execution_count": null,
      "outputs": [
        {
          "name": "stdout",
          "output_type": "stream",
          "text": [
            "Orca is a kind of Dolphin.\n",
            "Blue W\n",
            "hale is the largest animal known \n",
            "Orca is a kind of Dolphin.\n",
            "Blue W\n"
          ]
        }
      ]
    },
    {
      "cell_type": "code",
      "metadata": {
        "id": "zAlJ9tDdj-Re",
        "outputId": "6015a7c2-0c89-48f6-bc1d-94d5eecdc648"
      },
      "source": [
        "sea = open(\"C:\\\\Users\\\\YD\\\\pythonic\\\\fishes.txt\", \"r\")\n",
        "\n",
        "print(sea.read(33))\n",
        "print(sea.read(33))\n",
        "sea.seek(0)\n",
        "print(sea.read(33))\n",
        "print(sea.tell())\n",
        "\n",
        "sea.close()"
      ],
      "execution_count": null,
      "outputs": [
        {
          "name": "stdout",
          "output_type": "stream",
          "text": [
            "Orca is a kind of Dolphin.\n",
            "Blue W\n",
            "hale is the largest animal known \n",
            "Orca is a kind of Dolphin.\n",
            "Blue W\n",
            "34\n"
          ]
        }
      ]
    },
    {
      "cell_type": "code",
      "metadata": {
        "id": "RsP7Yaucj-Rf",
        "outputId": "667925b9-b897-4d65-b27d-42ff3cc7d94c"
      },
      "source": [
        "rumi = open(\"C:\\\\Users\\\\YD\\\\pythonic\\\\rumi.txt\", \"r\")\n",
        "\n",
        "print(rumi.read(35))\n",
        "print(rumi.read(13))\n",
        "print(rumi.tell())\n",
        "rumi.seek(15)\n",
        "print(rumi.read(21))\n",
        "\n",
        "\n",
        "rumi.close()"
      ],
      "execution_count": null,
      "outputs": [
        {
          "name": "stdout",
          "output_type": "stream",
          "text": [
            "I want to sing\n",
            "Like the birds sing,\n",
            "\n",
            "Not worrying\n",
            "50\n",
            "\n",
            "Like the birds sing,\n"
          ]
        }
      ]
    },
    {
      "cell_type": "code",
      "metadata": {
        "id": "txscP3g7j-Rf",
        "outputId": "b90b0829-58f6-4fe7-83a9-c90891e7fadc"
      },
      "source": [
        "sea = open(\"C:\\\\Users\\\\YD\\\\pythonic\\\\fishes.txt\", \"r\")\n",
        "\n",
        "print(sea.readline())\n",
        "\n",
        "sea.close()"
      ],
      "execution_count": null,
      "outputs": [
        {
          "name": "stdout",
          "output_type": "stream",
          "text": [
            "Orca is a kind of Dolphin.\n",
            "\n"
          ]
        }
      ]
    },
    {
      "cell_type": "code",
      "metadata": {
        "id": "9SVhqGSuj-Rg",
        "outputId": "afd5c637-611a-45ed-ac4c-889c9a9c4ad9"
      },
      "source": [
        "sea = open(\"C:\\\\Users\\\\YD\\\\pythonic\\\\fishes.txt\", \"r\")\n",
        "\n",
        "print(sea.readline())\n",
        "print(sea.readline())\n",
        "print(sea.readline())\n",
        "print(sea.readline())\n",
        "\n",
        "sea.close()"
      ],
      "execution_count": null,
      "outputs": [
        {
          "name": "stdout",
          "output_type": "stream",
          "text": [
            "Orca is a kind of Dolphin.\n",
            "\n",
            "Blue Whale is the largest animal known on earth.\n",
            "\n",
            "Sharks are the sister group to the Rays (batoids).\n",
            "\n",
            "The Tuna Fish can weigh up to 260 kg.\n",
            "\n"
          ]
        }
      ]
    },
    {
      "cell_type": "code",
      "metadata": {
        "id": "L5-7HhgNj-Rg",
        "outputId": "2f4abc74-4fbc-412d-cc04-1ad6d163691d"
      },
      "source": [
        "sea = open(\"C:\\\\Users\\\\YD\\\\pythonic\\\\fishes.txt\", \"r\")\n",
        "\n",
        "print(sea.readline(13))\n",
        "print(sea.readline(13))\n",
        "print(sea.readline(13))\n",
        "print(sea.readline(13))\n",
        "\n",
        "sea.close()"
      ],
      "execution_count": null,
      "outputs": [
        {
          "name": "stdout",
          "output_type": "stream",
          "text": [
            "Orca is a kin\n",
            "d of Dolphin.\n",
            "\n",
            "\n",
            "Blue Whale is\n"
          ]
        }
      ]
    },
    {
      "cell_type": "code",
      "metadata": {
        "id": "Ycvoe4Qxj-Rg",
        "outputId": "f03cecd4-d277-4494-fb0d-3a4e2dbaa92e"
      },
      "source": [
        "sea = open(\"C:\\\\Users\\\\YD\\\\pythonic\\\\fishes.txt\", \"r\")\n",
        "\n",
        "print(sea.readline(13))\n",
        "print(sea.readline(13))\n",
        "print(sea.readline())\n",
        "print(sea.readline(13))\n",
        "\n",
        "sea.close()"
      ],
      "execution_count": null,
      "outputs": [
        {
          "name": "stdout",
          "output_type": "stream",
          "text": [
            "Orca is a kin\n",
            "d of Dolphin.\n",
            "\n",
            "\n",
            "Blue Whale is\n"
          ]
        }
      ]
    },
    {
      "cell_type": "code",
      "metadata": {
        "id": "SEgbtPSwj-Rg",
        "outputId": "2ed6f38a-3cb2-438b-e5bc-2dc0e8b4f284"
      },
      "source": [
        "rumi = open(\"C:\\\\Users\\\\YD\\\\pythonic\\\\rumi.txt\", \"r\")\n",
        "\n",
        "print(rumi.readline())\n",
        "print(rumi.readline())\n",
        "print(rumi.readline(19))\n",
        "\n",
        "rumi.close()"
      ],
      "execution_count": null,
      "outputs": [
        {
          "name": "stdout",
          "output_type": "stream",
          "text": [
            "I want to sing\n",
            "\n",
            "Like the birds sing,\n",
            "\n",
            "Not worrying about\n",
            "\n"
          ]
        }
      ]
    },
    {
      "cell_type": "code",
      "metadata": {
        "id": "2D0pxCvvj-Rg",
        "outputId": "66149ea4-aed2-49a2-db40-3edd8095cbd7"
      },
      "source": [
        "rumi = open(\"C:\\\\Users\\\\YD\\\\pythonic\\\\rumi.txt\", \"r\")\n",
        "\n",
        "for line in rumi:\n",
        "    print(line)\n",
        "\n",
        "rumi.close()"
      ],
      "execution_count": null,
      "outputs": [
        {
          "name": "stdout",
          "output_type": "stream",
          "text": [
            "I want to sing\n",
            "\n",
            "Like the birds sing,\n",
            "\n",
            "Not worrying about\n",
            "\n",
            "Who hears or\n",
            "\n",
            "What they think.\n"
          ]
        }
      ]
    },
    {
      "cell_type": "code",
      "metadata": {
        "id": "-nEotJc5j-Rh",
        "outputId": "d51a6bf4-41f7-420d-beaa-4a321b766d40"
      },
      "source": [
        "rumi = open(\"C:\\\\Users\\\\YD\\\\pythonic\\\\rumi.txt\", \"r\")\n",
        "\n",
        "for line in rumi.readlines():\n",
        "    print(line)\n",
        "\n",
        "rumi.close()"
      ],
      "execution_count": null,
      "outputs": [
        {
          "name": "stdout",
          "output_type": "stream",
          "text": [
            "I want to sing\n",
            "\n",
            "Like the birds sing,\n",
            "\n",
            "Not worrying about\n",
            "\n",
            "Who hears or\n",
            "\n",
            "What they think.\n"
          ]
        }
      ]
    },
    {
      "cell_type": "code",
      "metadata": {
        "id": "8V41jl_Fj-Rh",
        "outputId": "04fd6972-bf10-4109-85cc-6c716c555a9f"
      },
      "source": [
        "with open(\"C:\\\\Users\\\\YD\\\\pythonic\\\\fishes.txt\", \"r\") as sea :\n",
        "    print(sea.read())"
      ],
      "execution_count": null,
      "outputs": [
        {
          "name": "stdout",
          "output_type": "stream",
          "text": [
            "Orca is a kind of Dolphin.\n",
            "Blue Whale is the largest animal known on earth.\n",
            "Sharks are the sister group to the Rays (batoids).\n",
            "The Tuna Fish can weigh up to 260 kg.\n",
            "Squid and Octopus are in the same class.\n"
          ]
        }
      ]
    },
    {
      "cell_type": "code",
      "metadata": {
        "id": "VzHSPL_sj-Rh",
        "outputId": "138eeac4-40f3-4838-89bf-8d52ba41ffab"
      },
      "source": [
        "with open(\"C:\\\\Users\\\\YD\\\\pythonic\\\\fishes.txt\", \"r\") as sea :\n",
        "    print(sea.read(33))\n",
        "    print(sea.read(33))\n",
        "    sea.seek(0)\n",
        "    print(sea.read(33))\n",
        "    print(sea.tell())"
      ],
      "execution_count": null,
      "outputs": [
        {
          "name": "stdout",
          "output_type": "stream",
          "text": [
            "Orca is a kind of Dolphin.\n",
            "Blue W\n",
            "hale is the largest animal known \n",
            "Orca is a kind of Dolphin.\n",
            "Blue W\n",
            "34\n"
          ]
        }
      ]
    },
    {
      "cell_type": "code",
      "metadata": {
        "id": "v3QRH8Sej-Rh"
      },
      "source": [
        "with open(\"benim_ilk_dosyam.txt\", \"w\", encoding = \"utf-8\") as dosyam :\n",
        "    dosyam.write(\"bu benim ilk satırım.\")"
      ],
      "execution_count": null,
      "outputs": []
    },
    {
      "cell_type": "code",
      "metadata": {
        "id": "ZiOc7mUQj-Rh",
        "outputId": "f12ce692-f6fb-43ba-d22e-7f6028eb5131"
      },
      "source": [
        "with open(\"benim_ilk_dosyam.txt\", \"r\", encoding = \"utf-8\") as dosyam :\n",
        "    print(dosyam.read())"
      ],
      "execution_count": null,
      "outputs": [
        {
          "name": "stdout",
          "output_type": "stream",
          "text": [
            "bu benim ilk satırım.\n"
          ]
        }
      ]
    },
    {
      "cell_type": "code",
      "metadata": {
        "id": "kUl3eRF6j-Rh"
      },
      "source": [
        "with open(\"benim_ilk_dosyam.txt\", \"w\", encoding = \"utf-8\") as dosyam :\n",
        "    dosyam.write(\"bu benim ilk satırım. amma aslında ikinci satırım.\\n\")"
      ],
      "execution_count": null,
      "outputs": []
    },
    {
      "cell_type": "code",
      "metadata": {
        "id": "4rNLB2e9j-Ri"
      },
      "source": [
        "with open(\"benim_ilk_dosyam.txt\", \"w\", encoding = \"utf-8\") as dosyam :\n",
        "    dosyam.write(\"bu benim ilk satırım.\\namma aslında ikinci satırım.\\nBu da benim üçüncü satırım.\")"
      ],
      "execution_count": null,
      "outputs": []
    },
    {
      "cell_type": "code",
      "metadata": {
        "id": "x4rCsakRj-Ri"
      },
      "source": [
        "fruits =[\"Banana\", \"Orange\", \"Apple\", \"Strawberry\", \"Cherry\"]"
      ],
      "execution_count": null,
      "outputs": []
    },
    {
      "cell_type": "code",
      "metadata": {
        "id": "_fEZgMRfj-Ri"
      },
      "source": [
        "with open(\"fruits.txt\", \"w\", encoding=\"utf-8\") as file :\n",
        "    for meyve in fruits :\n",
        "        file.write(meyve + \"\\n\")"
      ],
      "execution_count": null,
      "outputs": []
    },
    {
      "cell_type": "code",
      "metadata": {
        "id": "Tkw3-R4Kj-Ri"
      },
      "source": [
        ""
      ],
      "execution_count": null,
      "outputs": []
    }
  ]
}