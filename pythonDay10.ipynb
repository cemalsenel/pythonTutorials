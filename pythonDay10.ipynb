{
  "nbformat": 4,
  "nbformat_minor": 0,
  "metadata": {
    "colab": {
      "name": "pythonDay10.ipynb",
      "provenance": [],
      "collapsed_sections": []
    },
    "kernelspec": {
      "name": "python3",
      "display_name": "Python 3"
    },
    "language_info": {
      "name": "python"
    }
  },
  "cells": [
    {
      "cell_type": "code",
      "metadata": {
        "id": "kEp5WBz8q3kW",
        "colab": {
          "base_uri": "https://localhost:8080/"
        },
        "outputId": "7fbf3d6c-098d-497f-a75f-86a4ee9b69eb"
      },
      "source": [
        "numbers = [1, 4, 8]\n",
        "numbers.insert(2, False)\n",
        "numbers.insert(3,[6, \"Can\"])\n",
        "print(numbers)"
      ],
      "execution_count": 1,
      "outputs": [
        {
          "output_type": "stream",
          "name": "stdout",
          "text": [
            "[1, 4, False, [6, 'Can'], 8]\n"
          ]
        }
      ]
    },
    {
      "cell_type": "code",
      "metadata": {
        "colab": {
          "base_uri": "https://localhost:8080/"
        },
        "id": "2sxjePMGp0fu",
        "outputId": "ca109ac4-140e-4cbf-9e4b-6cf2cfa9cfe8"
      },
      "source": [
        "number = [1, 2, 3, 4]\n",
        "number.insert(4, 5)\n",
        "number.insert(-1, 6)\n",
        "print(number)"
      ],
      "execution_count": 3,
      "outputs": [
        {
          "output_type": "stream",
          "name": "stdout",
          "text": [
            "[1, 2, 3, 4, 6, 5]\n"
          ]
        }
      ]
    },
    {
      "cell_type": "code",
      "metadata": {
        "colab": {
          "base_uri": "https://localhost:8080/"
        },
        "id": "tHpsWfUGp0i5",
        "outputId": "487fd5d8-68f4-4667-d0a2-b320deacd7b1"
      },
      "source": [
        "number = [1, 2, 3, 4]\n",
        "number.remove(4)\n",
        "print(number)"
      ],
      "execution_count": 4,
      "outputs": [
        {
          "output_type": "stream",
          "name": "stdout",
          "text": [
            "[1, 2, 3]\n"
          ]
        }
      ]
    },
    {
      "cell_type": "code",
      "metadata": {
        "colab": {
          "base_uri": "https://localhost:8080/"
        },
        "id": "U_Xozs-Zp0lF",
        "outputId": "338f7719-d089-4604-dc4c-8fb7fe07b0ba"
      },
      "source": [
        "number = [1, 2, 3, 4,8, 11, 5, 21, 89, 16]\n",
        "number.sort()\n",
        "print(number)"
      ],
      "execution_count": 5,
      "outputs": [
        {
          "output_type": "stream",
          "name": "stdout",
          "text": [
            "[1, 2, 3, 4, 5, 8, 11, 16, 21, 89]\n"
          ]
        }
      ]
    },
    {
      "cell_type": "code",
      "metadata": {
        "colab": {
          "base_uri": "https://localhost:8080/"
        },
        "id": "labAHsQgp0qA",
        "outputId": "fb2a531c-64af-40ac-f666-2e2d31ab1363"
      },
      "source": [
        "mix = [1, 'd', 2, 'b']\n",
        "# mix.sort()  # not supported between instances of 'str' and 'int' => aynı tipte veriler olmalı sıralamak için\n",
        "print(mix)"
      ],
      "execution_count": 7,
      "outputs": [
        {
          "output_type": "stream",
          "name": "stdout",
          "text": [
            "[1, 'd', 2, 'b']\n"
          ]
        }
      ]
    },
    {
      "cell_type": "code",
      "metadata": {
        "colab": {
          "base_uri": "https://localhost:8080/"
        },
        "id": "hP3_H1vfp0tN",
        "outputId": "7b96ca49-9ebc-4e94-d213-33c1945da506"
      },
      "source": [
        "list_1 = ['one', 'two', 'three', 'four']\n",
        "list_2 = ['One', 'two', 'three', 'Four']\n",
        "list_1.sort()\n",
        "list_2.sort()\n",
        "print(list_1)\n",
        "print(list_2)"
      ],
      "execution_count": 8,
      "outputs": [
        {
          "output_type": "stream",
          "name": "stdout",
          "text": [
            "['four', 'one', 'three', 'two']\n",
            "['Four', 'One', 'three', 'two']\n"
          ]
        }
      ]
    },
    {
      "cell_type": "code",
      "metadata": {
        "colab": {
          "base_uri": "https://localhost:8080/"
        },
        "id": "0xUHuOJSp0vf",
        "outputId": "91ee7569-2317-4932-c88c-b19f5fb0e4b3"
      },
      "source": [
        "list_2 = ['@', '-*', 'False']  # ASCII codelarına göre sıralar\n",
        "list_2.sort()\n",
        "print(list_2)"
      ],
      "execution_count": 9,
      "outputs": [
        {
          "output_type": "stream",
          "name": "stdout",
          "text": [
            "['-*', '@', 'False']\n"
          ]
        }
      ]
    },
    {
      "cell_type": "code",
      "metadata": {
        "colab": {
          "base_uri": "https://localhost:8080/"
        },
        "id": "64-g_1kqp0yM",
        "outputId": "4cb2b9c9-0375-4005-8ade-e146320fc00f"
      },
      "source": [
        "ord('@')"
      ],
      "execution_count": 12,
      "outputs": [
        {
          "output_type": "execute_result",
          "data": {
            "text/plain": [
              "64"
            ]
          },
          "metadata": {},
          "execution_count": 12
        }
      ]
    },
    {
      "cell_type": "code",
      "metadata": {
        "colab": {
          "base_uri": "https://localhost:8080/"
        },
        "id": "4cXgDC4Kp01P",
        "outputId": "934915a2-bb31-4a34-922d-96b886dba81b"
      },
      "source": [
        "ord('*')"
      ],
      "execution_count": 11,
      "outputs": [
        {
          "output_type": "execute_result",
          "data": {
            "text/plain": [
              "42"
            ]
          },
          "metadata": {},
          "execution_count": 11
        }
      ]
    },
    {
      "cell_type": "code",
      "metadata": {
        "colab": {
          "base_uri": "https://localhost:8080/"
        },
        "id": "Kueqw8c2p03y",
        "outputId": "e41f5de7-31ed-44c4-a79e-c8faa2397640"
      },
      "source": [
        "ord('-')  # 'ord' Return the Unicode code point for a one-character string"
      ],
      "execution_count": 10,
      "outputs": [
        {
          "output_type": "execute_result",
          "data": {
            "text/plain": [
              "45"
            ]
          },
          "metadata": {},
          "execution_count": 10
        }
      ]
    },
    {
      "cell_type": "code",
      "metadata": {
        "colab": {
          "base_uri": "https://localhost:8080/"
        },
        "id": "_4GlwYSdp06u",
        "outputId": "ab5ba7fe-67e9-43e2-f653-8989b15ed67b"
      },
      "source": [
        "boolean_list = [True, False]  # False=0, True=1\n",
        "boolean_list.sort()\n",
        "print(boolean_list)\n"
      ],
      "execution_count": 13,
      "outputs": [
        {
          "output_type": "stream",
          "name": "stdout",
          "text": [
            "[False, True]\n"
          ]
        }
      ]
    },
    {
      "cell_type": "code",
      "metadata": {
        "colab": {
          "base_uri": "https://localhost:8080/"
        },
        "id": "MxhURcp9p09f",
        "outputId": "f2903464-1f49-4607-d0ab-f9d53873bfea"
      },
      "source": [
        "new_list= [[1, 3], [-12, 5], [44, -40], [25, 35]]  # Listenin ilk elemanlarına göre sıralıyor\n",
        "new_list.sort()\n",
        "print(new_list)"
      ],
      "execution_count": 15,
      "outputs": [
        {
          "output_type": "stream",
          "name": "stdout",
          "text": [
            "[[-12, 5], [1, 3], [25, 35], [44, -40]]\n"
          ]
        }
      ]
    },
    {
      "cell_type": "code",
      "metadata": {
        "colab": {
          "base_uri": "https://localhost:8080/"
        },
        "id": "t2Kmwmwap1AL",
        "outputId": "834bb856-676c-4847-eb9e-12c30e452a10"
      },
      "source": [
        "new_list= [[1, \"hello\"], [-12, \"jimmy\"], [44, \"web\"], [25, \"python\"]]\n",
        "new_list.sort()\n",
        "print(new_list)"
      ],
      "execution_count": 16,
      "outputs": [
        {
          "output_type": "stream",
          "name": "stdout",
          "text": [
            "[[-12, 'jimmy'], [1, 'hello'], [25, 'python'], [44, 'web']]\n"
          ]
        }
      ]
    },
    {
      "cell_type": "code",
      "metadata": {
        "colab": {
          "base_uri": "https://localhost:8080/",
          "height": 35
        },
        "id": "lmZz2hdvp1DF",
        "outputId": "955f7db6-9aac-4df5-ebe7-76ab820961be"
      },
      "source": [
        "chr(64)"
      ],
      "execution_count": 17,
      "outputs": [
        {
          "output_type": "execute_result",
          "data": {
            "application/vnd.google.colaboratory.intrinsic+json": {
              "type": "string"
            },
            "text/plain": [
              "'@'"
            ]
          },
          "metadata": {},
          "execution_count": 17
        }
      ]
    },
    {
      "cell_type": "code",
      "metadata": {
        "colab": {
          "base_uri": "https://localhost:8080/",
          "height": 35
        },
        "id": "WaipDZI2p1Gh",
        "outputId": "98571bf4-d007-4b12-d2a5-a9712cb39f21"
      },
      "source": [
        "chr(44)  # chr(64)"
      ],
      "execution_count": 18,
      "outputs": [
        {
          "output_type": "execute_result",
          "data": {
            "application/vnd.google.colaboratory.intrinsic+json": {
              "type": "string"
            },
            "text/plain": [
              "','"
            ]
          },
          "metadata": {},
          "execution_count": 18
        }
      ]
    },
    {
      "cell_type": "code",
      "metadata": {
        "colab": {
          "base_uri": "https://localhost:8080/"
        },
        "id": "iFwYES8cvnQo",
        "outputId": "a7b734b8-dc11-46b6-953f-289bb08cf977"
      },
      "source": [
        "new_list= [[1, \"hello\"], [-12, \"jimmy\"], [44, \"web\"], [25, \"python\"]]\n",
        "new_list.sort(reverse=True)  # default olarak reverse=False\n",
        "print(new_list)"
      ],
      "execution_count": 19,
      "outputs": [
        {
          "output_type": "stream",
          "name": "stdout",
          "text": [
            "[[44, 'web'], [25, 'python'], [1, 'hello'], [-12, 'jimmy']]\n"
          ]
        }
      ]
    },
    {
      "cell_type": "code",
      "metadata": {
        "colab": {
          "base_uri": "https://localhost:8080/"
        },
        "id": "c3Zd7_f2vnTw",
        "outputId": "b5e03f79-90ca-4157-acf5-8227729c3587"
      },
      "source": [
        "list_1 = ['one', 'two', 'three', 'four', 'five', 'six', 'seven']\n",
        "print(list_1[1])\n",
        "print(list_1[3])\n",
        "print(list_1[1:3])\n",
        "print(list_1[1:5:2])"
      ],
      "execution_count": 20,
      "outputs": [
        {
          "output_type": "stream",
          "name": "stdout",
          "text": [
            "two\n",
            "four\n",
            "['two', 'three']\n",
            "['two', 'four']\n"
          ]
        }
      ]
    },
    {
      "cell_type": "code",
      "metadata": {
        "colab": {
          "base_uri": "https://localhost:8080/"
        },
        "id": "gugfXQ73vnWT",
        "outputId": "9b454c7d-0add-4b2d-823d-655f6f063664"
      },
      "source": [
        "new_list= [[1, \"hello\"], [-12, \"jimmy\"], [44, \"web\"], [25, \"python\"]]\n",
        "print(new_list[1][1])\n",
        "print(new_list[1][0])\n",
        "print(new_list[2][1])\n",
        "print(new_list[2][0])"
      ],
      "execution_count": 22,
      "outputs": [
        {
          "output_type": "stream",
          "name": "stdout",
          "text": [
            "jimmy\n",
            "-12\n",
            "web\n",
            "44\n"
          ]
        }
      ]
    },
    {
      "cell_type": "code",
      "metadata": {
        "colab": {
          "base_uri": "https://localhost:8080/"
        },
        "id": "D9JFloSVvnZU",
        "outputId": "e23caec8-69ff-49db-c7d1-398dbc75c0ab"
      },
      "source": [
        "city = [\"Berlin\", \"Augsburg\", \"Günzburg\", \"Düsseldorf\"]\n",
        "city_list = []\n",
        "city_list.append(city)\n",
        "print(city_list)"
      ],
      "execution_count": 3,
      "outputs": [
        {
          "output_type": "stream",
          "name": "stdout",
          "text": [
            "[['Berlin', 'Augsburg', 'Günzburg', 'Düsseldorf']]\n"
          ]
        }
      ]
    },
    {
      "cell_type": "code",
      "metadata": {
        "colab": {
          "base_uri": "https://localhost:8080/"
        },
        "id": "TZoYcstkvnb5",
        "outputId": "582d17f2-8d54-4f36-d84b-8394f6d067f7"
      },
      "source": [
        "len(city_list)"
      ],
      "execution_count": 4,
      "outputs": [
        {
          "output_type": "execute_result",
          "data": {
            "text/plain": [
              "1"
            ]
          },
          "metadata": {},
          "execution_count": 4
        }
      ]
    },
    {
      "cell_type": "code",
      "metadata": {
        "colab": {
          "base_uri": "https://localhost:8080/",
          "height": 35
        },
        "id": "ctfemyrSvne5",
        "outputId": "44211312-9842-437d-d984-e085749d5027"
      },
      "source": [
        "city_list[0][0]"
      ],
      "execution_count": 5,
      "outputs": [
        {
          "output_type": "execute_result",
          "data": {
            "application/vnd.google.colaboratory.intrinsic+json": {
              "type": "string"
            },
            "text/plain": [
              "'Berlin'"
            ]
          },
          "metadata": {},
          "execution_count": 5
        }
      ]
    },
    {
      "cell_type": "code",
      "metadata": {
        "colab": {
          "base_uri": "https://localhost:8080/",
          "height": 35
        },
        "id": "ucPDspZivnhb",
        "outputId": "20b0d756-0b0b-42d1-bc65-1c7b34e19c62"
      },
      "source": [
        "city_list[0][0][0]"
      ],
      "execution_count": 6,
      "outputs": [
        {
          "output_type": "execute_result",
          "data": {
            "application/vnd.google.colaboratory.intrinsic+json": {
              "type": "string"
            },
            "text/plain": [
              "'B'"
            ]
          },
          "metadata": {},
          "execution_count": 6
        }
      ]
    },
    {
      "cell_type": "code",
      "metadata": {
        "colab": {
          "base_uri": "https://localhost:8080/"
        },
        "id": "gq2ybgnRBlyA",
        "outputId": "6f912a0d-36aa-4c1e-808d-0e9ec9dc0666"
      },
      "source": [
        "nums = [[11, [15,17],18,22,25]]\n",
        "nums[0][1:3]"
      ],
      "execution_count": 7,
      "outputs": [
        {
          "output_type": "execute_result",
          "data": {
            "text/plain": [
              "[[15, 17], 18]"
            ]
          },
          "metadata": {},
          "execution_count": 7
        }
      ]
    },
    {
      "cell_type": "code",
      "metadata": {
        "colab": {
          "base_uri": "https://localhost:8080/"
        },
        "id": "jGUUffg1Bl1q",
        "outputId": "574f0a1e-2f29-42e6-9045-6c54a0846e0f"
      },
      "source": [
        "nums = [[11, [15,17],18,22,25]]\n",
        "nums[0][::-1]"
      ],
      "execution_count": 10,
      "outputs": [
        {
          "output_type": "execute_result",
          "data": {
            "text/plain": [
              "[25, 22, 18, [15, 17], 11]"
            ]
          },
          "metadata": {},
          "execution_count": 10
        }
      ]
    },
    {
      "cell_type": "code",
      "metadata": {
        "colab": {
          "base_uri": "https://localhost:8080/"
        },
        "id": "d_gYMy5gBl4y",
        "outputId": "844023e1-a853-4cbf-96f7-88587977b066"
      },
      "source": [
        "nums = [[11, [15,17],18,22,25]]\n",
        "nums[::-1]"
      ],
      "execution_count": 11,
      "outputs": [
        {
          "output_type": "execute_result",
          "data": {
            "text/plain": [
              "[[11, [15, 17], 18, 22, 25]]"
            ]
          },
          "metadata": {},
          "execution_count": 11
        }
      ]
    },
    {
      "cell_type": "code",
      "metadata": {
        "colab": {
          "base_uri": "https://localhost:8080/"
        },
        "id": "SCnk975EvnkF",
        "outputId": "597ad91b-2c78-4e07-d188-ec545d55d713"
      },
      "source": [
        "nums = [[11, [15,17],18,22,25]]\n",
        "len(nums)"
      ],
      "execution_count": 12,
      "outputs": [
        {
          "output_type": "execute_result",
          "data": {
            "text/plain": [
              "1"
            ]
          },
          "metadata": {},
          "execution_count": 12
        }
      ]
    },
    {
      "cell_type": "code",
      "metadata": {
        "colab": {
          "base_uri": "https://localhost:8080/"
        },
        "id": "FxkLOUcPp1JI",
        "outputId": "308a2963-5b31-4457-9ff7-8df40c7a21c3"
      },
      "source": [
        "nums = [[11, [15,17],18,22,25]]\n",
        "len(nums[0])"
      ],
      "execution_count": 13,
      "outputs": [
        {
          "output_type": "execute_result",
          "data": {
            "text/plain": [
              "5"
            ]
          },
          "metadata": {},
          "execution_count": 13
        }
      ]
    },
    {
      "cell_type": "code",
      "metadata": {
        "colab": {
          "base_uri": "https://localhost:8080/"
        },
        "id": "8GrZ-20sp1L7",
        "outputId": "4b51811b-4fa6-4726-ce41-02fad87e82b8"
      },
      "source": [
        "len([[1, 2, 3]][0])"
      ],
      "execution_count": 14,
      "outputs": [
        {
          "output_type": "execute_result",
          "data": {
            "text/plain": [
              "3"
            ]
          },
          "metadata": {},
          "execution_count": 14
        }
      ]
    },
    {
      "cell_type": "code",
      "metadata": {
        "colab": {
          "base_uri": "https://localhost:8080/"
        },
        "id": "YVxv47_ZEo6C",
        "outputId": "5a6540bc-2254-4d8d-9e9a-c99a4122df2d"
      },
      "source": [
        "list(range(4))"
      ],
      "execution_count": 16,
      "outputs": [
        {
          "output_type": "execute_result",
          "data": {
            "text/plain": [
              "[0, 1, 2, 3]"
            ]
          },
          "metadata": {},
          "execution_count": 16
        }
      ]
    },
    {
      "cell_type": "code",
      "metadata": {
        "colab": {
          "base_uri": "https://localhost:8080/"
        },
        "id": "TfVfzT3BEo8n",
        "outputId": "96bb0722-a8f2-42c3-983b-12ba357ad3a0"
      },
      "source": [
        "list(range(1, 11, 1)[0:11:2])"
      ],
      "execution_count": 23,
      "outputs": [
        {
          "output_type": "execute_result",
          "data": {
            "text/plain": [
              "[1, 3, 5, 7, 9]"
            ]
          },
          "metadata": {},
          "execution_count": 23
        }
      ]
    },
    {
      "cell_type": "code",
      "metadata": {
        "colab": {
          "base_uri": "https://localhost:8080/"
        },
        "id": "8P7kffLmEpFW",
        "outputId": "06c5c9fb-599c-481e-b209-536350f4b428"
      },
      "source": [
        "city = [\"Berlin\", \"Augsburg\", \"Günzburg\", \"Düsseldorf\"]\n",
        "city[:]"
      ],
      "execution_count": 24,
      "outputs": [
        {
          "output_type": "execute_result",
          "data": {
            "text/plain": [
              "['Berlin', 'Augsburg', 'Günzburg', 'Düsseldorf']"
            ]
          },
          "metadata": {},
          "execution_count": 24
        }
      ]
    },
    {
      "cell_type": "code",
      "metadata": {
        "colab": {
          "base_uri": "https://localhost:8080/"
        },
        "id": "vX4W6oBAEpIn",
        "outputId": "90309996-5e49-44a2-b63b-e2b9cf6e30a4"
      },
      "source": [
        "city = [\"Berlin\", \"Augsburg\", \"Günzburg\", \"Düsseldorf\"]\n",
        "city[2:]"
      ],
      "execution_count": 25,
      "outputs": [
        {
          "output_type": "execute_result",
          "data": {
            "text/plain": [
              "['Günzburg', 'Düsseldorf']"
            ]
          },
          "metadata": {},
          "execution_count": 25
        }
      ]
    },
    {
      "cell_type": "code",
      "metadata": {
        "colab": {
          "base_uri": "https://localhost:8080/"
        },
        "id": "IOkI_prEEpL1",
        "outputId": "95923f1e-1a6c-4356-e820-5d43908f8212"
      },
      "source": [
        "city = [\"Berlin\", \"Augsburg\", \"Günzburg\", \"Düsseldorf\"]\n",
        "city[:2]"
      ],
      "execution_count": 26,
      "outputs": [
        {
          "output_type": "execute_result",
          "data": {
            "text/plain": [
              "['Berlin', 'Augsburg']"
            ]
          },
          "metadata": {},
          "execution_count": 26
        }
      ]
    },
    {
      "cell_type": "code",
      "metadata": {
        "colab": {
          "base_uri": "https://localhost:8080/"
        },
        "id": "e9EZrO8CEpOk",
        "outputId": "ce0fdebb-e0fd-4a3b-bbcc-647266255a21"
      },
      "source": [
        "city = [\"Berlin\", \"Augsburg\", \"Günzburg\", \"Düsseldorf\"]\n",
        "city[1:3:2]"
      ],
      "execution_count": 27,
      "outputs": [
        {
          "output_type": "execute_result",
          "data": {
            "text/plain": [
              "['Augsburg']"
            ]
          },
          "metadata": {},
          "execution_count": 27
        }
      ]
    },
    {
      "cell_type": "code",
      "metadata": {
        "colab": {
          "base_uri": "https://localhost:8080/"
        },
        "id": "P3M7dbhpEpSH",
        "outputId": "ec4f1f80-223e-4ec6-8220-efc72514b1d9"
      },
      "source": [
        "my_list = [1, [0, \"one\", 2, \"three\", 4, \"five\"], 2]\n",
        "my_list[1][1::2]"
      ],
      "execution_count": 29,
      "outputs": [
        {
          "output_type": "execute_result",
          "data": {
            "text/plain": [
              "['one', 'three', 'five']"
            ]
          },
          "metadata": {},
          "execution_count": 29
        }
      ]
    },
    {
      "cell_type": "code",
      "metadata": {
        "id": "_hJR2bfmHZjq"
      },
      "source": [
        "numbers= [1, 2, 3, 4, 5, 6, 7, 8, 9]\n",
        "numbers[1:7][1:5][1:3]"
      ],
      "execution_count": 34,
      "outputs": []
    },
    {
      "cell_type": "code",
      "metadata": {
        "colab": {
          "base_uri": "https://localhost:8080/"
        },
        "id": "XUIOr61WHZo0",
        "outputId": "a0f85623-b90f-4934-b8ce-c90f23b4c93f"
      },
      "source": [
        "word =  [\"B\", \"e\", \"r\", \"l\", \"i\", \"n\"]\n",
        "word[2:-3]"
      ],
      "execution_count": 35,
      "outputs": [
        {
          "output_type": "execute_result",
          "data": {
            "text/plain": [
              "['r']"
            ]
          },
          "metadata": {},
          "execution_count": 35
        }
      ]
    },
    {
      "cell_type": "code",
      "metadata": {
        "colab": {
          "base_uri": "https://localhost:8080/"
        },
        "id": "mDcrC1wuHZsP",
        "outputId": "1e58caa8-a243-40c3-b4f6-78678e6e69a9"
      },
      "source": [
        "word =  [\"B\", \"e\", \"r\", \"l\", \"i\", \"n\"]  # index => 0, 1, 2, 3, 4, 5 , tersten => -6, -5, -4, -3, -2, -1, bu nedenle -6'dan 3'e kadar olan slice'lama geçerli bir değer\n",
        "word[-6:3]"
      ],
      "execution_count": 37,
      "outputs": [
        {
          "output_type": "execute_result",
          "data": {
            "text/plain": [
              "['B', 'e', 'r']"
            ]
          },
          "metadata": {},
          "execution_count": 37
        }
      ]
    },
    {
      "cell_type": "code",
      "metadata": {
        "colab": {
          "base_uri": "https://localhost:8080/"
        },
        "id": "5GlcbTPvHZ00",
        "outputId": "5dad8e90-13fd-4b2b-c627-acfd55a10a5d"
      },
      "source": [
        "word =  [\"B\", \"e\", \"r\", \"l\", \"i\", \"n\"]\n",
        "word[-3:]"
      ],
      "execution_count": 38,
      "outputs": [
        {
          "output_type": "execute_result",
          "data": {
            "text/plain": [
              "['l', 'i', 'n']"
            ]
          },
          "metadata": {},
          "execution_count": 38
        }
      ]
    },
    {
      "cell_type": "code",
      "metadata": {
        "colab": {
          "base_uri": "https://localhost:8080/"
        },
        "id": "biSQJ-ykI4Ut",
        "outputId": "d0f607f0-97b0-4e98-f7f5-5d7bf92f4a08"
      },
      "source": [
        "word =  [\"B\", \"e\", \"r\", \"l\", \"i\", \"n\"]\n",
        "word[::-1]"
      ],
      "execution_count": 39,
      "outputs": [
        {
          "output_type": "execute_result",
          "data": {
            "text/plain": [
              "['n', 'i', 'l', 'r', 'e', 'B']"
            ]
          },
          "metadata": {},
          "execution_count": 39
        }
      ]
    },
    {
      "cell_type": "code",
      "metadata": {
        "id": "x53Nsi_pI4X6"
      },
      "source": [
        ""
      ],
      "execution_count": null,
      "outputs": []
    }
  ]
}