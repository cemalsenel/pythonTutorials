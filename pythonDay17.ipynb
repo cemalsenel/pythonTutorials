{
  "nbformat": 4,
  "nbformat_minor": 0,
  "metadata": {
    "colab": {
      "name": "pythonDay17.ipynb",
      "provenance": [],
      "collapsed_sections": []
    },
    "kernelspec": {
      "name": "python3",
      "display_name": "Python 3"
    },
    "language_info": {
      "name": "python"
    }
  },
  "cells": [
    {
      "cell_type": "code",
      "metadata": {
        "id": "Jr4yEj2Xqgnm"
      },
      "source": [
        "# Functions"
      ],
      "execution_count": null,
      "outputs": []
    },
    {
      "cell_type": "code",
      "metadata": {
        "colab": {
          "base_uri": "https://localhost:8080/"
        },
        "id": "ET80Kk5LqtK3",
        "outputId": "9853134f-b29d-49a5-d6f4-1521960abd6c"
      },
      "source": [
        "all([\"\", \"dolu\", 1])"
      ],
      "execution_count": 2,
      "outputs": [
        {
          "output_type": "execute_result",
          "data": {
            "text/plain": [
              "True"
            ]
          },
          "metadata": {},
          "execution_count": 2
        }
      ]
    },
    {
      "cell_type": "code",
      "metadata": {
        "colab": {
          "base_uri": "https://localhost:8080/"
        },
        "id": "y3dMTZ0TqtOJ",
        "outputId": "97e86fc4-8cc7-40a7-f7c6-295cae9b793b"
      },
      "source": [
        "all([\" \", \"dolu\", 1])"
      ],
      "execution_count": 5,
      "outputs": [
        {
          "output_type": "execute_result",
          "data": {
            "text/plain": [
              "True"
            ]
          },
          "metadata": {},
          "execution_count": 5
        }
      ]
    },
    {
      "cell_type": "code",
      "metadata": {
        "colab": {
          "base_uri": "https://localhost:8080/"
        },
        "id": "OzG7xOydqtQ2",
        "outputId": "988e989d-64c6-4816-c0e9-a544a2137ba3"
      },
      "source": [
        "all({})"
      ],
      "execution_count": 3,
      "outputs": [
        {
          "output_type": "execute_result",
          "data": {
            "text/plain": [
              "True"
            ]
          },
          "metadata": {},
          "execution_count": 3
        }
      ]
    },
    {
      "cell_type": "code",
      "metadata": {
        "colab": {
          "base_uri": "https://localhost:8080/"
        },
        "id": "1cLY-qsoqtTe",
        "outputId": "daf50b6e-fa14-4aec-94ee-60257b3b702f"
      },
      "source": [
        "all([])"
      ],
      "execution_count": 4,
      "outputs": [
        {
          "output_type": "execute_result",
          "data": {
            "text/plain": [
              "True"
            ]
          },
          "metadata": {},
          "execution_count": 4
        }
      ]
    },
    {
      "cell_type": "code",
      "metadata": {
        "colab": {
          "base_uri": "https://localhost:8080/"
        },
        "id": "2vrOqWkMqtWX",
        "outputId": "61148c0a-35d5-42c6-8071-d407cd385bf0"
      },
      "source": [
        "all([\"\"])"
      ],
      "execution_count": 6,
      "outputs": [
        {
          "output_type": "execute_result",
          "data": {
            "text/plain": [
              "False"
            ]
          },
          "metadata": {},
          "execution_count": 6
        }
      ]
    },
    {
      "cell_type": "code",
      "metadata": {
        "colab": {
          "base_uri": "https://localhost:8080/"
        },
        "id": "4Z8qfYTiqtZV",
        "outputId": "00b77df6-02bd-4c0e-b407-d79d3743f717"
      },
      "source": [
        "all([[]])"
      ],
      "execution_count": 7,
      "outputs": [
        {
          "output_type": "execute_result",
          "data": {
            "text/plain": [
              "False"
            ]
          },
          "metadata": {},
          "execution_count": 7
        }
      ]
    },
    {
      "cell_type": "code",
      "metadata": {
        "colab": {
          "base_uri": "https://localhost:8080/"
        },
        "id": "SduNR6khqtcR",
        "outputId": "dbc0867d-bd73-4a79-a2ee-9c18541109f1"
      },
      "source": [
        "any([\"\", \"dolu\", 0])"
      ],
      "execution_count": 8,
      "outputs": [
        {
          "output_type": "execute_result",
          "data": {
            "text/plain": [
              "True"
            ]
          },
          "metadata": {},
          "execution_count": 8
        }
      ]
    },
    {
      "cell_type": "code",
      "metadata": {
        "colab": {
          "base_uri": "https://localhost:8080/"
        },
        "id": "JyIu6BhAqte5",
        "outputId": "1aefd999-ef30-456c-cc5a-41fb4a3865b3"
      },
      "source": [
        "any([\"\", 0, []])"
      ],
      "execution_count": 9,
      "outputs": [
        {
          "output_type": "execute_result",
          "data": {
            "text/plain": [
              "False"
            ]
          },
          "metadata": {},
          "execution_count": 9
        }
      ]
    },
    {
      "cell_type": "code",
      "metadata": {
        "colab": {
          "base_uri": "https://localhost:8080/"
        },
        "id": "9daMRjOUqthc",
        "outputId": "ab9ab544-8d5c-4bba-b22a-a6ce6eac84b2"
      },
      "source": [
        "any([])"
      ],
      "execution_count": 10,
      "outputs": [
        {
          "output_type": "execute_result",
          "data": {
            "text/plain": [
              "False"
            ]
          },
          "metadata": {},
          "execution_count": 10
        }
      ]
    },
    {
      "cell_type": "code",
      "metadata": {
        "colab": {
          "base_uri": "https://localhost:8080/"
        },
        "id": "ks4TIW2Nqtkh",
        "outputId": "14cffce8-3c3e-437b-dc9e-bc0a5fd6b7b0"
      },
      "source": [
        "any([None, (), 0])"
      ],
      "execution_count": 12,
      "outputs": [
        {
          "output_type": "execute_result",
          "data": {
            "text/plain": [
              "False"
            ]
          },
          "metadata": {},
          "execution_count": 12
        }
      ]
    },
    {
      "cell_type": "code",
      "metadata": {
        "colab": {
          "base_uri": "https://localhost:8080/"
        },
        "id": "f-NJ9qkfqtnm",
        "outputId": "8d728057-ea3d-47a6-af27-ad0aec73a231"
      },
      "source": [
        "print(*filter(None, [1,0, \"Berlin\", [\" \"]]))  # ilk parametre \"None\" ise, iterable olan kısımdaki sadece \"Truthy\" olanları geçirir"
      ],
      "execution_count": 18,
      "outputs": [
        {
          "output_type": "stream",
          "name": "stdout",
          "text": [
            "1 Berlin [' ']\n"
          ]
        }
      ]
    },
    {
      "cell_type": "code",
      "metadata": {
        "colab": {
          "base_uri": "https://localhost:8080/"
        },
        "id": "TcwCCpZbuWr2",
        "outputId": "4ca3b7e7-a2c9-4336-bd6c-2b9c0d064bec"
      },
      "source": [
        "grocery = [\"bread\", \"water\", \"olive\"]\n",
        "enum = enumerate(grocery)  # otomatik indeksliyor\n",
        "print(*enum)\n",
        "\n",
        "enum1 = enumerate(grocery, 10)  # indeksleme 10'dan başlıyor\n",
        "print(*enum1)"
      ],
      "execution_count": 20,
      "outputs": [
        {
          "output_type": "stream",
          "name": "stdout",
          "text": [
            "(0, 'bread') (1, 'water') (2, 'olive')\n",
            "(10, 'bread') (11, 'water') (12, 'olive')\n"
          ]
        }
      ]
    },
    {
      "cell_type": "code",
      "metadata": {
        "id": "nIlIJw0PuWvP"
      },
      "source": [
        ""
      ],
      "execution_count": null,
      "outputs": []
    },
    {
      "cell_type": "code",
      "metadata": {
        "colab": {
          "base_uri": "https://localhost:8080/"
        },
        "id": "9tDzswXQuWx3",
        "outputId": "422051f9-109d-4348-b28c-c9fe2bb49d14"
      },
      "source": [
        "numbers = [12, 15, 25, 45]\n",
        "print(max(numbers), min(numbers))"
      ],
      "execution_count": 21,
      "outputs": [
        {
          "output_type": "stream",
          "name": "stdout",
          "text": [
            "45 12\n"
          ]
        }
      ]
    },
    {
      "cell_type": "code",
      "metadata": {
        "colab": {
          "base_uri": "https://localhost:8080/",
          "height": 35
        },
        "id": "mQtXm7lhuW0g",
        "outputId": "50927ba5-458f-4835-d1ad-071fcfbdaccb"
      },
      "source": [
        "min(\"jimmy\")  # ASCII değerlerine göre karşılaştırır"
      ],
      "execution_count": 22,
      "outputs": [
        {
          "output_type": "execute_result",
          "data": {
            "application/vnd.google.colaboratory.intrinsic+json": {
              "type": "string"
            },
            "text/plain": [
              "'i'"
            ]
          },
          "metadata": {},
          "execution_count": 22
        }
      ]
    },
    {
      "cell_type": "code",
      "metadata": {
        "colab": {
          "base_uri": "https://localhost:8080/",
          "height": 35
        },
        "id": "bFBNiAdRuW3V",
        "outputId": "2c0192b1-e815-4baf-9dd7-7b401db59f9b"
      },
      "source": [
        "max(\"jimmy\")"
      ],
      "execution_count": 23,
      "outputs": [
        {
          "output_type": "execute_result",
          "data": {
            "application/vnd.google.colaboratory.intrinsic+json": {
              "type": "string"
            },
            "text/plain": [
              "'y'"
            ]
          },
          "metadata": {},
          "execution_count": 23
        }
      ]
    },
    {
      "cell_type": "code",
      "metadata": {
        "colab": {
          "base_uri": "https://localhost:8080/"
        },
        "id": "ZIk5nw-9uW6e",
        "outputId": "ac2616f5-42b9-4eb6-88a6-d96878935389"
      },
      "source": [
        "numbers = [12, 25, 45]\n",
        "sum(numbers)"
      ],
      "execution_count": 24,
      "outputs": [
        {
          "output_type": "execute_result",
          "data": {
            "text/plain": [
              "82"
            ]
          },
          "metadata": {},
          "execution_count": 24
        }
      ]
    },
    {
      "cell_type": "code",
      "metadata": {
        "colab": {
          "base_uri": "https://localhost:8080/"
        },
        "id": "tZDjwILBqtqu",
        "outputId": "4e3ec962-3fe0-4b7f-e1a0-7cc4abb82c98"
      },
      "source": [
        "ord(\"a\")"
      ],
      "execution_count": 26,
      "outputs": [
        {
          "output_type": "execute_result",
          "data": {
            "text/plain": [
              "97"
            ]
          },
          "metadata": {},
          "execution_count": 26
        }
      ]
    },
    {
      "cell_type": "code",
      "metadata": {
        "colab": {
          "base_uri": "https://localhost:8080/",
          "height": 35
        },
        "id": "OCHE5yQSqtth",
        "outputId": "ccd80b14-826f-4d9d-bd89-1d162d926856"
      },
      "source": [
        "chr(97)"
      ],
      "execution_count": 30,
      "outputs": [
        {
          "output_type": "execute_result",
          "data": {
            "application/vnd.google.colaboratory.intrinsic+json": {
              "type": "string"
            },
            "text/plain": [
              "'a'"
            ]
          },
          "metadata": {},
          "execution_count": 30
        }
      ]
    },
    {
      "cell_type": "code",
      "metadata": {
        "colab": {
          "base_uri": "https://localhost:8080/"
        },
        "id": "OPERZ40FxHHG",
        "outputId": "5528b432-7eaf-425b-bc99-186d81cad000"
      },
      "source": [
        "nums = [1, 2, 3]\n",
        "sum(nums, 5)"
      ],
      "execution_count": 31,
      "outputs": [
        {
          "output_type": "execute_result",
          "data": {
            "text/plain": [
              "11"
            ]
          },
          "metadata": {},
          "execution_count": 31
        }
      ]
    },
    {
      "cell_type": "code",
      "metadata": {
        "colab": {
          "base_uri": "https://localhost:8080/"
        },
        "id": "3fkUcgOMxHKb",
        "outputId": "9fd3dae0-4be6-41dd-b59c-4b61b4f11393"
      },
      "source": [
        "sum([1, 2, 3, 4])"
      ],
      "execution_count": 32,
      "outputs": [
        {
          "output_type": "execute_result",
          "data": {
            "text/plain": [
              "10"
            ]
          },
          "metadata": {},
          "execution_count": 32
        }
      ]
    },
    {
      "cell_type": "code",
      "metadata": {
        "colab": {
          "base_uri": "https://localhost:8080/"
        },
        "id": "78X3AUbGxHMl",
        "outputId": "f9c09a2c-9ee2-4e58-9897-c4b24432f116"
      },
      "source": [
        "print(round(12))\n",
        "print(round(10.8))\n",
        "print(round(3.665, 2))\n",
        "print(round(3.675, 2))"
      ],
      "execution_count": 36,
      "outputs": [
        {
          "output_type": "stream",
          "name": "stdout",
          "text": [
            "12\n",
            "11\n",
            "3.67\n",
            "3.67\n"
          ]
        }
      ]
    },
    {
      "cell_type": "code",
      "metadata": {
        "colab": {
          "base_uri": "https://localhost:8080/"
        },
        "id": "PmSgbayexHPN",
        "outputId": "7085dd37-6064-4264-d3fc-1bd63edbbecd"
      },
      "source": [
        "def add(x,y):\n",
        "  print(x+y)\n",
        "\n",
        "add(5,5)"
      ],
      "execution_count": 37,
      "outputs": [
        {
          "output_type": "stream",
          "name": "stdout",
          "text": [
            "10\n"
          ]
        }
      ]
    },
    {
      "cell_type": "code",
      "metadata": {
        "colab": {
          "base_uri": "https://localhost:8080/"
        },
        "id": "0y2QRQWSxHRr",
        "outputId": "0947e807-8232-42f3-bdce-f4358aa5c72a"
      },
      "source": [
        "def calculator(x, y, z):\n",
        "  if z == \"+\":\n",
        "    print(x+y)\n",
        "  elif z == \"-\":\n",
        "    print(x-y)\n",
        "  elif z == \"*\":\n",
        "    print(x*y)\n",
        "  elif z == \"/\":\n",
        "    print(x/y)\n",
        "  else:\n",
        "    print(\"Enter a valid operator\")\n",
        "\n",
        "calculator(4, 5, \"-\")"
      ],
      "execution_count": 40,
      "outputs": [
        {
          "output_type": "stream",
          "name": "stdout",
          "text": [
            "-1\n"
          ]
        }
      ]
    },
    {
      "cell_type": "code",
      "metadata": {
        "colab": {
          "base_uri": "https://localhost:8080/"
        },
        "id": "ww_GhF-hxHUj",
        "outputId": "e4486b26-ae3c-42c3-d112-0058888f4c41"
      },
      "source": [
        "def multiply(x,y):\n",
        "  return x*y \n",
        "\n",
        "print(multiply(4,5))"
      ],
      "execution_count": 41,
      "outputs": [
        {
          "output_type": "stream",
          "name": "stdout",
          "text": [
            "20\n"
          ]
        }
      ]
    },
    {
      "cell_type": "code",
      "metadata": {
        "colab": {
          "base_uri": "https://localhost:8080/"
        },
        "id": "9C37k-XUxHXC",
        "outputId": "e1a1da11-872e-431f-a220-1347d94985b4"
      },
      "source": [
        "def calculator(x, y, z):\n",
        "  if z == \"+\":\n",
        "    return (x+y)\n",
        "  elif z == \"-\":\n",
        "    return (x-y)\n",
        "  elif z == \"*\":\n",
        "    return (x*y)\n",
        "  elif z == \"/\":\n",
        "    return (x/y)\n",
        "  else:\n",
        "    return (\"Enter a valid operator\")\n",
        "\n",
        "print(calculator(4, 5, \"-\"))"
      ],
      "execution_count": 42,
      "outputs": [
        {
          "output_type": "stream",
          "name": "stdout",
          "text": [
            "-1\n"
          ]
        }
      ]
    },
    {
      "cell_type": "code",
      "metadata": {
        "colab": {
          "base_uri": "https://localhost:8080/"
        },
        "id": "kIMLwis4xHZ-",
        "outputId": "8e0b08ef-90c6-49b3-88fc-e0a5b2ef20c0"
      },
      "source": [
        "while True :\n",
        "  number = input(\"Enter a positive number\")\n",
        "  digits = len(number)\n",
        "  sum = 0\n",
        "\n",
        "  if not number.isdigit():\n",
        "    print(number, \" is invalid entry, enter numeric value!\")\n",
        "  elif int(number) >= 0 :\n",
        "    for i in range(digits):\n",
        "      sum = sum + int(number[i]) ** digits\n",
        "    if sum == int(number):\n",
        "      print(number, \" is an Armstrong number\")\n",
        "    else : \n",
        "      print(number, \" is not an Armstrong number\")\n",
        "      break"
      ],
      "execution_count": 43,
      "outputs": [
        {
          "output_type": "stream",
          "name": "stdout",
          "text": [
            "Enter a positive number407\n",
            "407  is an Armstrong number\n",
            "Enter a positive number678\n",
            "678  is not an Armstrong number\n"
          ]
        }
      ]
    },
    {
      "cell_type": "code",
      "metadata": {
        "colab": {
          "base_uri": "https://localhost:8080/"
        },
        "id": "sf8LxNYXxHdt",
        "outputId": "2e6e1087-050e-4d4b-e84d-b370b42f265f"
      },
      "source": [
        "n = int(input(\"Enter a number : \"))\n",
        "count= 0\n",
        "for i in range(1, num+1):\n",
        "  if  n % i == 0 :\n",
        "    count += 1\n",
        "if (n == 0) or (n == 1) or (count >= 3):\n",
        "  print(n, \" is not a prime number\")\n",
        "else:\n",
        "  print(n, \" is a prime number\")"
      ],
      "execution_count": 46,
      "outputs": [
        {
          "output_type": "stream",
          "name": "stdout",
          "text": [
            "Enter a number : 5\n",
            "5  is a prime number\n"
          ]
        }
      ]
    },
    {
      "cell_type": "code",
      "metadata": {
        "id": "8oUZVSHPqtwv"
      },
      "source": [
        ""
      ],
      "execution_count": null,
      "outputs": []
    }
  ]
}