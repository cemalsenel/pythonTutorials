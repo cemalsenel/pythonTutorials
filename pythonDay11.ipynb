{
  "nbformat": 4,
  "nbformat_minor": 0,
  "metadata": {
    "colab": {
      "name": "pythonDay11.ipynb",
      "provenance": [],
      "collapsed_sections": []
    },
    "kernelspec": {
      "name": "python3",
      "display_name": "Python 3"
    },
    "language_info": {
      "name": "python"
    }
  },
  "cells": [
    {
      "cell_type": "code",
      "metadata": {
        "colab": {
          "base_uri": "https://localhost:8080/"
        },
        "id": "Itripfiw9SNA",
        "outputId": "da998266-c107-47a8-ded2-82489dfa85e6"
      },
      "source": [
        "my_list = [\"Deutschland\", \"Frankreich\", \"Schweiz\", \"Schweden\", \"Österreich\", \"Norwiegen\"]\n",
        "print(my_list[:-3])\n",
        "print(my_list[:3])\n",
        "print(my_list[-3:])\n",
        "print(my_list[3:])\n",
        "print(my_list[::-2])"
      ],
      "execution_count": 5,
      "outputs": [
        {
          "output_type": "stream",
          "name": "stdout",
          "text": [
            "['Deutschland', 'Frankreich', 'Schweiz']\n",
            "['Deutschland', 'Frankreich', 'Schweiz']\n",
            "['Schweden', 'Österreich', 'Norwiegen']\n",
            "['Schweden', 'Österreich', 'Norwiegen']\n",
            "['Norwiegen', 'Schweden', 'Frankreich']\n"
          ]
        }
      ]
    },
    {
      "cell_type": "code",
      "metadata": {
        "colab": {
          "base_uri": "https://localhost:8080/"
        },
        "id": "s3mkhkf-Ae8h",
        "outputId": "5d5d4198-5ad6-44ad-ff35-8704cdefb901"
      },
      "source": [
        "letters = \"a b c d e f g h i j\".split()\n",
        "letters"
      ],
      "execution_count": 8,
      "outputs": [
        {
          "output_type": "execute_result",
          "data": {
            "text/plain": [
              "['a', 'b', 'c', 'd', 'e', 'f', 'g', 'h', 'i', 'j']"
            ]
          },
          "metadata": {},
          "execution_count": 8
        }
      ]
    },
    {
      "cell_type": "code",
      "metadata": {
        "colab": {
          "base_uri": "https://localhost:8080/"
        },
        "id": "cX9gMX1kAe_t",
        "outputId": "e6fe8cf0-b3a7-4c53-f91e-4f5d6dd71c53"
      },
      "source": [
        "letters[7:3:-1]"
      ],
      "execution_count": 9,
      "outputs": [
        {
          "output_type": "execute_result",
          "data": {
            "text/plain": [
              "['h', 'g', 'f', 'e']"
            ]
          },
          "metadata": {},
          "execution_count": 9
        }
      ]
    },
    {
      "cell_type": "code",
      "metadata": {
        "colab": {
          "base_uri": "https://localhost:8080/"
        },
        "id": "P3SFsRgQAfB5",
        "outputId": "14ae9f9d-c295-4aa1-c665-d14a63614124"
      },
      "source": [
        "letters[2:6:-1]  # kapsayacağı alan yok, bundan dolayı boş döndü. 2'den 6'ya -1 ile gidemeyeceği için boş dönüyor."
      ],
      "execution_count": 10,
      "outputs": [
        {
          "output_type": "execute_result",
          "data": {
            "text/plain": [
              "[]"
            ]
          },
          "metadata": {},
          "execution_count": 10
        }
      ]
    },
    {
      "cell_type": "code",
      "metadata": {
        "colab": {
          "base_uri": "https://localhost:8080/"
        },
        "id": "uB_eR-1CAfEt",
        "outputId": "fa02150b-49df-4617-9aa3-09b1fae76724"
      },
      "source": [
        "\"a-b-c-d\".split(\"-\")"
      ],
      "execution_count": 11,
      "outputs": [
        {
          "output_type": "execute_result",
          "data": {
            "text/plain": [
              "['a', 'b', 'c', 'd']"
            ]
          },
          "metadata": {},
          "execution_count": 11
        }
      ]
    },
    {
      "cell_type": "code",
      "metadata": {
        "colab": {
          "base_uri": "https://localhost:8080/"
        },
        "id": "oEKyLVonAfHa",
        "outputId": "f90a4fe2-ea94-4aa3-9663-9eb510ed4de7"
      },
      "source": [
        "land= [\"Deutschland\", \"Frankreich\", \"Schweiz\", \"Schweden\", \"Amerika\", \"Norwiegen\"]\n",
        "sorted(land)"
      ],
      "execution_count": 29,
      "outputs": [
        {
          "output_type": "execute_result",
          "data": {
            "text/plain": [
              "['Amerika', 'Deutschland', 'Frankreich', 'Norwiegen', 'Schweden', 'Schweiz']"
            ]
          },
          "metadata": {},
          "execution_count": 29
        }
      ]
    },
    {
      "cell_type": "code",
      "metadata": {
        "colab": {
          "base_uri": "https://localhost:8080/"
        },
        "id": "1gOIvj4UAfJx",
        "outputId": "a0789956-f403-4679-8476-2de9c55c3f1b"
      },
      "source": [
        "sorted(land, key = len)  # uzunluğa göre sıralıyor"
      ],
      "execution_count": 22,
      "outputs": [
        {
          "output_type": "execute_result",
          "data": {
            "text/plain": [
              "['Schweiz', 'Amerika', 'Schweden', 'Norwiegen', 'Frankreich', 'Deutschland']"
            ]
          },
          "metadata": {},
          "execution_count": 22
        }
      ]
    },
    {
      "cell_type": "code",
      "metadata": {
        "colab": {
          "base_uri": "https://localhost:8080/"
        },
        "id": "h507pP47AfMv",
        "outputId": "039b4722-b1fa-4cc8-cba6-58dc8be2dc1f"
      },
      "source": [
        "sorted(land, key = len, reverse = True)"
      ],
      "execution_count": 23,
      "outputs": [
        {
          "output_type": "execute_result",
          "data": {
            "text/plain": [
              "['Deutschland', 'Frankreich', 'Norwiegen', 'Schweden', 'Schweiz', 'Amerika']"
            ]
          },
          "metadata": {},
          "execution_count": 23
        }
      ]
    },
    {
      "cell_type": "code",
      "metadata": {
        "colab": {
          "base_uri": "https://localhost:8080/"
        },
        "id": "2p8ArrUhAfPr",
        "outputId": "704d88c9-ea3f-4670-dedf-84d209c9d6a9"
      },
      "source": [
        "land= [\"Deutschland\", \"Frankreich\", \"Schweiz\", \"Schweden\", \"Amerika\", \"Norwiegen\"]\n",
        "land.sort(key=len, reverse=True)\n",
        "land"
      ],
      "execution_count": 27,
      "outputs": [
        {
          "output_type": "execute_result",
          "data": {
            "text/plain": [
              "['Deutschland', 'Frankreich', 'Norwiegen', 'Schweden', 'Schweiz', 'Amerika']"
            ]
          },
          "metadata": {},
          "execution_count": 27
        }
      ]
    },
    {
      "cell_type": "code",
      "metadata": {
        "id": "wIYWxUi9H8qw"
      },
      "source": [
        "import sys"
      ],
      "execution_count": 31,
      "outputs": []
    },
    {
      "cell_type": "code",
      "metadata": {
        "colab": {
          "base_uri": "https://localhost:8080/"
        },
        "id": "fCCkCY7nH8t_",
        "outputId": "6a5a4841-0d7c-49be-fc7f-03cb9410d6a6"
      },
      "source": [
        "x = [1, 2, 3]\n",
        "y = (1, 2, 3)\n",
        "print(sys.getsizeof(x))\n",
        "print(sys.getsizeof(y))"
      ],
      "execution_count": 34,
      "outputs": [
        {
          "output_type": "stream",
          "name": "stdout",
          "text": [
            "96\n",
            "80\n"
          ]
        }
      ]
    },
    {
      "cell_type": "code",
      "metadata": {
        "colab": {
          "base_uri": "https://localhost:8080/"
        },
        "id": "sSkDJcbiH8wf",
        "outputId": "87bbe275-ef04-4cbf-fc2b-21c33497c373"
      },
      "source": [
        "## Tuples\n",
        "tuple_1 = (\"h\", \"a\", \"p\", \"p\", \"y\")\n",
        "word =\"happy\"\n",
        "tuple_2 = tuple(word)\n",
        "print(tuple_1)\n",
        "print(tuple_2)"
      ],
      "execution_count": 35,
      "outputs": [
        {
          "output_type": "stream",
          "name": "stdout",
          "text": [
            "('h', 'a', 'p', 'p', 'y')\n",
            "('h', 'a', 'p', 'p', 'y')\n"
          ]
        }
      ]
    },
    {
      "cell_type": "code",
      "metadata": {
        "colab": {
          "base_uri": "https://localhost:8080/"
        },
        "id": "k8b4Br1JH8zM",
        "outputId": "053e55e0-8a9b-4a7e-cb62-43e0e80265ab"
      },
      "source": [
        "x = [\"a\", \"b\", \"c\"]\n",
        "z = tuple(x)\n",
        "z"
      ],
      "execution_count": 36,
      "outputs": [
        {
          "output_type": "execute_result",
          "data": {
            "text/plain": [
              "('a', 'b', 'c')"
            ]
          },
          "metadata": {},
          "execution_count": 36
        }
      ]
    },
    {
      "cell_type": "code",
      "metadata": {
        "id": "jfF3QQ5GK7N6"
      },
      "source": [
        "# tuple oluşturmak için => () veya tuple()"
      ],
      "execution_count": null,
      "outputs": []
    },
    {
      "cell_type": "code",
      "metadata": {
        "colab": {
          "base_uri": "https://localhost:8080/"
        },
        "id": "i9vfxHVHK7Q5",
        "outputId": "5d733d88-a543-4b91-c41e-5f22863f8f7b"
      },
      "source": [
        "my_tuple = (\"Solar\") # tek elemanlı tuple oluşturmak için yanına \",\" konulmalı\n",
        "print(my_tuple, type(my_tuple),sep= \"\\n\")"
      ],
      "execution_count": 37,
      "outputs": [
        {
          "output_type": "stream",
          "name": "stdout",
          "text": [
            "Solar\n",
            "<class 'str'>\n"
          ]
        }
      ]
    },
    {
      "cell_type": "code",
      "metadata": {
        "colab": {
          "base_uri": "https://localhost:8080/"
        },
        "id": "6o0Tf1PUK7Ts",
        "outputId": "ee75dd8f-cf72-4503-fbde-5d7e1082b1a2"
      },
      "source": [
        "x = 1, 2, 3\n",
        "type(x)"
      ],
      "execution_count": 40,
      "outputs": [
        {
          "output_type": "execute_result",
          "data": {
            "text/plain": [
              "tuple"
            ]
          },
          "metadata": {},
          "execution_count": 40
        }
      ]
    },
    {
      "cell_type": "code",
      "metadata": {
        "colab": {
          "base_uri": "https://localhost:8080/"
        },
        "id": "Eua1KjAfK7Wn",
        "outputId": "e2b6b8fc-21db-4c5d-eefd-cb5dd026fe67"
      },
      "source": [
        "y1 = (1)\n",
        "y2 = 1\n",
        "y3 = 1,\n",
        "y4 = (1,)\n",
        "print(type(y1))\n",
        "print(type(y2))\n",
        "print(type(y3))\n",
        "print(type(y4))"
      ],
      "execution_count": 41,
      "outputs": [
        {
          "output_type": "stream",
          "name": "stdout",
          "text": [
            "<class 'int'>\n",
            "<class 'int'>\n",
            "<class 'tuple'>\n",
            "<class 'tuple'>\n"
          ]
        }
      ]
    },
    {
      "cell_type": "code",
      "metadata": {
        "colab": {
          "base_uri": "https://localhost:8080/"
        },
        "id": "WHj_i2hNK7bu",
        "outputId": "a4e5a1cf-bddd-4813-ef79-4f0fe55b4e41"
      },
      "source": [
        "mountain = tuple(\"Alps\")\n",
        "print(mountain)\n",
        "letter = list(\"Alps\")\n",
        "print(letter)"
      ],
      "execution_count": 43,
      "outputs": [
        {
          "output_type": "stream",
          "name": "stdout",
          "text": [
            "('A', 'l', 'p', 's')\n",
            "['A', 'l', 'p', 's']\n"
          ]
        }
      ]
    },
    {
      "cell_type": "code",
      "metadata": {
        "colab": {
          "base_uri": "https://localhost:8080/"
        },
        "id": "9oCbfcW5K7ek",
        "outputId": "4e6de7b7-1073-41c9-a5b9-a7473eb92412"
      },
      "source": [
        "mountain = tuple(\"Alps\")  # list tuple'a, tuple da list'e çevrilebilir\n",
        "print(list(mountain))\n",
        "letter = list(\"Alps\")\n",
        "print(tuple(letter))"
      ],
      "execution_count": 44,
      "outputs": [
        {
          "output_type": "stream",
          "name": "stdout",
          "text": [
            "['A', 'l', 'p', 's']\n",
            "('A', 'l', 'p', 's')\n"
          ]
        }
      ]
    },
    {
      "cell_type": "code",
      "metadata": {
        "colab": {
          "base_uri": "https://localhost:8080/"
        },
        "id": "buARQ81nK7hL",
        "outputId": "517d91d7-a529-4389-bc28-834ae9f61bd9"
      },
      "source": [
        "num = tuple(range(1,10,2))\n",
        "num"
      ],
      "execution_count": 46,
      "outputs": [
        {
          "output_type": "execute_result",
          "data": {
            "text/plain": [
              "(1, 3, 5, 7, 9)"
            ]
          },
          "metadata": {},
          "execution_count": 46
        }
      ]
    },
    {
      "cell_type": "code",
      "metadata": {
        "colab": {
          "base_uri": "https://localhost:8080/"
        },
        "id": "uJQG0CrbK7kS",
        "outputId": "e551606e-c41a-45d3-dce1-bf9c4e2cfb7b"
      },
      "source": [
        "even = (2, 4, 6, 8)\n",
        "even[1]"
      ],
      "execution_count": 47,
      "outputs": [
        {
          "output_type": "execute_result",
          "data": {
            "text/plain": [
              "4"
            ]
          },
          "metadata": {},
          "execution_count": 47
        }
      ]
    },
    {
      "cell_type": "code",
      "metadata": {
        "colab": {
          "base_uri": "https://localhost:8080/"
        },
        "id": "M4StyMo2P1Eu",
        "outputId": "6fe473a4-5167-42f3-f028-d74233f8db1d"
      },
      "source": [
        "mix = (\"11\", 11, [2, \"two\", (\"six\", 6)], (5, \"fair\"))\n",
        "str_mix = mix[2][1:3]\n",
        "print(str_mix, type(str_mix), sep=\"\\n\")"
      ],
      "execution_count": 48,
      "outputs": [
        {
          "output_type": "stream",
          "name": "stdout",
          "text": [
            "['two', ('six', 6)]\n",
            "<class 'list'>\n"
          ]
        }
      ]
    },
    {
      "cell_type": "code",
      "metadata": {
        "colab": {
          "base_uri": "https://localhost:8080/"
        },
        "id": "A2sEXe_CP1JU",
        "outputId": "94104da5-4580-45cd-eb3b-fb51adcce71d"
      },
      "source": [
        "mix = (\"11\", 11, [2, \"two\", (\"six\", 6)], (5, \"fair\"))\n",
        "str_mix = mix[2][2][0]\n",
        "print(str_mix, type(str_mix), sep=\"\\n\")"
      ],
      "execution_count": 49,
      "outputs": [
        {
          "output_type": "stream",
          "name": "stdout",
          "text": [
            "six\n",
            "<class 'str'>\n"
          ]
        }
      ]
    },
    {
      "cell_type": "code",
      "metadata": {
        "colab": {
          "base_uri": "https://localhost:8080/"
        },
        "id": "kQDgONglK7p_",
        "outputId": "9c0c0171-3ea9-4c0c-a918-81c99cb03a2e"
      },
      "source": [
        "mix = (\"11\", 11, [2, \"two\", (\"six\", 6)], (5, \"fair\"))\n",
        "str_mix = mix[1:3]\n",
        "print(str_mix, type(str_mix), sep=\"\\n\")"
      ],
      "execution_count": 50,
      "outputs": [
        {
          "output_type": "stream",
          "name": "stdout",
          "text": [
            "(11, [2, 'two', ('six', 6)])\n",
            "<class 'tuple'>\n"
          ]
        }
      ]
    },
    {
      "cell_type": "code",
      "metadata": {
        "colab": {
          "base_uri": "https://localhost:8080/"
        },
        "id": "pP_FFsk4Tjhm",
        "outputId": "7add918d-150f-4d4e-e3c7-b30f552c7b52"
      },
      "source": [
        "mix = (\"11\", 11, [2, \"two\", (\"six\", 6)], (5, \"fair\"))\n",
        "str_mix = mix[-1]\n",
        "print(str_mix, type(str_mix), sep=\"\\n\")"
      ],
      "execution_count": 52,
      "outputs": [
        {
          "output_type": "stream",
          "name": "stdout",
          "text": [
            "(5, 'fair')\n",
            "<class 'tuple'>\n"
          ]
        }
      ]
    },
    {
      "cell_type": "code",
      "metadata": {
        "colab": {
          "base_uri": "https://localhost:8080/"
        },
        "id": "7yY5PYOyTjm0",
        "outputId": "ae9d35ab-e725-4a00-9d2f-ff9542374b70"
      },
      "source": [
        "mix = (\"11\", 11, [2, \"two\", (\"six\", 6)], (5, \"fair\"))\n",
        "str_mix = mix[-1][-1]\n",
        "print(str_mix, type(str_mix), sep=\"\\n\")"
      ],
      "execution_count": 53,
      "outputs": [
        {
          "output_type": "stream",
          "name": "stdout",
          "text": [
            "fair\n",
            "<class 'str'>\n"
          ]
        }
      ]
    },
    {
      "cell_type": "code",
      "metadata": {
        "colab": {
          "base_uri": "https://localhost:8080/"
        },
        "id": "jop3lUIRTjqb",
        "outputId": "686af5b7-79d3-41ef-9478-b1f42f4e1bd5"
      },
      "source": [
        "mix = (\"11\", 11, [2, \"two\", (\"six\", 6)], (5, \"fair\"))\n",
        "mix[2].append(\"hey\")\n",
        "print(mix)"
      ],
      "execution_count": 61,
      "outputs": [
        {
          "output_type": "stream",
          "name": "stdout",
          "text": [
            "('11', 11, [2, 'two', ('six', 6), 'hey'], (5, 'fair'))\n"
          ]
        }
      ]
    },
    {
      "cell_type": "code",
      "metadata": {
        "colab": {
          "base_uri": "https://localhost:8080/"
        },
        "id": "eML77y37VKb9",
        "outputId": "b2939464-7fd4-427f-d6f4-c4a9c4f416ac"
      },
      "source": [
        "mix[2]"
      ],
      "execution_count": 62,
      "outputs": [
        {
          "output_type": "execute_result",
          "data": {
            "text/plain": [
              "[2, 'two', ('six', 6), 'hey']"
            ]
          },
          "metadata": {},
          "execution_count": 62
        }
      ]
    },
    {
      "cell_type": "code",
      "metadata": {
        "colab": {
          "base_uri": "https://localhost:8080/"
        },
        "id": "rBbr2fvuVKet",
        "outputId": "11ac1b94-341d-4cee-fc36-e53bb8dc56f6"
      },
      "source": [
        "mix[2].remove(\"hey\")\n",
        "mix"
      ],
      "execution_count": 63,
      "outputs": [
        {
          "output_type": "execute_result",
          "data": {
            "text/plain": [
              "('11', 11, [2, 'two', ('six', 6)], (5, 'fair'))"
            ]
          },
          "metadata": {},
          "execution_count": 63
        }
      ]
    },
    {
      "cell_type": "code",
      "metadata": {
        "colab": {
          "base_uri": "https://localhost:8080/"
        },
        "id": "lyMjknq8VYn2",
        "outputId": "6b934f97-437a-4d16-edb9-65337b48e72a"
      },
      "source": [
        "mix[2][2] = 15\n",
        "print(mix)"
      ],
      "execution_count": 64,
      "outputs": [
        {
          "output_type": "stream",
          "name": "stdout",
          "text": [
            "('11', 11, [2, 'two', 15], (5, 'fair'))\n"
          ]
        }
      ]
    },
    {
      "cell_type": "code",
      "metadata": {
        "id": "TxHbpngYVYrL"
      },
      "source": [
        ""
      ],
      "execution_count": null,
      "outputs": []
    }
  ]
}