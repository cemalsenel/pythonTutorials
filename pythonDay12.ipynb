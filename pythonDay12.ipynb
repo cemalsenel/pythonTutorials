{
  "nbformat": 4,
  "nbformat_minor": 0,
  "metadata": {
    "colab": {
      "name": "pythonDay12.ipynb",
      "provenance": [],
      "collapsed_sections": []
    },
    "kernelspec": {
      "name": "python3",
      "display_name": "Python 3"
    },
    "language_info": {
      "name": "python"
    }
  },
  "cells": [
    {
      "cell_type": "code",
      "metadata": {
        "id": "6Psekdxbcf0d"
      },
      "source": [
        "# Dictionaries => {} veya dict()"
      ],
      "execution_count": null,
      "outputs": []
    },
    {
      "cell_type": "code",
      "metadata": {
        "id": "VLMczhA0MRIl"
      },
      "source": [
        "first_dict = {1:\"one\", \"two\":2, False: [1, 2, 3], 1.5 : (\"one\", \"two\"), (1, 2):\"jimmy\"}  # key value olarak list,dictionary kullanılamaz"
      ],
      "execution_count": 3,
      "outputs": []
    },
    {
      "cell_type": "code",
      "metadata": {
        "colab": {
          "base_uri": "https://localhost:8080/"
        },
        "id": "5TrR6mSYMRL1",
        "outputId": "b6bdaf04-e35d-49ff-f65e-a80fa947a6ba"
      },
      "source": [
        "print(first_dict)"
      ],
      "execution_count": 4,
      "outputs": [
        {
          "output_type": "stream",
          "name": "stdout",
          "text": [
            "{1: 'one', 'two': 2, False: [1, 2, 3], 1.5: ('one', 'two'), (1, 2): 'jimmy'}\n"
          ]
        }
      ]
    },
    {
      "cell_type": "code",
      "metadata": {
        "colab": {
          "base_uri": "https://localhost:8080/"
        },
        "id": "pqajdIw7MROD",
        "outputId": "59820350-6a52-4131-be44-b70259e0b5a8"
      },
      "source": [
        "new_dict = dict(one = \"bir\", two = \"iki\")  # key'ler string' w dönüşür\n",
        "new_dict"
      ],
      "execution_count": 8,
      "outputs": [
        {
          "output_type": "execute_result",
          "data": {
            "text/plain": [
              "{'one': 'bir', 'two': 'iki'}"
            ]
          },
          "metadata": {},
          "execution_count": 8
        }
      ]
    },
    {
      "cell_type": "code",
      "metadata": {
        "colab": {
          "base_uri": "https://localhost:8080/"
        },
        "id": "o0C6KJQFMRRK",
        "outputId": "018eed00-2cbd-4e94-a39b-26d5eed474f0"
      },
      "source": [
        "print(new_dict[\"one\"])"
      ],
      "execution_count": 7,
      "outputs": [
        {
          "output_type": "stream",
          "name": "stdout",
          "text": [
            "bir\n"
          ]
        }
      ]
    },
    {
      "cell_type": "code",
      "metadata": {
        "colab": {
          "base_uri": "https://localhost:8080/"
        },
        "id": "DQS6MnEpMRUK",
        "outputId": "5e9cf68f-f9c1-4182-f1c1-6b97aaf7f0a7"
      },
      "source": [
        "city_one =\"Berlin\"\n",
        "city_two = \"München\"\n",
        "cities = {1 : city_one, 2 : city_two}\n",
        "cities"
      ],
      "execution_count": 10,
      "outputs": [
        {
          "output_type": "execute_result",
          "data": {
            "text/plain": [
              "{1: 'Berlin', 2: 'München'}"
            ]
          },
          "metadata": {},
          "execution_count": 10
        }
      ]
    },
    {
      "cell_type": "code",
      "metadata": {
        "colab": {
          "base_uri": "https://localhost:8080/",
          "height": 35
        },
        "id": "1Ut3981NMRWz",
        "outputId": "7e71fde0-b9e2-4efb-88aa-49bd7548b482"
      },
      "source": [
        "cities[1]"
      ],
      "execution_count": 11,
      "outputs": [
        {
          "output_type": "execute_result",
          "data": {
            "application/vnd.google.colaboratory.intrinsic+json": {
              "type": "string"
            },
            "text/plain": [
              "'Berlin'"
            ]
          },
          "metadata": {},
          "execution_count": 11
        }
      ]
    },
    {
      "cell_type": "code",
      "metadata": {
        "colab": {
          "base_uri": "https://localhost:8080/"
        },
        "id": "MAku9BATMRZD",
        "outputId": "a4102aab-7a0e-4531-daef-1060b073b746"
      },
      "source": [
        "cities[3] = \"Augsburg\"\n",
        "cities"
      ],
      "execution_count": 12,
      "outputs": [
        {
          "output_type": "execute_result",
          "data": {
            "text/plain": [
              "{1: 'Berlin', 2: 'München', 3: 'Augsburg'}"
            ]
          },
          "metadata": {},
          "execution_count": 12
        }
      ]
    },
    {
      "cell_type": "code",
      "metadata": {
        "colab": {
          "base_uri": "https://localhost:8080/"
        },
        "id": "N3o7jQqOMRfE",
        "outputId": "7140df6b-0cc6-49c2-b6c0-92f093c99f73"
      },
      "source": [
        "cities[1] = \"Günzburg\"\n",
        "cities"
      ],
      "execution_count": 13,
      "outputs": [
        {
          "output_type": "execute_result",
          "data": {
            "text/plain": [
              "{1: 'Günzburg', 2: 'München', 3: 'Augsburg'}"
            ]
          },
          "metadata": {},
          "execution_count": 13
        }
      ]
    },
    {
      "cell_type": "code",
      "metadata": {
        "colab": {
          "base_uri": "https://localhost:8080/"
        },
        "id": "-viFuTvvMRhu",
        "outputId": "2a07e99a-c640-4ba7-9928-8350c0cc516c"
      },
      "source": [
        "family ={'name1':\"Jimmy\", \"name2\":\"Johnny\", \"name3\":\"Sofia\"}\n",
        "family[\"name4\"] = \"Joseph\"\n",
        "family"
      ],
      "execution_count": 14,
      "outputs": [
        {
          "output_type": "execute_result",
          "data": {
            "text/plain": [
              "{'name1': 'Jimmy', 'name2': 'Johnny', 'name3': 'Sofia', 'name4': 'Joseph'}"
            ]
          },
          "metadata": {},
          "execution_count": 14
        }
      ]
    },
    {
      "cell_type": "code",
      "metadata": {
        "colab": {
          "base_uri": "https://localhost:8080/"
        },
        "id": "XcPaMrn3MRkh",
        "outputId": "cc26c1ec-6016-4795-ae22-98953fed8d56"
      },
      "source": [
        "family = dict(name1 = \"John\", name2 = \"jimmy\", name3 = \"Sofia\", name4 = \"Joe\")\n",
        "family"
      ],
      "execution_count": 35,
      "outputs": [
        {
          "output_type": "execute_result",
          "data": {
            "text/plain": [
              "{'name1': 'John', 'name2': 'jimmy', 'name3': 'Sofia', 'name4': 'Joe'}"
            ]
          },
          "metadata": {},
          "execution_count": 35
        }
      ]
    },
    {
      "cell_type": "code",
      "metadata": {
        "colab": {
          "base_uri": "https://localhost:8080/"
        },
        "id": "lZNr-e-bRLXU",
        "outputId": "25708ff4-bc3e-4ecd-a88b-9158b6181b0c"
      },
      "source": [
        "print(family.items(), \"\\n\")\n",
        "print(family.keys(), \"\\n\")\n",
        "print(family.values())"
      ],
      "execution_count": 19,
      "outputs": [
        {
          "output_type": "stream",
          "name": "stdout",
          "text": [
            "dict_items([('name1', 'John'), ('name2', 'jimmy'), ('name3', 'Sofia'), ('name4', 'Joe')]) \n",
            "\n",
            "dict_keys(['name1', 'name2', 'name3', 'name4']) \n",
            "\n",
            "dict_values(['John', 'jimmy', 'Sofia', 'Joe'])\n"
          ]
        }
      ]
    },
    {
      "cell_type": "code",
      "metadata": {
        "colab": {
          "base_uri": "https://localhost:8080/"
        },
        "id": "G-L3s1nIRLaQ",
        "outputId": "6313191c-0ccd-43e8-b19b-e72642357866"
      },
      "source": [
        "print(list(family.items()), \"\\n\")\n",
        "print(list(family.keys()), \"\\n\")\n",
        "print(list(family.values()))"
      ],
      "execution_count": 21,
      "outputs": [
        {
          "output_type": "stream",
          "name": "stdout",
          "text": [
            "[('name1', 'John'), ('name2', 'jimmy'), ('name3', 'Sofia'), ('name4', 'Joe')] \n",
            "\n",
            "['name1', 'name2', 'name3', 'name4'] \n",
            "\n",
            "['John', 'jimmy', 'Sofia', 'Joe']\n"
          ]
        }
      ]
    },
    {
      "cell_type": "code",
      "metadata": {
        "colab": {
          "base_uri": "https://localhost:8080/"
        },
        "id": "G1Kxfn0zRLdZ",
        "outputId": "bb4da6b5-9d59-42a4-d26a-f6613f4a6b7f"
      },
      "source": [
        "family.update({\"name5\":\"Josh\", \"name6\":\"Bella\"})  # yeni item ekler, object formatında\n",
        "family"
      ],
      "execution_count": 36,
      "outputs": [
        {
          "output_type": "execute_result",
          "data": {
            "text/plain": [
              "{'name1': 'John',\n",
              " 'name2': 'jimmy',\n",
              " 'name3': 'Sofia',\n",
              " 'name4': 'Joe',\n",
              " 'name5': 'Josh',\n",
              " 'name6': 'Bella'}"
            ]
          },
          "metadata": {},
          "execution_count": 36
        }
      ]
    },
    {
      "cell_type": "code",
      "metadata": {
        "colab": {
          "base_uri": "https://localhost:8080/"
        },
        "id": "WpgrByWjRLf7",
        "outputId": "e424499f-d9fb-4a88-9e4c-fc946a17007a"
      },
      "source": [
        "family.update({\"name1\":\"Cemil\", \"name7\":\"Nurettin\"})  # güncelleme ve yeni item eklemeyi yapar\n",
        "family"
      ],
      "execution_count": 37,
      "outputs": [
        {
          "output_type": "execute_result",
          "data": {
            "text/plain": [
              "{'name1': 'Cemil',\n",
              " 'name2': 'jimmy',\n",
              " 'name3': 'Sofia',\n",
              " 'name4': 'Joe',\n",
              " 'name5': 'Josh',\n",
              " 'name6': 'Bella',\n",
              " 'name7': 'Nurettin'}"
            ]
          },
          "metadata": {},
          "execution_count": 37
        }
      ]
    },
    {
      "cell_type": "code",
      "metadata": {
        "colab": {
          "base_uri": "https://localhost:8080/"
        },
        "id": "CBBaUfMDRLik",
        "outputId": "5f92be26-d3f0-4139-bc42-1d77955c967d"
      },
      "source": [
        "del family[\"name7\"]  # item silmek için kullanılır\n",
        "family"
      ],
      "execution_count": 25,
      "outputs": [
        {
          "output_type": "execute_result",
          "data": {
            "text/plain": [
              "{'name1': 'Cemil',\n",
              " 'name2': 'jimmy',\n",
              " 'name3': 'Sofia',\n",
              " 'name4': 'Joe',\n",
              " 'name5': 'Josh',\n",
              " 'name6': 'Bella'}"
            ]
          },
          "metadata": {},
          "execution_count": 25
        }
      ]
    },
    {
      "cell_type": "code",
      "metadata": {
        "colab": {
          "base_uri": "https://localhost:8080/"
        },
        "id": "TMJ82ZA_RLlE",
        "outputId": "6bf1dad6-8c12-4cb6-c3db-d99e3c5bec42"
      },
      "source": [
        "del family[\"name6\"], family[\"name5\"]\n",
        "family"
      ],
      "execution_count": 29,
      "outputs": [
        {
          "output_type": "execute_result",
          "data": {
            "text/plain": [
              "{'name1': 'Cemil', 'name2': 'jimmy', 'name3': 'Sofia', 'name4': 'Joe'}"
            ]
          },
          "metadata": {},
          "execution_count": 29
        }
      ]
    },
    {
      "cell_type": "code",
      "metadata": {
        "colab": {
          "base_uri": "https://localhost:8080/"
        },
        "id": "_7He2V7qRLoD",
        "outputId": "70cd72b0-c350-4925-d913-3bc5960000cd"
      },
      "source": [
        "del family[\"name2\" and \"name1\"]\n",
        "family"
      ],
      "execution_count": 34,
      "outputs": [
        {
          "output_type": "execute_result",
          "data": {
            "text/plain": [
              "{'name2': 'jimmy', 'name4': 'Joe'}"
            ]
          },
          "metadata": {},
          "execution_count": 34
        }
      ]
    },
    {
      "cell_type": "code",
      "metadata": {
        "colab": {
          "base_uri": "https://localhost:8080/"
        },
        "id": "iPT4E2iYRLq6",
        "outputId": "86f22ed2-44c7-4bd1-f077-06119eb95f38"
      },
      "source": [
        "\"name1\" in family"
      ],
      "execution_count": 38,
      "outputs": [
        {
          "output_type": "execute_result",
          "data": {
            "text/plain": [
              "True"
            ]
          },
          "metadata": {},
          "execution_count": 38
        }
      ]
    },
    {
      "cell_type": "code",
      "metadata": {
        "colab": {
          "base_uri": "https://localhost:8080/"
        },
        "id": "TW8yr2pGRLti",
        "outputId": "b24bbf8a-83c6-4ef4-a57b-901be90e44f5"
      },
      "source": [
        "\"name5\" in family"
      ],
      "execution_count": 39,
      "outputs": [
        {
          "output_type": "execute_result",
          "data": {
            "text/plain": [
              "True"
            ]
          },
          "metadata": {},
          "execution_count": 39
        }
      ]
    },
    {
      "cell_type": "code",
      "metadata": {
        "colab": {
          "base_uri": "https://localhost:8080/"
        },
        "id": "JuBR5WZuMRnQ",
        "outputId": "28682395-ee4d-49da-ef81-4050859f3d7f"
      },
      "source": [
        "\"name1\" not in family"
      ],
      "execution_count": 40,
      "outputs": [
        {
          "output_type": "execute_result",
          "data": {
            "text/plain": [
              "False"
            ]
          },
          "metadata": {},
          "execution_count": 40
        }
      ]
    },
    {
      "cell_type": "code",
      "metadata": {
        "colab": {
          "base_uri": "https://localhost:8080/"
        },
        "id": "riiMzZCSMRqF",
        "outputId": "9eaf6f0e-584c-4111-e4a1-23d5874b1f65"
      },
      "source": [
        "\"bir\" in [1, \"bir\", True]"
      ],
      "execution_count": 41,
      "outputs": [
        {
          "output_type": "execute_result",
          "data": {
            "text/plain": [
              "True"
            ]
          },
          "metadata": {},
          "execution_count": 41
        }
      ]
    },
    {
      "cell_type": "code",
      "metadata": {
        "colab": {
          "base_uri": "https://localhost:8080/"
        },
        "id": "eVqjHIgOV2zc",
        "outputId": "c131e8f1-7141-461f-b975-78c918d6c6c2"
      },
      "source": [
        "\"Cemil\" in family.values()"
      ],
      "execution_count": 42,
      "outputs": [
        {
          "output_type": "execute_result",
          "data": {
            "text/plain": [
              "True"
            ]
          },
          "metadata": {},
          "execution_count": 42
        }
      ]
    },
    {
      "cell_type": "code",
      "metadata": {
        "colab": {
          "base_uri": "https://localhost:8080/"
        },
        "id": "LCBRK-1SV212",
        "outputId": "a54d1ac2-f5ee-44d6-9362-c7ba2818f14d"
      },
      "source": [
        "dicts = {\"dict1\":{\"name1\":\"Jimmy\"}, \"dict2\":{\"surname1\":\"Shan\"}}\n",
        "dicts"
      ],
      "execution_count": 43,
      "outputs": [
        {
          "output_type": "execute_result",
          "data": {
            "text/plain": [
              "{'dict1': {'name1': 'Jimmy'}, 'dict2': {'surname1': 'Shan'}}"
            ]
          },
          "metadata": {},
          "execution_count": 43
        }
      ]
    },
    {
      "cell_type": "code",
      "metadata": {
        "colab": {
          "base_uri": "https://localhost:8080/",
          "height": 35
        },
        "id": "cWL0i6stV24v",
        "outputId": "1cc4e6fa-341e-437e-e810-5e5b13dcebab"
      },
      "source": [
        "dicts[\"dict1\"][\"name1\"]"
      ],
      "execution_count": 44,
      "outputs": [
        {
          "output_type": "execute_result",
          "data": {
            "application/vnd.google.colaboratory.intrinsic+json": {
              "type": "string"
            },
            "text/plain": [
              "'Jimmy'"
            ]
          },
          "metadata": {},
          "execution_count": 44
        }
      ]
    },
    {
      "cell_type": "code",
      "metadata": {
        "colab": {
          "base_uri": "https://localhost:8080/"
        },
        "id": "xfsz6L-uYHPI",
        "outputId": "ea402733-0b8f-4ee5-d679-8039d62b9f76"
      },
      "source": [
        "list(dicts[\"dict1\"][\"name1\"])"
      ],
      "execution_count": 45,
      "outputs": [
        {
          "output_type": "execute_result",
          "data": {
            "text/plain": [
              "['J', 'i', 'm', 'm', 'y']"
            ]
          },
          "metadata": {},
          "execution_count": 45
        }
      ]
    },
    {
      "cell_type": "code",
      "metadata": {
        "colab": {
          "base_uri": "https://localhost:8080/"
        },
        "id": "5styl22NYHSu",
        "outputId": "e450e458-8724-4426-b0d1-70335f734c08"
      },
      "source": [
        "list(dicts[\"dict1\"])"
      ],
      "execution_count": 46,
      "outputs": [
        {
          "output_type": "execute_result",
          "data": {
            "text/plain": [
              "['name1']"
            ]
          },
          "metadata": {},
          "execution_count": 46
        }
      ]
    },
    {
      "cell_type": "code",
      "metadata": {
        "colab": {
          "base_uri": "https://localhost:8080/"
        },
        "id": "oZXvuOCrYHV4",
        "outputId": "84cadab7-c4ff-4f6e-acca-ce3e869c9a4b"
      },
      "source": [
        "dicts[\"dict1\"].items()"
      ],
      "execution_count": 47,
      "outputs": [
        {
          "output_type": "execute_result",
          "data": {
            "text/plain": [
              "dict_items([('name1', 'Jimmy')])"
            ]
          },
          "metadata": {},
          "execution_count": 47
        }
      ]
    },
    {
      "cell_type": "code",
      "metadata": {
        "colab": {
          "base_uri": "https://localhost:8080/"
        },
        "id": "I2bhhBjjYHY2",
        "outputId": "75f4b2f7-25e6-4966-c4c3-15cdf9826fca"
      },
      "source": [
        "list(dicts[\"dict1\"].items())"
      ],
      "execution_count": 48,
      "outputs": [
        {
          "output_type": "execute_result",
          "data": {
            "text/plain": [
              "[('name1', 'Jimmy')]"
            ]
          },
          "metadata": {},
          "execution_count": 48
        }
      ]
    },
    {
      "cell_type": "code",
      "metadata": {
        "colab": {
          "base_uri": "https://localhost:8080/"
        },
        "id": "DqGE3l7UYHb-",
        "outputId": "b3d6f02a-3dc4-47c3-a985-6d9dc53c1371"
      },
      "source": [
        "favourite = {\"friends\":{\"friend1\":{\"first\":\"Sue\", \"last\":\"Bold\"}}, \"family\":{\"family1\":{\"first\":\"John\", \"last\":\"Tise\"}}}\n",
        "favourite"
      ],
      "execution_count": 49,
      "outputs": [
        {
          "output_type": "execute_result",
          "data": {
            "text/plain": [
              "{'family': {'family1': {'first': 'John', 'last': 'Tise'}},\n",
              " 'friends': {'friend1': {'first': 'Sue', 'last': 'Bold'}}}"
            ]
          },
          "metadata": {},
          "execution_count": 49
        }
      ]
    },
    {
      "cell_type": "code",
      "metadata": {
        "id": "mfFTOvAhYHfS"
      },
      "source": [
        "# Set => {} ve set()"
      ],
      "execution_count": null,
      "outputs": []
    },
    {
      "cell_type": "code",
      "metadata": {
        "colab": {
          "base_uri": "https://localhost:8080/"
        },
        "id": "3ez0NuBGYHh7",
        "outputId": "fd9630fc-5dc1-49e1-d82c-aecde0dee752"
      },
      "source": [
        "set_1 = {'red', 'blue', 'pink', 'red'}\n",
        "colors= \"red\",\"blue\",\"pink\",\"red\"\n",
        "set_2 = set(colors)\n",
        "print(set_1)\n",
        "print(set_2)"
      ],
      "execution_count": 52,
      "outputs": [
        {
          "output_type": "stream",
          "name": "stdout",
          "text": [
            "{'red', 'pink', 'blue'}\n",
            "{'red', 'pink', 'blue'}\n"
          ]
        }
      ]
    },
    {
      "cell_type": "code",
      "metadata": {
        "colab": {
          "base_uri": "https://localhost:8080/"
        },
        "id": "gfx3GuGwYHk_",
        "outputId": "ebbb0aa2-fba3-4c94-eeb6-d69dac6bb272"
      },
      "source": [
        "letters = \"a b c d e f g h i j k l m n o p r s t u v y z\".split()\n",
        "print(set(letters))"
      ],
      "execution_count": 60,
      "outputs": [
        {
          "output_type": "stream",
          "name": "stdout",
          "text": [
            "{'p', 'h', 'c', 'k', 't', 'm', 's', 'u', 'g', 'v', 'i', 'r', 'a', 'o', 'z', 'n', 'e', 'f', 'b', 'd', 'l', 'y', 'j'}\n"
          ]
        }
      ]
    },
    {
      "cell_type": "code",
      "metadata": {
        "colab": {
          "base_uri": "https://localhost:8080/"
        },
        "id": "H23boyzMYHn3",
        "outputId": "32f801a0-8f5c-4ac2-9a56-dd9d677d4c60"
      },
      "source": [
        "test = {1, \"bir\", 1.0}\n",
        "print(test)\n",
        "len(test)"
      ],
      "execution_count": 62,
      "outputs": [
        {
          "output_type": "stream",
          "name": "stdout",
          "text": [
            "{1, 'bir'}\n"
          ]
        },
        {
          "output_type": "execute_result",
          "data": {
            "text/plain": [
              "2"
            ]
          },
          "metadata": {},
          "execution_count": 62
        }
      ]
    },
    {
      "cell_type": "code",
      "metadata": {
        "id": "j1Ft3Z1ZV272"
      },
      "source": [
        "empty_set = set()  # Boş bir set yalnızca bu şekilde oluşturulur"
      ],
      "execution_count": null,
      "outputs": []
    },
    {
      "cell_type": "code",
      "metadata": {
        "colab": {
          "base_uri": "https://localhost:8080/"
        },
        "id": "A84q_3CXV2_L",
        "outputId": "da67f436-8103-446c-b64b-19b7123b3f9a"
      },
      "source": [
        "flower_list = [\"rose\", \"violet\", \"carnation\", \"orchide\",\"rose\", \"orchide\", \"rose\"]\n",
        "print(list(flower_list))\n",
        "print(set(flower_list))"
      ],
      "execution_count": 65,
      "outputs": [
        {
          "output_type": "stream",
          "name": "stdout",
          "text": [
            "['rose', 'violet', 'carnation', 'orchide', 'rose', 'orchide', 'rose']\n",
            "{'rose', 'orchide', 'violet', 'carnation'}\n"
          ]
        }
      ]
    },
    {
      "cell_type": "code",
      "metadata": {
        "colab": {
          "base_uri": "https://localhost:8080/"
        },
        "id": "wzlzeQEvejck",
        "outputId": "64bf90c4-ce3b-4fca-8840-f76571ee2fbd"
      },
      "source": [
        "a = {\"rose\", \"violet\", \"carnation\", \"orchide\",\"rose\", \"orchide\", \"rose\"}\n",
        "b= {\"rose\", \"violet\", \"carnation\", \"orchide\",\"rose\", \"orchide\", }\n",
        "\n",
        "a == b"
      ],
      "execution_count": 67,
      "outputs": [
        {
          "output_type": "execute_result",
          "data": {
            "text/plain": [
              "True"
            ]
          },
          "metadata": {},
          "execution_count": 67
        }
      ]
    },
    {
      "cell_type": "code",
      "metadata": {
        "colab": {
          "base_uri": "https://localhost:8080/"
        },
        "id": "AmqUDI9fefHa",
        "outputId": "dc4805e8-bacb-464b-a842-df4e3755f1af"
      },
      "source": [
        "1 == 1.0"
      ],
      "execution_count": 66,
      "outputs": [
        {
          "output_type": "execute_result",
          "data": {
            "text/plain": [
              "True"
            ]
          },
          "metadata": {},
          "execution_count": 66
        }
      ]
    }
  ]
}