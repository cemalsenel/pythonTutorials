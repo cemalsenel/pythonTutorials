{
  "nbformat": 4,
  "nbformat_minor": 0,
  "metadata": {
    "kernelspec": {
      "display_name": "Python 3",
      "language": "python",
      "name": "python3"
    },
    "language_info": {
      "codemirror_mode": {
        "name": "ipython",
        "version": 3
      },
      "file_extension": ".py",
      "mimetype": "text/x-python",
      "name": "python",
      "nbconvert_exporter": "python",
      "pygments_lexer": "ipython3",
      "version": "3.7.3"
    },
    "colab": {
      "name": "pythonDay25.ipynb",
      "provenance": [],
      "collapsed_sections": []
    }
  },
  "cells": [
    {
      "cell_type": "markdown",
      "metadata": {
        "id": "FBOB1785j981"
      },
      "source": [
        "### Quesiton - given a list `[1,2,3]` get an all possible output permutation of these numbers in a list."
      ]
    },
    {
      "cell_type": "markdown",
      "metadata": {
        "id": "ijE65_NJj981"
      },
      "source": [
        "Example:\n",
        "\n",
        "Input: ``[1,2,3]``\n",
        "\n",
        "Output:\n",
        "```\n",
        "[\n",
        "  [1,2,3],\n",
        "  [1,3,2],\n",
        "  [2,1,3],\n",
        "  [2,3,1],\n",
        "  [3,1,2],\n",
        "  [3,2,1]\n",
        "]```"
      ]
    },
    {
      "cell_type": "code",
      "metadata": {
        "id": "s-YjRoUrj982"
      },
      "source": [
        "solution = [[]]"
      ],
      "execution_count": null,
      "outputs": []
    },
    {
      "cell_type": "markdown",
      "metadata": {
        "id": "1YiLqiKnj983"
      },
      "source": [
        "### Kalem kağıt kullarak yapılması öngörülen iterasyon çalışması"
      ]
    },
    {
      "cell_type": "code",
      "metadata": {
        "id": "0NxsgNRfj983"
      },
      "source": [
        "# solution-1 = [[1], [2], [3]]\n",
        "# solution-2 = [[1,2], [1,3], [2,1], [2,3], [3,1], [3,2]]\n",
        "# solution-3 = [[1,2,3], [1,3,2], [2,1,3], [2,3,1], [3,1,2], [3,2,1]]"
      ],
      "execution_count": null,
      "outputs": []
    },
    {
      "cell_type": "code",
      "metadata": {
        "id": "w-vQ71cKj984",
        "outputId": "d4440bc3-14e7-4be3-decf-148b678354d5"
      },
      "source": [
        "for i in [[]] :\n",
        "    print(i)"
      ],
      "execution_count": null,
      "outputs": [
        {
          "name": "stdout",
          "output_type": "stream",
          "text": [
            "[]\n"
          ]
        }
      ]
    },
    {
      "cell_type": "code",
      "metadata": {
        "id": "SFDktmsqj985"
      },
      "source": [
        "num = [1,2,3]"
      ],
      "execution_count": null,
      "outputs": []
    },
    {
      "cell_type": "code",
      "metadata": {
        "id": "n1iG1cKBj987",
        "outputId": "2d52cbc8-25aa-4026-d4bf-12b96425430e"
      },
      "source": [
        "num_set = set(num)\n",
        "num_set"
      ],
      "execution_count": null,
      "outputs": [
        {
          "data": {
            "text/plain": [
              "{1, 2, 3}"
            ]
          },
          "execution_count": 6,
          "metadata": {},
          "output_type": "execute_result"
        }
      ]
    },
    {
      "cell_type": "code",
      "metadata": {
        "id": "mQfx2TKJj988",
        "outputId": "b902ce63-f847-4ea8-94a9-42a3e75777d7"
      },
      "source": [
        "set_bos_list = set([])\n",
        "set_bos_list"
      ],
      "execution_count": null,
      "outputs": [
        {
          "data": {
            "text/plain": [
              "set()"
            ]
          },
          "execution_count": 7,
          "metadata": {},
          "output_type": "execute_result"
        }
      ]
    },
    {
      "cell_type": "code",
      "metadata": {
        "id": "DcYnXCjhj988",
        "outputId": "5968a6dc-b216-4bc8-9f26-c585b4a72396"
      },
      "source": [
        "num_set - set_bos_list"
      ],
      "execution_count": null,
      "outputs": [
        {
          "data": {
            "text/plain": [
              "{1, 2, 3}"
            ]
          },
          "execution_count": 8,
          "metadata": {},
          "output_type": "execute_result"
        }
      ]
    },
    {
      "cell_type": "code",
      "metadata": {
        "id": "fo5vqaelj989",
        "outputId": "151b14db-1203-4534-b4bb-21b6efc0f25b"
      },
      "source": [
        "num_set - set([1])"
      ],
      "execution_count": null,
      "outputs": [
        {
          "data": {
            "text/plain": [
              "{2, 3}"
            ]
          },
          "execution_count": 9,
          "metadata": {},
          "output_type": "execute_result"
        }
      ]
    },
    {
      "cell_type": "code",
      "metadata": {
        "id": "0E3m_jFZj98-",
        "outputId": "c55a17ed-8ae1-47a0-99da-7f6deb2cdeff"
      },
      "source": [
        "num_set - set([2])"
      ],
      "execution_count": null,
      "outputs": [
        {
          "data": {
            "text/plain": [
              "{1, 3}"
            ]
          },
          "execution_count": 10,
          "metadata": {},
          "output_type": "execute_result"
        }
      ]
    },
    {
      "cell_type": "code",
      "metadata": {
        "id": "KpMPm2Enj98_",
        "outputId": "35afb5fd-c926-41f9-8f7f-9cad4f65af3f"
      },
      "source": [
        "num_set - set([2,1])"
      ],
      "execution_count": null,
      "outputs": [
        {
          "data": {
            "text/plain": [
              "{3}"
            ]
          },
          "execution_count": 11,
          "metadata": {},
          "output_type": "execute_result"
        }
      ]
    },
    {
      "cell_type": "code",
      "metadata": {
        "id": "zslQYWMJj98_",
        "outputId": "70258da0-0743-46a9-c8f1-c038e8bb4594"
      },
      "source": [
        "[1] + [2,3]"
      ],
      "execution_count": null,
      "outputs": [
        {
          "data": {
            "text/plain": [
              "[1, 2, 3]"
            ]
          },
          "execution_count": 13,
          "metadata": {},
          "output_type": "execute_result"
        }
      ]
    },
    {
      "cell_type": "code",
      "metadata": {
        "id": "CS44D6HMj98_",
        "outputId": "bd1895a9-d506-4791-bf44-8a8a04fb1ccd"
      },
      "source": [
        "[] + [2]"
      ],
      "execution_count": null,
      "outputs": [
        {
          "data": {
            "text/plain": [
              "[2]"
            ]
          },
          "execution_count": 14,
          "metadata": {},
          "output_type": "execute_result"
        }
      ]
    },
    {
      "cell_type": "code",
      "metadata": {
        "id": "y9xj-C6Mj99A",
        "outputId": "7dc74916-4410-4b7a-e632-9b3e062e5ce9"
      },
      "source": [
        "[1] + [2]"
      ],
      "execution_count": null,
      "outputs": [
        {
          "data": {
            "text/plain": [
              "[1, 2]"
            ]
          },
          "execution_count": 15,
          "metadata": {},
          "output_type": "execute_result"
        }
      ]
    },
    {
      "cell_type": "code",
      "metadata": {
        "id": "QdbV6F1lj99A",
        "outputId": "7e1a3729-2562-4971-c632-e1ef4d914c02"
      },
      "source": [
        "num_set - set([1] + [2])"
      ],
      "execution_count": null,
      "outputs": [
        {
          "data": {
            "text/plain": [
              "{3}"
            ]
          },
          "execution_count": 16,
          "metadata": {},
          "output_type": "execute_result"
        }
      ]
    },
    {
      "cell_type": "code",
      "metadata": {
        "id": "1NmHL0V6j99A",
        "outputId": "949abd6a-1bbb-4afe-f6dd-ebc1e37293d3"
      },
      "source": [
        "[1,2] + [3]"
      ],
      "execution_count": null,
      "outputs": [
        {
          "data": {
            "text/plain": [
              "[1, 2, 3]"
            ]
          },
          "execution_count": 17,
          "metadata": {},
          "output_type": "execute_result"
        }
      ]
    },
    {
      "cell_type": "code",
      "metadata": {
        "id": "pm8xahHTj99B"
      },
      "source": [
        "solution = [[]]"
      ],
      "execution_count": null,
      "outputs": []
    },
    {
      "cell_type": "code",
      "metadata": {
        "id": "DdHp_TN7j99B"
      },
      "source": [
        "num_set = set(num)"
      ],
      "execution_count": null,
      "outputs": []
    },
    {
      "cell_type": "code",
      "metadata": {
        "id": "I2Fllk3cj99B"
      },
      "source": [
        "num = [1,2,3]"
      ],
      "execution_count": null,
      "outputs": []
    },
    {
      "cell_type": "code",
      "metadata": {
        "id": "O_LG9v-Tj99B"
      },
      "source": [
        "# solution-1 = [[1], [2], [3]]\n",
        "# solution-2 = [[1,2], [1,3], [2,1], [2,3], [3,1], [3,2]]\n",
        "# solution-3 = [[1,2,3], [1,3,2], [2,1,3], [2,3,1], [3,1,2], [3,2,1]]"
      ],
      "execution_count": null,
      "outputs": []
    },
    {
      "cell_type": "code",
      "metadata": {
        "id": "AyScCyx8j99C",
        "outputId": "70963667-1dae-490d-c63b-6b22dce0eef9"
      },
      "source": [
        "for index in range(len(num)) :\n",
        "    solution = [i + [j] for i in solution for j in num_set.difference(set(i))]\n",
        "    print(solution)\n",
        "solution"
      ],
      "execution_count": null,
      "outputs": [
        {
          "name": "stdout",
          "output_type": "stream",
          "text": [
            "[[1], [2], [3]]\n",
            "[[1, 2], [1, 3], [2, 1], [2, 3], [3, 1], [3, 2]]\n",
            "[[1, 2, 3], [1, 3, 2], [2, 1, 3], [2, 3, 1], [3, 1, 2], [3, 2, 1]]\n"
          ]
        },
        {
          "data": {
            "text/plain": [
              "[[1, 2, 3], [1, 3, 2], [2, 1, 3], [2, 3, 1], [3, 1, 2], [3, 2, 1]]"
            ]
          },
          "execution_count": 38,
          "metadata": {},
          "output_type": "execute_result"
        }
      ]
    },
    {
      "cell_type": "code",
      "metadata": {
        "id": "BWHh8Y0Rj99C",
        "outputId": "c6e8e956-a26e-4fbc-eb17-7adb41de4736"
      },
      "source": [
        "for i in range(3) :\n",
        "    print(\"bugün ayrılık günü\")"
      ],
      "execution_count": null,
      "outputs": [
        {
          "name": "stdout",
          "output_type": "stream",
          "text": [
            "bugün ayrılık günü\n",
            "bugün ayrılık günü\n",
            "bugün ayrılık günü\n"
          ]
        }
      ]
    },
    {
      "cell_type": "code",
      "metadata": {
        "id": "w831MLBuj99D",
        "outputId": "ea674342-bad5-4f40-85aa-d529fa0b8e96"
      },
      "source": [
        "x = []\n",
        "for i in range(3) :\n",
        "    for j in range(4) :\n",
        "        x.append(j+i)\n",
        "x"
      ],
      "execution_count": null,
      "outputs": [
        {
          "data": {
            "text/plain": [
              "[0, 1, 2, 3, 1, 2, 3, 4, 2, 3, 4, 5]"
            ]
          },
          "execution_count": 23,
          "metadata": {},
          "output_type": "execute_result"
        }
      ]
    },
    {
      "cell_type": "code",
      "metadata": {
        "id": "Z5q1wsFOj99D",
        "outputId": "25badf5d-9863-4701-f589-48b0ca5b0966"
      },
      "source": [
        "[j+i for i in range(3) for j in range(4)]"
      ],
      "execution_count": null,
      "outputs": [
        {
          "data": {
            "text/plain": [
              "[0, 1, 2, 3, 1, 2, 3, 4, 2, 3, 4, 5]"
            ]
          },
          "execution_count": 25,
          "metadata": {},
          "output_type": "execute_result"
        }
      ]
    },
    {
      "cell_type": "code",
      "metadata": {
        "id": "k29827ugj99D"
      },
      "source": [
        "def equal(a, b, c):\n",
        "    numbers = [a, b, c]\n",
        "    res = numbers.count(max(numbers, key=numbers.count))\n",
        "    if res > 1 :\n",
        "        return res\n",
        "    else:\n",
        "        return 0"
      ],
      "execution_count": null,
      "outputs": []
    },
    {
      "cell_type": "code",
      "metadata": {
        "id": "lCZgowqhj99D",
        "outputId": "4d2d522d-030e-4ce0-e52c-21bf27bb7a9c"
      },
      "source": [
        "equal(1,2,3)"
      ],
      "execution_count": null,
      "outputs": [
        {
          "data": {
            "text/plain": [
              "0"
            ]
          },
          "execution_count": 44,
          "metadata": {},
          "output_type": "execute_result"
        }
      ]
    },
    {
      "cell_type": "code",
      "metadata": {
        "id": "-5TG65Orj99E"
      },
      "source": [
        "equall = lambda x,y,z : [x,y,z].count(max([x,y,z], key = [x,y,z].count)) \\\n",
        "         if [x,y,z].count(max([x,y,z], key = [x,y,z].count))>1 else 0"
      ],
      "execution_count": null,
      "outputs": []
    },
    {
      "cell_type": "code",
      "metadata": {
        "id": "wUpZt-Quj99E",
        "outputId": "444edd1a-8a28-4f00-bca1-462b7d7ea781"
      },
      "source": [
        "equall(1,2,3)"
      ],
      "execution_count": null,
      "outputs": [
        {
          "data": {
            "text/plain": [
              "0"
            ]
          },
          "execution_count": 51,
          "metadata": {},
          "output_type": "execute_result"
        }
      ]
    },
    {
      "cell_type": "markdown",
      "metadata": {
        "id": "E6zotftEj99E"
      },
      "source": [
        "```python\n",
        "if_body if condition else else_body\n",
        "```"
      ]
    },
    {
      "cell_type": "markdown",
      "metadata": {
        "id": "XgCIHpjSj99E"
      },
      "source": [
        "```python\n",
        "(lambda parametre : statements)(arguments)\n",
        "```"
      ]
    },
    {
      "cell_type": "code",
      "metadata": {
        "id": "IKM47AMNj99E"
      },
      "source": [
        "bb = lambda *x :  list(x).count(max(list(x), key = list(x).count)) \\\n",
        "         if list(x).count(max(list(x), key = list(x).count))>1 else 0"
      ],
      "execution_count": null,
      "outputs": []
    },
    {
      "cell_type": "code",
      "metadata": {
        "id": "B1O6bfWsj99E",
        "outputId": "1a24e3ba-429d-4bc5-9ce5-5ea5b447aa5d"
      },
      "source": [
        "bb(1,1,1,2,3,4)"
      ],
      "execution_count": null,
      "outputs": [
        {
          "data": {
            "text/plain": [
              "3"
            ]
          },
          "execution_count": 53,
          "metadata": {},
          "output_type": "execute_result"
        }
      ]
    },
    {
      "cell_type": "code",
      "metadata": {
        "id": "qhkJqMv9j99F"
      },
      "source": [
        ""
      ],
      "execution_count": null,
      "outputs": []
    },
    {
      "cell_type": "code",
      "metadata": {
        "id": "TAX4X0Q4j99F"
      },
      "source": [
        ""
      ],
      "execution_count": null,
      "outputs": []
    }
  ]
}