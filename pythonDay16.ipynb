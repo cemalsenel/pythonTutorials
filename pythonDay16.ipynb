{
  "nbformat": 4,
  "nbformat_minor": 0,
  "metadata": {
    "colab": {
      "name": "pythonDay16.ipynb",
      "provenance": [],
      "collapsed_sections": []
    },
    "kernelspec": {
      "name": "python3",
      "display_name": "Python 3"
    },
    "language_info": {
      "name": "python"
    }
  },
  "cells": [
    {
      "cell_type": "code",
      "metadata": {
        "colab": {
          "base_uri": "https://localhost:8080/"
        },
        "id": "vvUkZdkrNOIr",
        "outputId": "db15df55-9c7e-4222-9b3a-e0e6c2cfb82a"
      },
      "source": [
        "numbers = [1, 2, 3, 4]\n",
        "texts= [\"one\", \"two\", \"three\", \"four\"]\n",
        "cities = [\"Mekke\", \"Berlin\", \"Paris\", \"Washington\"]\n",
        "\n",
        "print(* zip(numbers, texts, cities))"
      ],
      "execution_count": 1,
      "outputs": [
        {
          "output_type": "stream",
          "name": "stdout",
          "text": [
            "(1, 'one', 'Mekke') (2, 'two', 'Berlin') (3, 'three', 'Paris') (4, 'four', 'Washington')\n"
          ]
        }
      ]
    },
    {
      "cell_type": "code",
      "metadata": {
        "colab": {
          "base_uri": "https://localhost:8080/"
        },
        "id": "BkJig2j7TK2X",
        "outputId": "e8d135cd-c9bc-4e56-cf90-cf17618b2ac6"
      },
      "source": [
        "even = []\n",
        "odd =[]\n",
        "\n",
        "for i in range(10):\n",
        "  if i % 2 :\n",
        "    odd.append(i)\n",
        "  else:\n",
        "    even.append(i)\n",
        "print(odd)\n",
        "print(even)"
      ],
      "execution_count": 4,
      "outputs": [
        {
          "output_type": "stream",
          "name": "stdout",
          "text": [
            "[1, 3, 5, 7, 9]\n",
            "[0, 2, 4, 6, 8]\n"
          ]
        }
      ]
    },
    {
      "cell_type": "code",
      "metadata": {
        "colab": {
          "base_uri": "https://localhost:8080/"
        },
        "id": "2LIJcnOdTK5I",
        "outputId": "e566b591-0015-4ea6-aadd-8af10f51a088"
      },
      "source": [
        "numbers = [11, 2, 24, 61, 48, 33, 3]\n",
        "\n",
        "even = 0\n",
        "odd = 0\n",
        "\n",
        "for i in numbers :\n",
        "  if not i % 2 :\n",
        "    even +=1\n",
        "  else:\n",
        "    odd += 1\n",
        "print(\"The numbers of evens : \", even)\n",
        "print(\"The numbers of odds : \", odd)"
      ],
      "execution_count": 5,
      "outputs": [
        {
          "output_type": "stream",
          "name": "stdout",
          "text": [
            "The numbers of evens :  3\n",
            "The numbers of odds :  4\n"
          ]
        }
      ]
    },
    {
      "cell_type": "code",
      "metadata": {
        "colab": {
          "base_uri": "https://localhost:8080/"
        },
        "id": "khUZZqwOTK7n",
        "outputId": "21996699-54ce-4f11-cb19-b113390821d4"
      },
      "source": [
        "for i in range(1,10):\n",
        "  print(str(i)*i)"
      ],
      "execution_count": 12,
      "outputs": [
        {
          "output_type": "stream",
          "name": "stdout",
          "text": [
            "1\n",
            "22\n",
            "333\n",
            "4444\n",
            "55555\n",
            "666666\n",
            "7777777\n",
            "88888888\n",
            "999999999\n"
          ]
        }
      ]
    },
    {
      "cell_type": "code",
      "metadata": {
        "colab": {
          "base_uri": "https://localhost:8080/"
        },
        "id": "J29JNTGbTK-c",
        "outputId": "2d0c62b5-dc8d-4c6b-ebd5-45df8c5c1d0a"
      },
      "source": [
        "sum = 0\n",
        "for i in range(1,75):\n",
        "  sum += i\n",
        "print(\"Sum : \", sum)"
      ],
      "execution_count": 13,
      "outputs": [
        {
          "output_type": "stream",
          "name": "stdout",
          "text": [
            "Sum :  2775\n"
          ]
        }
      ]
    },
    {
      "cell_type": "code",
      "metadata": {
        "colab": {
          "base_uri": "https://localhost:8080/"
        },
        "id": "73zQ2lnvTLBD",
        "outputId": "c71fcd68-3f00-49e3-90ea-be10212054d2"
      },
      "source": [
        "names = [\"Jimmy\", \"Johnny\"]\n",
        "mood = [\"sad\", \"happy\", \"excited\"]\n",
        "\n",
        "for i in names:\n",
        "  for ii in mood:\n",
        "    print(i, \"is\", ii)"
      ],
      "execution_count": 15,
      "outputs": [
        {
          "output_type": "stream",
          "name": "stdout",
          "text": [
            "Jimmy is sad\n",
            "Jimmy is happy\n",
            "Jimmy is excited\n",
            "Johnny is sad\n",
            "Johnny is happy\n",
            "Johnny is excited\n"
          ]
        }
      ]
    },
    {
      "cell_type": "code",
      "metadata": {
        "id": "5nUTMTaMTLEN"
      },
      "source": [
        "# List Comprehension"
      ],
      "execution_count": null,
      "outputs": []
    },
    {
      "cell_type": "code",
      "metadata": {
        "colab": {
          "base_uri": "https://localhost:8080/"
        },
        "id": "1G1EBBbvTLG1",
        "outputId": "667b7a77-6176-4a37-96be-911c3c03a2db"
      },
      "source": [
        "[print(i,\"is\",ii) for i in names for ii in mood]"
      ],
      "execution_count": 26,
      "outputs": [
        {
          "output_type": "stream",
          "name": "stdout",
          "text": [
            "Jimmy is sad\n",
            "Jimmy is happy\n",
            "Jimmy is excited\n",
            "Johnny is sad\n",
            "Johnny is happy\n",
            "Johnny is excited\n"
          ]
        },
        {
          "output_type": "execute_result",
          "data": {
            "text/plain": [
              "[None, None, None, None, None, None]"
            ]
          },
          "metadata": {},
          "execution_count": 26
        }
      ]
    },
    {
      "cell_type": "code",
      "metadata": {
        "colab": {
          "base_uri": "https://localhost:8080/"
        },
        "id": "7YLoRkUwTLJv",
        "outputId": "ef62db9d-6de0-4b52-b65b-76122a2229b2"
      },
      "source": [
        "my_list = [1, 2, 3, 4, 5, 6, 7, 8, 9]\n",
        "empty_list = []\n",
        "\n",
        "for i in my_list:\n",
        "  if i % 2 :\n",
        "    empty_list.append(i**2)\n",
        "print(empty_list)"
      ],
      "execution_count": 19,
      "outputs": [
        {
          "output_type": "stream",
          "name": "stdout",
          "text": [
            "[1, 9, 25, 49, 81]\n"
          ]
        }
      ]
    },
    {
      "cell_type": "code",
      "metadata": {
        "colab": {
          "base_uri": "https://localhost:8080/"
        },
        "id": "X156u7DLTLMj",
        "outputId": "29d77dcc-79fc-4b30-b276-045812ef2f3a"
      },
      "source": [
        "my_list = [1, 2, 3, 4, 5, 6, 7, 8, 9]\n",
        "# [expression for item in iterable]\n",
        "\n",
        "new_list = [i**2 for i in my_list if i % 2] # Ternary if-condition yapısı => execute-body-1(list-comprehension) if condition else execute-body-2\n",
        "print(new_list)"
      ],
      "execution_count": 25,
      "outputs": [
        {
          "output_type": "stream",
          "name": "stdout",
          "text": [
            "[1, 9, 25, 49, 81]\n"
          ]
        }
      ]
    },
    {
      "cell_type": "code",
      "metadata": {
        "colab": {
          "base_uri": "https://localhost:8080/"
        },
        "id": "DU1f7sOITLP-",
        "outputId": "4d60890d-c75e-467d-d7d6-b96f13b563cb"
      },
      "source": [
        "print(1 if False else 0)  # Ternary if-condition yapısı => execute-body-1 if condition else execute-body-2"
      ],
      "execution_count": 28,
      "outputs": [
        {
          "output_type": "stream",
          "name": "stdout",
          "text": [
            "0\n"
          ]
        }
      ]
    },
    {
      "cell_type": "code",
      "metadata": {
        "colab": {
          "base_uri": "https://localhost:8080/"
        },
        "id": "mALiJo4DTLS3",
        "outputId": "03640716-68f4-4b02-961b-de1863728997"
      },
      "source": [
        "my_list = [1, 2, 3, 4, 5, 6, 7, 8, 9]\n",
        "# [expression for item in iterable]\n",
        "\n",
        "new_list = [i**2 for i in my_list if not i % 2]\n",
        "print(new_list)"
      ],
      "execution_count": 29,
      "outputs": [
        {
          "output_type": "stream",
          "name": "stdout",
          "text": [
            "[4, 16, 36, 64]\n"
          ]
        }
      ]
    },
    {
      "cell_type": "code",
      "metadata": {
        "colab": {
          "base_uri": "https://localhost:8080/"
        },
        "id": "wVDePS9OTLVg",
        "outputId": "3a8b37c4-1411-43b4-9ca1-ef829a917dbe"
      },
      "source": [
        "my_list = [1, 2, 3, 4, 5, 6, 7, 8, 9]\n",
        "a = (i**2 for i in my_list)  # generator object\n",
        "print(*a)"
      ],
      "execution_count": 33,
      "outputs": [
        {
          "output_type": "stream",
          "name": "stdout",
          "text": [
            "1 4 9 16 25 36 49 64 81\n"
          ]
        }
      ]
    },
    {
      "cell_type": "code",
      "metadata": {
        "colab": {
          "base_uri": "https://localhost:8080/"
        },
        "id": "NGwRgRiRTLYZ",
        "outputId": "20e70936-2d54-408a-cb4f-87f201c848a1"
      },
      "source": [
        "a = (i**2 for i in my_list)\n",
        "print(next(a))"
      ],
      "execution_count": 34,
      "outputs": [
        {
          "output_type": "stream",
          "name": "stdout",
          "text": [
            "1\n"
          ]
        }
      ]
    },
    {
      "cell_type": "code",
      "metadata": {
        "colab": {
          "base_uri": "https://localhost:8080/"
        },
        "id": "6jR77h6kTLbq",
        "outputId": "76dc97a0-6d3c-41ed-e555-115de048ed8b"
      },
      "source": [
        "print(next(a))"
      ],
      "execution_count": 35,
      "outputs": [
        {
          "output_type": "stream",
          "name": "stdout",
          "text": [
            "4\n"
          ]
        }
      ]
    },
    {
      "cell_type": "code",
      "metadata": {
        "colab": {
          "base_uri": "https://localhost:8080/"
        },
        "id": "IxTVBmN4jBe9",
        "outputId": "6eab1bdf-bd55-4ece-dbba-5ab731ac1579"
      },
      "source": [
        "print(next(a))"
      ],
      "execution_count": 36,
      "outputs": [
        {
          "output_type": "stream",
          "name": "stdout",
          "text": [
            "9\n"
          ]
        }
      ]
    },
    {
      "cell_type": "code",
      "metadata": {
        "colab": {
          "base_uri": "https://localhost:8080/"
        },
        "id": "wHWxeRePjBkN",
        "outputId": "dcb5de0a-0940-49a4-ef22-cd4933590e96"
      },
      "source": [
        "print(next(a))"
      ],
      "execution_count": 37,
      "outputs": [
        {
          "output_type": "stream",
          "name": "stdout",
          "text": [
            "16\n"
          ]
        }
      ]
    },
    {
      "cell_type": "code",
      "metadata": {
        "colab": {
          "base_uri": "https://localhost:8080/"
        },
        "id": "LLV7C45LjBnJ",
        "outputId": "1f47815c-14e0-40bf-f40e-d22e07f5bfed"
      },
      "source": [
        "print(next(a))"
      ],
      "execution_count": 38,
      "outputs": [
        {
          "output_type": "stream",
          "name": "stdout",
          "text": [
            "25\n"
          ]
        }
      ]
    },
    {
      "cell_type": "code",
      "metadata": {
        "colab": {
          "base_uri": "https://localhost:8080/"
        },
        "id": "p3IDCiHPjBp7",
        "outputId": "c3937ecf-f4d9-44cd-b953-b1a92d1ef206"
      },
      "source": [
        "print(next(a))"
      ],
      "execution_count": 39,
      "outputs": [
        {
          "output_type": "stream",
          "name": "stdout",
          "text": [
            "36\n"
          ]
        }
      ]
    },
    {
      "cell_type": "code",
      "metadata": {
        "colab": {
          "base_uri": "https://localhost:8080/"
        },
        "id": "bmLPrWXXjBs1",
        "outputId": "811b041a-3b19-4a3d-df5e-ad0f87945097"
      },
      "source": [
        "print(next(a))"
      ],
      "execution_count": 40,
      "outputs": [
        {
          "output_type": "stream",
          "name": "stdout",
          "text": [
            "49\n"
          ]
        }
      ]
    },
    {
      "cell_type": "code",
      "metadata": {
        "colab": {
          "base_uri": "https://localhost:8080/"
        },
        "id": "Lon3UWENjBv2",
        "outputId": "043b7e05-010e-4df1-af54-f15a76180e66"
      },
      "source": [
        "print(next(a))"
      ],
      "execution_count": 41,
      "outputs": [
        {
          "output_type": "stream",
          "name": "stdout",
          "text": [
            "64\n"
          ]
        }
      ]
    },
    {
      "cell_type": "code",
      "metadata": {
        "colab": {
          "base_uri": "https://localhost:8080/"
        },
        "id": "hcdFGhrVjBz0",
        "outputId": "54715a39-d522-4c34-b348-03d8afb58d7b"
      },
      "source": [
        "print(next(a))"
      ],
      "execution_count": 42,
      "outputs": [
        {
          "output_type": "stream",
          "name": "stdout",
          "text": [
            "81\n"
          ]
        }
      ]
    },
    {
      "cell_type": "code",
      "metadata": {
        "id": "jNyjYEuhjB3O"
      },
      "source": [
        "print(next(a))  # object'in içi tamamen boşaldığı için, liste boş görünüyor. Eleman iterate edemez"
      ],
      "execution_count": null,
      "outputs": []
    },
    {
      "cell_type": "code",
      "metadata": {
        "id": "Toz8lsafjB6m"
      },
      "source": [
        ""
      ],
      "execution_count": null,
      "outputs": []
    },
    {
      "cell_type": "code",
      "metadata": {
        "id": "oK3Gt4Mel8JS"
      },
      "source": [
        ""
      ],
      "execution_count": null,
      "outputs": []
    },
    {
      "cell_type": "code",
      "metadata": {
        "id": "mAyFTOSil8Mc"
      },
      "source": [
        ""
      ],
      "execution_count": null,
      "outputs": []
    },
    {
      "cell_type": "code",
      "metadata": {
        "id": "vdbWDAf4l8Ot"
      },
      "source": [
        ""
      ],
      "execution_count": null,
      "outputs": []
    },
    {
      "cell_type": "code",
      "metadata": {
        "id": "wj1VHFDBl8R3"
      },
      "source": [
        ""
      ],
      "execution_count": null,
      "outputs": []
    },
    {
      "cell_type": "code",
      "metadata": {
        "id": "dz9s_PY2l8Uw"
      },
      "source": [
        ""
      ],
      "execution_count": null,
      "outputs": []
    }
  ]
}