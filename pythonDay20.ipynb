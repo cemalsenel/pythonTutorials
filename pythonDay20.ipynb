{
  "nbformat": 4,
  "nbformat_minor": 0,
  "metadata": {
    "colab": {
      "name": "pythonDay20.ipynb",
      "provenance": [],
      "collapsed_sections": []
    },
    "kernelspec": {
      "name": "python3",
      "display_name": "Python 3"
    },
    "language_info": {
      "name": "python"
    }
  },
  "cells": [
    {
      "cell_type": "code",
      "metadata": {
        "colab": {
          "base_uri": "https://localhost:8080/"
        },
        "id": "pLehbn97SNTp",
        "outputId": "e8b6758c-b1c3-42ee-f997-52e22473256a"
      },
      "source": [
        "words1 = [\"you\", \"much\", \"hard\"]\n",
        "words2= [\"i\", \"you\", \"he\"]\n",
        "words3 = [\"love\", \"ate\", \"works\"]\n",
        "\n",
        "sentence = map(lambda x, y, z : x + \" \" + y + \" \" + z, words2, words3, words1)\n",
        "\n",
        "for i in sentence:\n",
        "  print(i)"
      ],
      "execution_count": 3,
      "outputs": [
        {
          "output_type": "stream",
          "name": "stdout",
          "text": [
            "i love you\n",
            "you ate much\n",
            "he works hard\n"
          ]
        }
      ]
    },
    {
      "cell_type": "code",
      "metadata": {
        "colab": {
          "base_uri": "https://localhost:8080/"
        },
        "id": "AGBdDbCoXeKH",
        "outputId": "3a9aca33-0787-4fe2-fd6e-bb79187abcf2"
      },
      "source": [
        "nums = [0, 1, 2, 3, 4, 5, 6, 7, 8, 9]\n",
        "\n",
        "even = filter(lambda x : x%2==0, nums)\n",
        "\n",
        "print(*even)"
      ],
      "execution_count": 4,
      "outputs": [
        {
          "output_type": "stream",
          "name": "stdout",
          "text": [
            "0 2 4 6 8\n"
          ]
        }
      ]
    },
    {
      "cell_type": "code",
      "metadata": {
        "colab": {
          "base_uri": "https://localhost:8080/"
        },
        "id": "trnhcwpwXeND",
        "outputId": "1296cc99-4f62-48b6-f119-012df808e174"
      },
      "source": [
        "words = [\"apple\", \"swim\", \"clock\", \"me\", \"kiwi\", \"banana\"]\n",
        "\n",
        "lessthanfive = filter(lambda x : len(x)<=5, words)\n",
        "\n",
        "print(*lessthanfive)"
      ],
      "execution_count": 6,
      "outputs": [
        {
          "output_type": "stream",
          "name": "stdout",
          "text": [
            "apple swim clock me kiwi\n"
          ]
        }
      ]
    },
    {
      "cell_type": "code",
      "metadata": {
        "colab": {
          "base_uri": "https://localhost:8080/"
        },
        "id": "T_5kCzPTXePa",
        "outputId": "26e1afdc-a906-4af2-d165-e3e6891e03e9"
      },
      "source": [
        "words = [\"apple\", \"swim\", \"clock\", \"me\", \"kiwi\", \"banana\"]\n",
        "\n",
        "for i in filter(lambda x : len(x)<=5, words):\n",
        "  print(i)"
      ],
      "execution_count": 7,
      "outputs": [
        {
          "output_type": "stream",
          "name": "stdout",
          "text": [
            "apple\n",
            "swim\n",
            "clock\n",
            "me\n",
            "kiwi\n"
          ]
        }
      ]
    },
    {
      "cell_type": "code",
      "metadata": {
        "colab": {
          "base_uri": "https://localhost:8080/"
        },
        "id": "0RE9FifkXeR3",
        "outputId": "6c9acfa5-6bab-43f0-91b0-7290ad49e630"
      },
      "source": [
        "letters = [\"a\", \"b\", \"c\", \"d\", \"e\", \"f\", \"g\", \"h\", \"i\", \"j\"]\n",
        "\n",
        "vowels = [\"a\", \"e\", \"i\", \"o\", \"u\"]\n",
        "\n",
        "vowel = filter(lambda x : True if x in vowels else False, letters)\n",
        "\n",
        "print(list(vowel))"
      ],
      "execution_count": 8,
      "outputs": [
        {
          "output_type": "stream",
          "name": "stdout",
          "text": [
            "['a', 'e', 'i']\n"
          ]
        }
      ]
    },
    {
      "cell_type": "code",
      "metadata": {
        "colab": {
          "base_uri": "https://localhost:8080/"
        },
        "id": "nDt7eEwKXeUY",
        "outputId": "9cefae70-85d2-4d9b-a1f5-1dd54744d908"
      },
      "source": [
        "def modular_function(n):\n",
        "  return lambda x : x ** n\n",
        "\n",
        "power_of_2 = modular_function(2)\n",
        "power_of_3 = modular_function(3)\n",
        "power_of_4 = modular_function(4)\n",
        "\n",
        "print(power_of_2(2))\n",
        "print(power_of_3(2))\n",
        "print(power_of_4(2))"
      ],
      "execution_count": 10,
      "outputs": [
        {
          "output_type": "stream",
          "name": "stdout",
          "text": [
            "4\n",
            "8\n",
            "16\n"
          ]
        }
      ]
    },
    {
      "cell_type": "code",
      "metadata": {
        "colab": {
          "base_uri": "https://localhost:8080/"
        },
        "id": "GXUchMrqXeW-",
        "outputId": "2934a533-2245-4954-a600-085a3a2bc2da"
      },
      "source": [
        "def repeater(n):\n",
        "  return lambda x : x*n\n",
        "\n",
        "repeater_1 = repeater(1)\n",
        "repeater_2 = repeater(2)\n",
        "repeater_3 = repeater(3)\n",
        "repeater_4 = repeater(4)\n",
        "\n",
        "print(repeater_1(\"ali \"))\n",
        "print(repeater_2(\"ali \"))\n",
        "print(repeater_3(\"ali \"))\n",
        "print(repeater_4(\"ali \"))"
      ],
      "execution_count": 13,
      "outputs": [
        {
          "output_type": "stream",
          "name": "stdout",
          "text": [
            "ali \n",
            "ali ali \n",
            "ali ali ali \n",
            "ali ali ali ali \n"
          ]
        }
      ]
    },
    {
      "cell_type": "code",
      "metadata": {
        "colab": {
          "base_uri": "https://localhost:8080/"
        },
        "id": "Ts4DBnJjXeZb",
        "outputId": "9384772a-c3c5-44e3-dbee-8fe58270d1e8"
      },
      "source": [
        "def functioner(n):\n",
        "  return lambda x : x + \" \" + n\n",
        "\n",
        "print_smile = functioner(\":)\")\n",
        "print_sad = functioner(\":(\")\n",
        "print_neutral = functioner(\":|\")\n",
        "\n",
        "print(print_smile(\"hello\"))\n",
        "print(print_sad(\"hello\"))\n",
        "print(print_neutral(\"hello\"))"
      ],
      "execution_count": 15,
      "outputs": [
        {
          "output_type": "stream",
          "name": "stdout",
          "text": [
            "hello :)\n",
            "hello :(\n",
            "hello :|\n"
          ]
        }
      ]
    },
    {
      "cell_type": "code",
      "metadata": {
        "colab": {
          "base_uri": "https://localhost:8080/"
        },
        "id": "nuIyRU0wXecF",
        "outputId": "db30176f-dc19-4d0f-b3e0-09329c0ee2bc"
      },
      "source": [
        "def func_generator(func_name):\n",
        "  return lambda x : func_name(x)\n",
        "\n",
        "jim_print = func_generator(print)\n",
        "jim_max = func_generator(max)\n",
        "jim_sorted = func_generator(sorted)\n",
        "jim_print(\"hello\")\n",
        "jim_max((1,2,3))"
      ],
      "execution_count": 30,
      "outputs": [
        {
          "output_type": "stream",
          "name": "stdout",
          "text": [
            "hello\n"
          ]
        },
        {
          "output_type": "execute_result",
          "data": {
            "text/plain": [
              "3"
            ]
          },
          "metadata": {},
          "execution_count": 30
        }
      ]
    },
    {
      "cell_type": "code",
      "metadata": {
        "colab": {
          "base_uri": "https://localhost:8080/"
        },
        "id": "05VVy2cpXeep",
        "outputId": "dcdf1f97-121d-438a-a672-e757cfa3099d"
      },
      "source": [
        "jim_sorted([4, 2, 3])"
      ],
      "execution_count": 31,
      "outputs": [
        {
          "output_type": "execute_result",
          "data": {
            "text/plain": [
              "[2, 3, 4]"
            ]
          },
          "metadata": {},
          "execution_count": 31
        }
      ]
    },
    {
      "cell_type": "code",
      "metadata": {
        "id": "is-SwEqBXehf"
      },
      "source": [
        "# Modules"
      ],
      "execution_count": null,
      "outputs": []
    },
    {
      "cell_type": "code",
      "metadata": {
        "id": "uxFIkL_SXekb"
      },
      "source": [
        "import math as m"
      ],
      "execution_count": 36,
      "outputs": []
    },
    {
      "cell_type": "code",
      "metadata": {
        "colab": {
          "base_uri": "https://localhost:8080/"
        },
        "id": "6KmsrTQGiNxQ",
        "outputId": "f098bc64-7d71-40be-b891-be14f2c18468"
      },
      "source": [
        "m.factorial(5)"
      ],
      "execution_count": 37,
      "outputs": [
        {
          "output_type": "execute_result",
          "data": {
            "text/plain": [
              "120"
            ]
          },
          "metadata": {},
          "execution_count": 37
        }
      ]
    },
    {
      "cell_type": "code",
      "metadata": {
        "colab": {
          "base_uri": "https://localhost:8080/"
        },
        "id": "5KTR_1w9iN0E",
        "outputId": "142f11c1-7f19-44fb-9631-1ff8f24de572"
      },
      "source": [
        "math.exp(10)"
      ],
      "execution_count": 38,
      "outputs": [
        {
          "output_type": "execute_result",
          "data": {
            "text/plain": [
              "22026.465794806718"
            ]
          },
          "metadata": {},
          "execution_count": 38
        }
      ]
    },
    {
      "cell_type": "code",
      "metadata": {
        "colab": {
          "base_uri": "https://localhost:8080/"
        },
        "id": "dgusAjgmiN2q",
        "outputId": "bb4107e7-6cd6-4462-e331-324d724a3205"
      },
      "source": [
        "dir(math)"
      ],
      "execution_count": 39,
      "outputs": [
        {
          "output_type": "execute_result",
          "data": {
            "text/plain": [
              "['__doc__',\n",
              " '__loader__',\n",
              " '__name__',\n",
              " '__package__',\n",
              " '__spec__',\n",
              " 'acos',\n",
              " 'acosh',\n",
              " 'asin',\n",
              " 'asinh',\n",
              " 'atan',\n",
              " 'atan2',\n",
              " 'atanh',\n",
              " 'ceil',\n",
              " 'copysign',\n",
              " 'cos',\n",
              " 'cosh',\n",
              " 'degrees',\n",
              " 'e',\n",
              " 'erf',\n",
              " 'erfc',\n",
              " 'exp',\n",
              " 'expm1',\n",
              " 'fabs',\n",
              " 'factorial',\n",
              " 'floor',\n",
              " 'fmod',\n",
              " 'frexp',\n",
              " 'fsum',\n",
              " 'gamma',\n",
              " 'gcd',\n",
              " 'hypot',\n",
              " 'inf',\n",
              " 'isclose',\n",
              " 'isfinite',\n",
              " 'isinf',\n",
              " 'isnan',\n",
              " 'ldexp',\n",
              " 'lgamma',\n",
              " 'log',\n",
              " 'log10',\n",
              " 'log1p',\n",
              " 'log2',\n",
              " 'modf',\n",
              " 'nan',\n",
              " 'pi',\n",
              " 'pow',\n",
              " 'radians',\n",
              " 'remainder',\n",
              " 'sin',\n",
              " 'sinh',\n",
              " 'sqrt',\n",
              " 'tan',\n",
              " 'tanh',\n",
              " 'tau',\n",
              " 'trunc']"
            ]
          },
          "metadata": {},
          "execution_count": 39
        }
      ]
    },
    {
      "cell_type": "code",
      "metadata": {
        "id": "HP0lEwSmiN5Y"
      },
      "source": [
        "from math import pi, log10, factorial"
      ],
      "execution_count": null,
      "outputs": []
    },
    {
      "cell_type": "code",
      "metadata": {
        "id": "nwsjy5tOjhZb"
      },
      "source": [
        "from string import punctuation, digits"
      ],
      "execution_count": 43,
      "outputs": []
    },
    {
      "cell_type": "code",
      "metadata": {
        "colab": {
          "base_uri": "https://localhost:8080/"
        },
        "id": "A2jHrCZnjhcd",
        "outputId": "685a6210-941a-4e12-a204-7399e87ef1b7"
      },
      "source": [
        "print(punctuation, digits)\n"
      ],
      "execution_count": 45,
      "outputs": [
        {
          "output_type": "stream",
          "name": "stdout",
          "text": [
            "!\"#$%&'()*+,-./:;<=>?@[\\]^_`{|}~ 0123456789\n"
          ]
        }
      ]
    },
    {
      "cell_type": "code",
      "metadata": {
        "id": "xGO7qBKTjhfI"
      },
      "source": [
        "import datetime"
      ],
      "execution_count": 60,
      "outputs": []
    },
    {
      "cell_type": "code",
      "metadata": {
        "colab": {
          "base_uri": "https://localhost:8080/"
        },
        "id": "wvn9ngCwjhh9",
        "outputId": "714e458c-8e04-4ee4-d71a-52df1f2abaf2"
      },
      "source": [
        "dir(datetime)"
      ],
      "execution_count": 49,
      "outputs": [
        {
          "output_type": "execute_result",
          "data": {
            "text/plain": [
              "['MAXYEAR',\n",
              " 'MINYEAR',\n",
              " '__builtins__',\n",
              " '__cached__',\n",
              " '__doc__',\n",
              " '__file__',\n",
              " '__loader__',\n",
              " '__name__',\n",
              " '__package__',\n",
              " '__spec__',\n",
              " 'date',\n",
              " 'datetime',\n",
              " 'datetime_CAPI',\n",
              " 'sys',\n",
              " 'time',\n",
              " 'timedelta',\n",
              " 'timezone',\n",
              " 'tzinfo']"
            ]
          },
          "metadata": {},
          "execution_count": 49
        }
      ]
    },
    {
      "cell_type": "code",
      "metadata": {
        "colab": {
          "base_uri": "https://localhost:8080/"
        },
        "id": "-CyRcGu2kzDE",
        "outputId": "8bf3a260-ad9b-4ba5-fbe9-ce97a1ce81ab"
      },
      "source": [
        "print(datetime.date.today())"
      ],
      "execution_count": 52,
      "outputs": [
        {
          "output_type": "stream",
          "name": "stdout",
          "text": [
            "2021-09-07\n"
          ]
        }
      ]
    },
    {
      "cell_type": "code",
      "metadata": {
        "colab": {
          "base_uri": "https://localhost:8080/"
        },
        "id": "3O67VRMzkzFh",
        "outputId": "b80640c2-ff74-4f79-8807-ff3d23c7cc1e"
      },
      "source": [
        "print(datetime.datetime.now())"
      ],
      "execution_count": 64,
      "outputs": [
        {
          "output_type": "stream",
          "name": "stdout",
          "text": [
            "2021-09-07 14:12:06.715658\n"
          ]
        }
      ]
    },
    {
      "cell_type": "code",
      "metadata": {
        "id": "t66zWTUdmjRL"
      },
      "source": [
        "from datetime import date"
      ],
      "execution_count": 65,
      "outputs": []
    },
    {
      "cell_type": "code",
      "metadata": {
        "id": "kWM9SMcfkzIe"
      },
      "source": [
        "birth = date(571, 4, 22)\n",
        "death = date(632, 6, 8)"
      ],
      "execution_count": 66,
      "outputs": []
    },
    {
      "cell_type": "code",
      "metadata": {
        "colab": {
          "base_uri": "https://localhost:8080/"
        },
        "id": "dtxSoD7Ylu54",
        "outputId": "583ce8af-8bc5-4eb8-f150-0f725e7e0fa4"
      },
      "source": [
        "date.toordinal(death) - date.toordinal(birth)"
      ],
      "execution_count": 67,
      "outputs": [
        {
          "output_type": "execute_result",
          "data": {
            "text/plain": [
              "22327"
            ]
          },
          "metadata": {},
          "execution_count": 67
        }
      ]
    },
    {
      "cell_type": "code",
      "metadata": {
        "id": "Hm84AktalvAv"
      },
      "source": [
        "from random import choice"
      ],
      "execution_count": 71,
      "outputs": []
    },
    {
      "cell_type": "code",
      "metadata": {
        "colab": {
          "base_uri": "https://localhost:8080/"
        },
        "id": "bN8Lp0bGlvD3",
        "outputId": "4ca9f494-b52d-4162-ae51-c23b34adfb0a"
      },
      "source": [
        "paths = [\"AWS\", \"DATA\", \"WEB\"]\n",
        "\n",
        "print(choice(paths))"
      ],
      "execution_count": 87,
      "outputs": [
        {
          "output_type": "stream",
          "name": "stdout",
          "text": [
            "WEB\n"
          ]
        }
      ]
    },
    {
      "cell_type": "code",
      "metadata": {
        "id": "C0A2E5XqlvGH"
      },
      "source": [
        ""
      ],
      "execution_count": null,
      "outputs": []
    },
    {
      "cell_type": "code",
      "metadata": {
        "id": "cQeDhydTlvNh"
      },
      "source": [
        ""
      ],
      "execution_count": null,
      "outputs": []
    },
    {
      "cell_type": "code",
      "metadata": {
        "id": "TXv4AxNVlvQx"
      },
      "source": [
        ""
      ],
      "execution_count": null,
      "outputs": []
    }
  ]
}