{
  "nbformat": 4,
  "nbformat_minor": 0,
  "metadata": {
    "kernelspec": {
      "display_name": "Python 3",
      "language": "python",
      "name": "python3"
    },
    "language_info": {
      "codemirror_mode": {
        "name": "ipython",
        "version": 3
      },
      "file_extension": ".py",
      "mimetype": "text/x-python",
      "name": "python",
      "nbconvert_exporter": "python",
      "pygments_lexer": "ipython3",
      "version": "3.7.3"
    },
    "colab": {
      "name": "pythonDay24.ipynb",
      "provenance": [],
      "collapsed_sections": []
    }
  },
  "cells": [
    {
      "cell_type": "markdown",
      "metadata": {
        "id": "UZ8Uu_wvj-mg"
      },
      "source": [
        "### Assignment - 10 Sudoku Formatter"
      ]
    },
    {
      "cell_type": "markdown",
      "metadata": {
        "id": "16fO-HgOj-mg"
      },
      "source": [
        "````\n",
        "sudoku = [\n",
        "    [0, 0, 0, 0, 6, 4, 0, 0, 0],\n",
        "    [7, 0, 0, 0, 0, 0, 3, 9, 0],\n",
        "    [8, 0, 0, 0, 0, 0, 0, 0, 0],\n",
        "    [0, 0, 0, 5, 0, 2, 0, 6, 0],\n",
        "    [0, 8, 0, 4, 0, 0, 0, 0, 0],\n",
        "    [3, 5, 0, 6, 0, 0, 0, 7, 0],\n",
        "    [0, 0, 2, 0, 0, 0, 1, 0, 3],\n",
        "    [0, 0, 1, 0, 5, 9, 0, 0, 0],\n",
        "    [0, 0, 0, 0, 0, 0, 7, 0, 0]\n",
        "]\n",
        "\n",
        "- - - - - - - - - - - - - - - \n",
        "0  0  0  | 0  6  4  | 0  0  0  \n",
        "7  0  0  | 0  0  0  | 3  9  0  \n",
        "8  0  0  | 0  0  0  | 0  0  0  \n",
        "- - - - - - - - - - - - - - - \n",
        "0  0  0  | 5  0  2  | 0  6  0  \n",
        "0  8  0  | 4  0  0  | 0  0  0  \n",
        "3  5  0  | 6  0  0  | 0  7  0  \n",
        "- - - - - - - - - - - - - - - \n",
        "0  0  2  | 0  0  0  | 1  0  3  \n",
        "0  0  1  | 0  5  9  | 0  0  0  \n",
        "0  0  0  | 0  0  0  | 7  0  0  \n",
        "- - - - - - - - - - - - - - - \n",
        "```"
      ]
    },
    {
      "cell_type": "code",
      "metadata": {
        "id": "iE7H9A2kj-mg"
      },
      "source": [
        "sudoku = [\n",
        "    [0, 0, 0, 0, 6, 4, 0, 0, 0],\n",
        "    [7, 0, 0, 0, 0, 0, 3, 9, 0],\n",
        "    [8, 0, 0, 0, 0, 0, 0, 0, 0],\n",
        "    [0, 0, 0, 5, 0, 2, 0, 6, 0],\n",
        "    [0, 8, 0, 4, 0, 0, 0, 0, 0],\n",
        "    [3, 5, 0, 6, 0, 0, 0, 7, 0],\n",
        "    [0, 0, 2, 0, 0, 0, 1, 0, 3],\n",
        "    [0, 0, 1, 0, 5, 9, 0, 0, 0],\n",
        "    [0, 0, 0, 0, 0, 0, 7, 0, 0]\n",
        "]"
      ],
      "execution_count": null,
      "outputs": []
    },
    {
      "cell_type": "code",
      "metadata": {
        "id": "65Vxmylej-mi",
        "outputId": "1d1a5869-bd2f-4c6f-8350-840ae1061131"
      },
      "source": [
        "type(sudoku)"
      ],
      "execution_count": null,
      "outputs": [
        {
          "data": {
            "text/plain": [
              "list"
            ]
          },
          "execution_count": 2,
          "metadata": {},
          "output_type": "execute_result"
        }
      ]
    },
    {
      "cell_type": "code",
      "metadata": {
        "id": "xKbJkm0Oj-mi",
        "outputId": "d9d3a639-4fcf-485a-999f-a7f3c71720d5"
      },
      "source": [
        "len(sudoku)"
      ],
      "execution_count": null,
      "outputs": [
        {
          "data": {
            "text/plain": [
              "9"
            ]
          },
          "execution_count": 3,
          "metadata": {},
          "output_type": "execute_result"
        }
      ]
    },
    {
      "cell_type": "code",
      "metadata": {
        "id": "bYCGe5LLj-mj",
        "outputId": "451fc102-0359-4dee-ee56-44f56686c324"
      },
      "source": [
        "count = 0\n",
        "\n",
        "print(\"- - - - - - - - - - - - - - - \")\n",
        "for i in sudoku:\n",
        "    for j in range(len(i)) :\n",
        "        print(i[j], \" \", end = \"\")\n",
        "        if (j + 1) == 9 :\n",
        "            print()\n",
        "            count += 1\n",
        "            if count % 3 == 0 and count != 0 :\n",
        "                print(\"- - - - - - - - - - - - - - - \")\n",
        "        if (j + 1) % 3 == 0 and j != 0 and j != 8:\n",
        "            print(\"| \", end = \"\")"
      ],
      "execution_count": null,
      "outputs": [
        {
          "name": "stdout",
          "output_type": "stream",
          "text": [
            "- - - - - - - - - - - - - - - \n",
            "0  0  0  | 0  6  4  | 0  0  0  \n",
            "7  0  0  | 0  0  0  | 3  9  0  \n",
            "8  0  0  | 0  0  0  | 0  0  0  \n",
            "- - - - - - - - - - - - - - - \n",
            "0  0  0  | 5  0  2  | 0  6  0  \n",
            "0  8  0  | 4  0  0  | 0  0  0  \n",
            "3  5  0  | 6  0  0  | 0  7  0  \n",
            "- - - - - - - - - - - - - - - \n",
            "0  0  2  | 0  0  0  | 1  0  3  \n",
            "0  0  1  | 0  5  9  | 0  0  0  \n",
            "0  0  0  | 0  0  0  | 7  0  0  \n",
            "- - - - - - - - - - - - - - - \n"
          ]
        }
      ]
    },
    {
      "cell_type": "code",
      "metadata": {
        "id": "USUjzoEgj-mj"
      },
      "source": [
        "x = [([1], [2,3], (4,5,6))]"
      ],
      "execution_count": null,
      "outputs": []
    },
    {
      "cell_type": "code",
      "metadata": {
        "id": "58hCXcERj-mj",
        "outputId": "7db850b2-6646-4bb3-c70d-737c7d50a0c1"
      },
      "source": [
        "len(x)"
      ],
      "execution_count": null,
      "outputs": [
        {
          "data": {
            "text/plain": [
              "1"
            ]
          },
          "execution_count": 7,
          "metadata": {},
          "output_type": "execute_result"
        }
      ]
    },
    {
      "cell_type": "code",
      "metadata": {
        "id": "3gwWKuHIj-mj"
      },
      "source": [
        "# [1,2,3,4,5,6]"
      ],
      "execution_count": null,
      "outputs": []
    },
    {
      "cell_type": "code",
      "metadata": {
        "id": "kMMsME_5j-mj",
        "outputId": "061a3a8c-7f41-4399-d8ae-bbc8c824cd07"
      },
      "source": [
        "a = []\n",
        "\n",
        "for i in x :\n",
        "    for j in i :\n",
        "        for z in j :\n",
        "            a.append(z)\n",
        "a"
      ],
      "execution_count": null,
      "outputs": [
        {
          "data": {
            "text/plain": [
              "[1, 2, 3, 4, 5, 6]"
            ]
          },
          "execution_count": 8,
          "metadata": {},
          "output_type": "execute_result"
        }
      ]
    },
    {
      "cell_type": "code",
      "metadata": {
        "id": "wVnFNi4hj-mk"
      },
      "source": [
        "# {1,2,3,4,5,6}"
      ],
      "execution_count": null,
      "outputs": []
    },
    {
      "cell_type": "code",
      "metadata": {
        "id": "OZ_UajFkj-mk",
        "outputId": "8591f288-c55e-4ec1-ddaa-ac9c963febbc"
      },
      "source": [
        "[i for i in range(5)]"
      ],
      "execution_count": null,
      "outputs": [
        {
          "data": {
            "text/plain": [
              "[0, 1, 2, 3, 4]"
            ]
          },
          "execution_count": 9,
          "metadata": {},
          "output_type": "execute_result"
        }
      ]
    },
    {
      "cell_type": "code",
      "metadata": {
        "id": "49bn-k2Wj-mk",
        "outputId": "524ed7ae-6e19-4c67-8011-28de50196708"
      },
      "source": [
        "{z for i in x for j in i for z in j}"
      ],
      "execution_count": null,
      "outputs": [
        {
          "data": {
            "text/plain": [
              "{1, 2, 3, 4, 5, 6}"
            ]
          },
          "execution_count": 10,
          "metadata": {},
          "output_type": "execute_result"
        }
      ]
    },
    {
      "cell_type": "code",
      "metadata": {
        "id": "dy_N7gwJj-ml",
        "outputId": "685bc2b5-044d-4a8c-a8b6-33361ab2f0aa"
      },
      "source": [
        "xList = \"elma armut muz\".split()\n",
        "xList"
      ],
      "execution_count": null,
      "outputs": [
        {
          "data": {
            "text/plain": [
              "['elma', 'armut', 'muz']"
            ]
          },
          "execution_count": 11,
          "metadata": {},
          "output_type": "execute_result"
        }
      ]
    },
    {
      "cell_type": "code",
      "metadata": {
        "id": "reflrDzBj-ml",
        "outputId": "473029f2-4ae5-4fc7-9a6e-847a40e1d823"
      },
      "source": [
        "yList = \"selvi vahit ayşe\".split()\n",
        "yList"
      ],
      "execution_count": null,
      "outputs": [
        {
          "data": {
            "text/plain": [
              "['selvi', 'vahit', 'ayşe']"
            ]
          },
          "execution_count": 12,
          "metadata": {},
          "output_type": "execute_result"
        }
      ]
    },
    {
      "cell_type": "code",
      "metadata": {
        "id": "StKVQz-Cj-ml",
        "outputId": "8ca72ce7-6aaa-4f0d-c8ed-c589d70f0ff3"
      },
      "source": [
        "result = []\n",
        "\n",
        "for i in xList :\n",
        "    for j in yList:\n",
        "        result.append(i + j)\n",
        "result"
      ],
      "execution_count": null,
      "outputs": [
        {
          "data": {
            "text/plain": [
              "['elmaselvi',\n",
              " 'elmavahit',\n",
              " 'elmaayşe',\n",
              " 'armutselvi',\n",
              " 'armutvahit',\n",
              " 'armutayşe',\n",
              " 'muzselvi',\n",
              " 'muzvahit',\n",
              " 'muzayşe']"
            ]
          },
          "execution_count": 13,
          "metadata": {},
          "output_type": "execute_result"
        }
      ]
    },
    {
      "cell_type": "code",
      "metadata": {
        "id": "yNOqivhlj-ml",
        "outputId": "99730020-d211-4e22-a3dc-aa8e5aefd3a4"
      },
      "source": [
        "[i + j for i in xList for j in yList]"
      ],
      "execution_count": null,
      "outputs": [
        {
          "data": {
            "text/plain": [
              "['elmaselvi',\n",
              " 'elmavahit',\n",
              " 'elmaayşe',\n",
              " 'armutselvi',\n",
              " 'armutvahit',\n",
              " 'armutayşe',\n",
              " 'muzselvi',\n",
              " 'muzvahit',\n",
              " 'muzayşe']"
            ]
          },
          "execution_count": 14,
          "metadata": {},
          "output_type": "execute_result"
        }
      ]
    },
    {
      "cell_type": "code",
      "metadata": {
        "id": "yT9fBMsoj-ml",
        "outputId": "e3f52234-a7ad-4b9d-866d-fcd394188ba9"
      },
      "source": [
        "[[i + j] for i in xList for j in yList]"
      ],
      "execution_count": null,
      "outputs": [
        {
          "data": {
            "text/plain": [
              "[['elmaselvi'],\n",
              " ['elmavahit'],\n",
              " ['elmaayşe'],\n",
              " ['armutselvi'],\n",
              " ['armutvahit'],\n",
              " ['armutayşe'],\n",
              " ['muzselvi'],\n",
              " ['muzvahit'],\n",
              " ['muzayşe']]"
            ]
          },
          "execution_count": 15,
          "metadata": {},
          "output_type": "execute_result"
        }
      ]
    },
    {
      "cell_type": "code",
      "metadata": {
        "id": "RCZqWQpdj-ml",
        "outputId": "55010d24-af4c-48a7-f3fa-9e7c801b4d03"
      },
      "source": [
        "result = []\n",
        "sayılar = [\"bir\", \"iki\", \"üç\"]\n",
        "for i in range(5):\n",
        "    if i%2==0:\n",
        "        for j in sayılar :\n",
        "            result.append(str(i) + \" --> \" + j)\n",
        "result"
      ],
      "execution_count": null,
      "outputs": [
        {
          "data": {
            "text/plain": [
              "['0 --> bir',\n",
              " '0 --> iki',\n",
              " '0 --> üç',\n",
              " '2 --> bir',\n",
              " '2 --> iki',\n",
              " '2 --> üç',\n",
              " '4 --> bir',\n",
              " '4 --> iki',\n",
              " '4 --> üç']"
            ]
          },
          "execution_count": 18,
          "metadata": {},
          "output_type": "execute_result"
        }
      ]
    },
    {
      "cell_type": "code",
      "metadata": {
        "id": "u-gOOyBaj-mm",
        "outputId": "19d41a84-295a-4358-9b7a-fc3cc6476770"
      },
      "source": [
        "[str(i) + \" --> \" + j for i in range(5) for j in sayılar if i % 2 == 0]"
      ],
      "execution_count": null,
      "outputs": [
        {
          "data": {
            "text/plain": [
              "['0 --> bir',\n",
              " '0 --> iki',\n",
              " '0 --> üç',\n",
              " '2 --> bir',\n",
              " '2 --> iki',\n",
              " '2 --> üç',\n",
              " '4 --> bir',\n",
              " '4 --> iki',\n",
              " '4 --> üç']"
            ]
          },
          "execution_count": 19,
          "metadata": {},
          "output_type": "execute_result"
        }
      ]
    },
    {
      "cell_type": "markdown",
      "metadata": {
        "id": "6hO6AwF2j-mm"
      },
      "source": [
        "### Girilen üç sayıdan kaç tanesi tekrarlıyor. Bunu gösteren bir fonksiyon yazalım"
      ]
    },
    {
      "cell_type": "code",
      "metadata": {
        "id": "aZyo6BYDkoA9"
      },
      "source": [
        ""
      ],
      "execution_count": null,
      "outputs": []
    },
    {
      "cell_type": "code",
      "metadata": {
        "id": "wKNNSeAlj-mm"
      },
      "source": [
        "equal(4,4,4)  # ==> 3\n",
        "equal(3,4,4)  # ==> 2\n",
        "equal(1,2,3)  # ==> 0"
      ],
      "execution_count": null,
      "outputs": []
    },
    {
      "cell_type": "code",
      "metadata": {
        "id": "YLrVez_Xj-mm"
      },
      "source": [
        "num = [5,1,1]"
      ],
      "execution_count": null,
      "outputs": []
    },
    {
      "cell_type": "code",
      "metadata": {
        "id": "jUTf_R3-j-mm",
        "outputId": "a4568370-d5c2-4f2d-a4f6-454ce71aa8ca"
      },
      "source": [
        "max(num)"
      ],
      "execution_count": null,
      "outputs": [
        {
          "data": {
            "text/plain": [
              "5"
            ]
          },
          "execution_count": 29,
          "metadata": {},
          "output_type": "execute_result"
        }
      ]
    },
    {
      "cell_type": "code",
      "metadata": {
        "id": "y-LgSrvqj-mm",
        "outputId": "4d007bfd-7aae-479a-b123-8acf4f8b5590"
      },
      "source": [
        "num.count(max(num, key = num.count))"
      ],
      "execution_count": null,
      "outputs": [
        {
          "data": {
            "text/plain": [
              "2"
            ]
          },
          "execution_count": 35,
          "metadata": {},
          "output_type": "execute_result"
        }
      ]
    },
    {
      "cell_type": "code",
      "metadata": {
        "id": "o7sderfaj-mn",
        "outputId": "3899e363-dc5c-44a6-defe-195b5efa23a2"
      },
      "source": [
        "num.count(1)"
      ],
      "execution_count": null,
      "outputs": [
        {
          "data": {
            "text/plain": [
              "2"
            ]
          },
          "execution_count": 31,
          "metadata": {},
          "output_type": "execute_result"
        }
      ]
    },
    {
      "cell_type": "code",
      "metadata": {
        "id": "VLP-EP3Ej-mn",
        "outputId": "fd798adc-6870-409c-dad9-606e4b075831"
      },
      "source": [
        "num.count(5)"
      ],
      "execution_count": null,
      "outputs": [
        {
          "data": {
            "text/plain": [
              "1"
            ]
          },
          "execution_count": 32,
          "metadata": {},
          "output_type": "execute_result"
        }
      ]
    },
    {
      "cell_type": "code",
      "metadata": {
        "id": "QzAGW1Rjj-mn",
        "outputId": "f153925b-52b6-4c43-b124-4170333cb104"
      },
      "source": [
        "num.count(1)"
      ],
      "execution_count": null,
      "outputs": [
        {
          "data": {
            "text/plain": [
              "2"
            ]
          },
          "execution_count": 34,
          "metadata": {},
          "output_type": "execute_result"
        }
      ]
    },
    {
      "cell_type": "code",
      "metadata": {
        "id": "1xh8_BJTj-mn"
      },
      "source": [
        "def equal(a, b, c) :\n",
        "    numbers = [a, b, c]\n",
        "    result = numbers.count(max(numbers, key = numbers.count))\n",
        "    if result > 1 :\n",
        "        return result\n",
        "    else :\n",
        "        return 0"
      ],
      "execution_count": null,
      "outputs": []
    },
    {
      "cell_type": "code",
      "metadata": {
        "id": "uDLorOWZj-mn",
        "outputId": "abde0b97-41d4-4d2d-bec9-189797505180"
      },
      "source": [
        "equal(1,1,5)"
      ],
      "execution_count": null,
      "outputs": [
        {
          "data": {
            "text/plain": [
              "2"
            ]
          },
          "execution_count": 37,
          "metadata": {},
          "output_type": "execute_result"
        }
      ]
    },
    {
      "cell_type": "code",
      "metadata": {
        "id": "F4B8aW2Uj-mo",
        "outputId": "55a86687-84de-424d-afd1-cd5279a3103d"
      },
      "source": [
        "equal(5,5,5)"
      ],
      "execution_count": null,
      "outputs": [
        {
          "data": {
            "text/plain": [
              "3"
            ]
          },
          "execution_count": 38,
          "metadata": {},
          "output_type": "execute_result"
        }
      ]
    },
    {
      "cell_type": "code",
      "metadata": {
        "id": "BKTRsvQDj-mo",
        "outputId": "2790d664-4005-404d-ea21-3bbe043e3cb2"
      },
      "source": [
        "equal(1,2,3)"
      ],
      "execution_count": null,
      "outputs": [
        {
          "data": {
            "text/plain": [
              "0"
            ]
          },
          "execution_count": 39,
          "metadata": {},
          "output_type": "execute_result"
        }
      ]
    },
    {
      "cell_type": "code",
      "metadata": {
        "id": "U3YvcIwQj-mo"
      },
      "source": [
        "def equal(*a) :\n",
        "    numbers = list(a)\n",
        "    result = numbers.count(max(numbers, key = numbers.count))\n",
        "    if result > 1 :\n",
        "        return result\n",
        "    else :\n",
        "        return 0"
      ],
      "execution_count": null,
      "outputs": []
    },
    {
      "cell_type": "code",
      "metadata": {
        "id": "Fu3RWr6Wj-mo",
        "outputId": "8c1f1c9b-fd98-4dd7-8e9f-ce187c2fee14"
      },
      "source": [
        "equal(1,2,3,4,5,5,5,6,7,7)"
      ],
      "execution_count": null,
      "outputs": [
        {
          "data": {
            "text/plain": [
              "3"
            ]
          },
          "execution_count": 41,
          "metadata": {},
          "output_type": "execute_result"
        }
      ]
    },
    {
      "cell_type": "code",
      "metadata": {
        "id": "eMxglMRaj-mp"
      },
      "source": [
        "# def equal(*a) :\n",
        "#     numbers = list(a)\n",
        "#     result = numbers.count(max(numbers, key = numbers.count))\n",
        "#     return result"
      ],
      "execution_count": null,
      "outputs": []
    },
    {
      "cell_type": "code",
      "metadata": {
        "id": "l9ghONkuj-mp",
        "outputId": "ec7bca40-480a-4995-df7e-a67785defce6"
      },
      "source": [
        "# equal(1,2,3,4,5)"
      ],
      "execution_count": null,
      "outputs": [
        {
          "data": {
            "text/plain": [
              "1"
            ]
          },
          "execution_count": 43,
          "metadata": {},
          "output_type": "execute_result"
        }
      ]
    },
    {
      "cell_type": "code",
      "metadata": {
        "id": "B-AO3eghj-mp"
      },
      "source": [
        "\"\\r\\n\"\n",
        "\"\\n\"\n",
        "\"\\r\""
      ],
      "execution_count": null,
      "outputs": []
    },
    {
      "cell_type": "code",
      "metadata": {
        "id": "NoLGoHuoj-mq"
      },
      "source": [
        "import pandas as pd"
      ],
      "execution_count": null,
      "outputs": []
    },
    {
      "cell_type": "code",
      "metadata": {
        "id": "-YC1QyGXj-mq"
      },
      "source": [
        "titanic = pd.read_csv(\"titanic.csv\")"
      ],
      "execution_count": null,
      "outputs": []
    },
    {
      "cell_type": "code",
      "metadata": {
        "id": "SPEhw--6j-mq",
        "outputId": "ae8dd543-d9d3-417b-8fc4-67a753f20b73"
      },
      "source": [
        "titanic"
      ],
      "execution_count": null,
      "outputs": [
        {
          "data": {
            "text/html": [
              "<div>\n",
              "<style scoped>\n",
              "    .dataframe tbody tr th:only-of-type {\n",
              "        vertical-align: middle;\n",
              "    }\n",
              "\n",
              "    .dataframe tbody tr th {\n",
              "        vertical-align: top;\n",
              "    }\n",
              "\n",
              "    .dataframe thead th {\n",
              "        text-align: right;\n",
              "    }\n",
              "</style>\n",
              "<table border=\"1\" class=\"dataframe\">\n",
              "  <thead>\n",
              "    <tr style=\"text-align: right;\">\n",
              "      <th></th>\n",
              "      <th>PassengerId</th>\n",
              "      <th>Survived</th>\n",
              "      <th>Pclass</th>\n",
              "      <th>Name</th>\n",
              "      <th>Sex</th>\n",
              "      <th>Age</th>\n",
              "      <th>SibSp</th>\n",
              "      <th>Parch</th>\n",
              "      <th>Ticket</th>\n",
              "      <th>Fare</th>\n",
              "      <th>Cabin</th>\n",
              "      <th>Embarked</th>\n",
              "    </tr>\n",
              "  </thead>\n",
              "  <tbody>\n",
              "    <tr>\n",
              "      <th>0</th>\n",
              "      <td>1</td>\n",
              "      <td>0</td>\n",
              "      <td>3</td>\n",
              "      <td>Braund, Mr. Owen Harris</td>\n",
              "      <td>male</td>\n",
              "      <td>22.0</td>\n",
              "      <td>1</td>\n",
              "      <td>0</td>\n",
              "      <td>A/5 21171</td>\n",
              "      <td>7.2500</td>\n",
              "      <td>NaN</td>\n",
              "      <td>S</td>\n",
              "    </tr>\n",
              "    <tr>\n",
              "      <th>1</th>\n",
              "      <td>2</td>\n",
              "      <td>1</td>\n",
              "      <td>1</td>\n",
              "      <td>Cumings, Mrs. John Bradley (Florence Briggs Th...</td>\n",
              "      <td>female</td>\n",
              "      <td>38.0</td>\n",
              "      <td>1</td>\n",
              "      <td>0</td>\n",
              "      <td>PC 17599</td>\n",
              "      <td>71.2833</td>\n",
              "      <td>C85</td>\n",
              "      <td>C</td>\n",
              "    </tr>\n",
              "    <tr>\n",
              "      <th>2</th>\n",
              "      <td>3</td>\n",
              "      <td>1</td>\n",
              "      <td>3</td>\n",
              "      <td>Heikkinen, Miss. Laina</td>\n",
              "      <td>female</td>\n",
              "      <td>26.0</td>\n",
              "      <td>0</td>\n",
              "      <td>0</td>\n",
              "      <td>STON/O2. 3101282</td>\n",
              "      <td>7.9250</td>\n",
              "      <td>NaN</td>\n",
              "      <td>S</td>\n",
              "    </tr>\n",
              "    <tr>\n",
              "      <th>3</th>\n",
              "      <td>4</td>\n",
              "      <td>1</td>\n",
              "      <td>1</td>\n",
              "      <td>Futrelle, Mrs. Jacques Heath (Lily May Peel)</td>\n",
              "      <td>female</td>\n",
              "      <td>35.0</td>\n",
              "      <td>1</td>\n",
              "      <td>0</td>\n",
              "      <td>113803</td>\n",
              "      <td>53.1000</td>\n",
              "      <td>C123</td>\n",
              "      <td>S</td>\n",
              "    </tr>\n",
              "    <tr>\n",
              "      <th>4</th>\n",
              "      <td>5</td>\n",
              "      <td>0</td>\n",
              "      <td>3</td>\n",
              "      <td>Allen, Mr. William Henry</td>\n",
              "      <td>male</td>\n",
              "      <td>35.0</td>\n",
              "      <td>0</td>\n",
              "      <td>0</td>\n",
              "      <td>373450</td>\n",
              "      <td>8.0500</td>\n",
              "      <td>NaN</td>\n",
              "      <td>S</td>\n",
              "    </tr>\n",
              "    <tr>\n",
              "      <th>...</th>\n",
              "      <td>...</td>\n",
              "      <td>...</td>\n",
              "      <td>...</td>\n",
              "      <td>...</td>\n",
              "      <td>...</td>\n",
              "      <td>...</td>\n",
              "      <td>...</td>\n",
              "      <td>...</td>\n",
              "      <td>...</td>\n",
              "      <td>...</td>\n",
              "      <td>...</td>\n",
              "      <td>...</td>\n",
              "    </tr>\n",
              "    <tr>\n",
              "      <th>886</th>\n",
              "      <td>887</td>\n",
              "      <td>0</td>\n",
              "      <td>2</td>\n",
              "      <td>Montvila, Rev. Juozas</td>\n",
              "      <td>male</td>\n",
              "      <td>27.0</td>\n",
              "      <td>0</td>\n",
              "      <td>0</td>\n",
              "      <td>211536</td>\n",
              "      <td>13.0000</td>\n",
              "      <td>NaN</td>\n",
              "      <td>S</td>\n",
              "    </tr>\n",
              "    <tr>\n",
              "      <th>887</th>\n",
              "      <td>888</td>\n",
              "      <td>1</td>\n",
              "      <td>1</td>\n",
              "      <td>Graham, Miss. Margaret Edith</td>\n",
              "      <td>female</td>\n",
              "      <td>19.0</td>\n",
              "      <td>0</td>\n",
              "      <td>0</td>\n",
              "      <td>112053</td>\n",
              "      <td>30.0000</td>\n",
              "      <td>B42</td>\n",
              "      <td>S</td>\n",
              "    </tr>\n",
              "    <tr>\n",
              "      <th>888</th>\n",
              "      <td>889</td>\n",
              "      <td>0</td>\n",
              "      <td>3</td>\n",
              "      <td>Johnston, Miss. Catherine Helen \"Carrie\"</td>\n",
              "      <td>female</td>\n",
              "      <td>NaN</td>\n",
              "      <td>1</td>\n",
              "      <td>2</td>\n",
              "      <td>W./C. 6607</td>\n",
              "      <td>23.4500</td>\n",
              "      <td>NaN</td>\n",
              "      <td>S</td>\n",
              "    </tr>\n",
              "    <tr>\n",
              "      <th>889</th>\n",
              "      <td>890</td>\n",
              "      <td>1</td>\n",
              "      <td>1</td>\n",
              "      <td>Behr, Mr. Karl Howell</td>\n",
              "      <td>male</td>\n",
              "      <td>26.0</td>\n",
              "      <td>0</td>\n",
              "      <td>0</td>\n",
              "      <td>111369</td>\n",
              "      <td>30.0000</td>\n",
              "      <td>C148</td>\n",
              "      <td>C</td>\n",
              "    </tr>\n",
              "    <tr>\n",
              "      <th>890</th>\n",
              "      <td>891</td>\n",
              "      <td>0</td>\n",
              "      <td>3</td>\n",
              "      <td>Dooley, Mr. Patrick</td>\n",
              "      <td>male</td>\n",
              "      <td>32.0</td>\n",
              "      <td>0</td>\n",
              "      <td>0</td>\n",
              "      <td>370376</td>\n",
              "      <td>7.7500</td>\n",
              "      <td>NaN</td>\n",
              "      <td>Q</td>\n",
              "    </tr>\n",
              "  </tbody>\n",
              "</table>\n",
              "<p>891 rows × 12 columns</p>\n",
              "</div>"
            ],
            "text/plain": [
              "     PassengerId  Survived  Pclass  \\\n",
              "0              1         0       3   \n",
              "1              2         1       1   \n",
              "2              3         1       3   \n",
              "3              4         1       1   \n",
              "4              5         0       3   \n",
              "..           ...       ...     ...   \n",
              "886          887         0       2   \n",
              "887          888         1       1   \n",
              "888          889         0       3   \n",
              "889          890         1       1   \n",
              "890          891         0       3   \n",
              "\n",
              "                                                  Name     Sex   Age  SibSp  \\\n",
              "0                              Braund, Mr. Owen Harris    male  22.0      1   \n",
              "1    Cumings, Mrs. John Bradley (Florence Briggs Th...  female  38.0      1   \n",
              "2                               Heikkinen, Miss. Laina  female  26.0      0   \n",
              "3         Futrelle, Mrs. Jacques Heath (Lily May Peel)  female  35.0      1   \n",
              "4                             Allen, Mr. William Henry    male  35.0      0   \n",
              "..                                                 ...     ...   ...    ...   \n",
              "886                              Montvila, Rev. Juozas    male  27.0      0   \n",
              "887                       Graham, Miss. Margaret Edith  female  19.0      0   \n",
              "888           Johnston, Miss. Catherine Helen \"Carrie\"  female   NaN      1   \n",
              "889                              Behr, Mr. Karl Howell    male  26.0      0   \n",
              "890                                Dooley, Mr. Patrick    male  32.0      0   \n",
              "\n",
              "     Parch            Ticket     Fare Cabin Embarked  \n",
              "0        0         A/5 21171   7.2500   NaN        S  \n",
              "1        0          PC 17599  71.2833   C85        C  \n",
              "2        0  STON/O2. 3101282   7.9250   NaN        S  \n",
              "3        0            113803  53.1000  C123        S  \n",
              "4        0            373450   8.0500   NaN        S  \n",
              "..     ...               ...      ...   ...      ...  \n",
              "886      0            211536  13.0000   NaN        S  \n",
              "887      0            112053  30.0000   B42        S  \n",
              "888      2        W./C. 6607  23.4500   NaN        S  \n",
              "889      0            111369  30.0000  C148        C  \n",
              "890      0            370376   7.7500   NaN        Q  \n",
              "\n",
              "[891 rows x 12 columns]"
            ]
          },
          "execution_count": 47,
          "metadata": {},
          "output_type": "execute_result"
        }
      ]
    },
    {
      "cell_type": "code",
      "metadata": {
        "id": "6Xi3xetSj-mr"
      },
      "source": [
        "bayanlar = titanic[titanic[\"Sex\"] == \"female\"]"
      ],
      "execution_count": null,
      "outputs": []
    },
    {
      "cell_type": "code",
      "metadata": {
        "id": "sMvdbXS8j-mr"
      },
      "source": [
        "bayanlar.to_csv(\"titanic_bayanlar.csv\")"
      ],
      "execution_count": null,
      "outputs": []
    },
    {
      "cell_type": "code",
      "metadata": {
        "id": "y2EDvRx5j-mr"
      },
      "source": [
        "vefat = titanic[titanic[\"Survived\"] == 0]"
      ],
      "execution_count": null,
      "outputs": []
    },
    {
      "cell_type": "code",
      "metadata": {
        "id": "vPaAr7t8j-mr"
      },
      "source": [
        "vefat.to_csv(\"titanic_vefat.csv\")"
      ],
      "execution_count": null,
      "outputs": []
    },
    {
      "cell_type": "code",
      "metadata": {
        "id": "ji43WvmDj-mr",
        "outputId": "1629ae7f-3553-4e32-a94b-5a1d60cd9291"
      },
      "source": [
        "titanic.groupby(\"Sex\")[\"Survived\"].mean()"
      ],
      "execution_count": null,
      "outputs": [
        {
          "data": {
            "text/plain": [
              "Sex\n",
              "female    0.742038\n",
              "male      0.188908\n",
              "Name: Survived, dtype: float64"
            ]
          },
          "execution_count": 57,
          "metadata": {},
          "output_type": "execute_result"
        }
      ]
    },
    {
      "cell_type": "code",
      "metadata": {
        "id": "qVpX1vVrj-ms",
        "outputId": "02af6d5e-4b75-4980-c1f5-d3a1ceced87d"
      },
      "source": [
        "titanic.groupby(\"Pclass\")[\"Survived\"].mean()"
      ],
      "execution_count": null,
      "outputs": [
        {
          "data": {
            "text/plain": [
              "Pclass\n",
              "1    0.629630\n",
              "2    0.472826\n",
              "3    0.242363\n",
              "Name: Survived, dtype: float64"
            ]
          },
          "execution_count": 58,
          "metadata": {},
          "output_type": "execute_result"
        }
      ]
    },
    {
      "cell_type": "code",
      "metadata": {
        "id": "YBYaqx95j-ms"
      },
      "source": [
        "vefat = pd.read_csv(\"titanic_vefat.csv\", index_col=0)"
      ],
      "execution_count": null,
      "outputs": []
    },
    {
      "cell_type": "code",
      "metadata": {
        "id": "CzVCm6lUj-ms",
        "outputId": "2cae44df-9cf9-443d-cc92-7f42efb683a9"
      },
      "source": [
        "vefat"
      ],
      "execution_count": null,
      "outputs": [
        {
          "data": {
            "text/html": [
              "<div>\n",
              "<style scoped>\n",
              "    .dataframe tbody tr th:only-of-type {\n",
              "        vertical-align: middle;\n",
              "    }\n",
              "\n",
              "    .dataframe tbody tr th {\n",
              "        vertical-align: top;\n",
              "    }\n",
              "\n",
              "    .dataframe thead th {\n",
              "        text-align: right;\n",
              "    }\n",
              "</style>\n",
              "<table border=\"1\" class=\"dataframe\">\n",
              "  <thead>\n",
              "    <tr style=\"text-align: right;\">\n",
              "      <th></th>\n",
              "      <th>PassengerId</th>\n",
              "      <th>Survived</th>\n",
              "      <th>Pclass</th>\n",
              "      <th>Name</th>\n",
              "      <th>Sex</th>\n",
              "      <th>Age</th>\n",
              "      <th>SibSp</th>\n",
              "      <th>Parch</th>\n",
              "      <th>Ticket</th>\n",
              "      <th>Fare</th>\n",
              "      <th>Cabin</th>\n",
              "      <th>Embarked</th>\n",
              "    </tr>\n",
              "  </thead>\n",
              "  <tbody>\n",
              "    <tr>\n",
              "      <th>0</th>\n",
              "      <td>1</td>\n",
              "      <td>0</td>\n",
              "      <td>3</td>\n",
              "      <td>Braund, Mr. Owen Harris</td>\n",
              "      <td>male</td>\n",
              "      <td>22.0</td>\n",
              "      <td>1</td>\n",
              "      <td>0</td>\n",
              "      <td>A/5 21171</td>\n",
              "      <td>7.2500</td>\n",
              "      <td>NaN</td>\n",
              "      <td>S</td>\n",
              "    </tr>\n",
              "    <tr>\n",
              "      <th>4</th>\n",
              "      <td>5</td>\n",
              "      <td>0</td>\n",
              "      <td>3</td>\n",
              "      <td>Allen, Mr. William Henry</td>\n",
              "      <td>male</td>\n",
              "      <td>35.0</td>\n",
              "      <td>0</td>\n",
              "      <td>0</td>\n",
              "      <td>373450</td>\n",
              "      <td>8.0500</td>\n",
              "      <td>NaN</td>\n",
              "      <td>S</td>\n",
              "    </tr>\n",
              "    <tr>\n",
              "      <th>5</th>\n",
              "      <td>6</td>\n",
              "      <td>0</td>\n",
              "      <td>3</td>\n",
              "      <td>Moran, Mr. James</td>\n",
              "      <td>male</td>\n",
              "      <td>NaN</td>\n",
              "      <td>0</td>\n",
              "      <td>0</td>\n",
              "      <td>330877</td>\n",
              "      <td>8.4583</td>\n",
              "      <td>NaN</td>\n",
              "      <td>Q</td>\n",
              "    </tr>\n",
              "    <tr>\n",
              "      <th>6</th>\n",
              "      <td>7</td>\n",
              "      <td>0</td>\n",
              "      <td>1</td>\n",
              "      <td>McCarthy, Mr. Timothy J</td>\n",
              "      <td>male</td>\n",
              "      <td>54.0</td>\n",
              "      <td>0</td>\n",
              "      <td>0</td>\n",
              "      <td>17463</td>\n",
              "      <td>51.8625</td>\n",
              "      <td>E46</td>\n",
              "      <td>S</td>\n",
              "    </tr>\n",
              "    <tr>\n",
              "      <th>7</th>\n",
              "      <td>8</td>\n",
              "      <td>0</td>\n",
              "      <td>3</td>\n",
              "      <td>Palsson, Master. Gosta Leonard</td>\n",
              "      <td>male</td>\n",
              "      <td>2.0</td>\n",
              "      <td>3</td>\n",
              "      <td>1</td>\n",
              "      <td>349909</td>\n",
              "      <td>21.0750</td>\n",
              "      <td>NaN</td>\n",
              "      <td>S</td>\n",
              "    </tr>\n",
              "    <tr>\n",
              "      <th>...</th>\n",
              "      <td>...</td>\n",
              "      <td>...</td>\n",
              "      <td>...</td>\n",
              "      <td>...</td>\n",
              "      <td>...</td>\n",
              "      <td>...</td>\n",
              "      <td>...</td>\n",
              "      <td>...</td>\n",
              "      <td>...</td>\n",
              "      <td>...</td>\n",
              "      <td>...</td>\n",
              "      <td>...</td>\n",
              "    </tr>\n",
              "    <tr>\n",
              "      <th>884</th>\n",
              "      <td>885</td>\n",
              "      <td>0</td>\n",
              "      <td>3</td>\n",
              "      <td>Sutehall, Mr. Henry Jr</td>\n",
              "      <td>male</td>\n",
              "      <td>25.0</td>\n",
              "      <td>0</td>\n",
              "      <td>0</td>\n",
              "      <td>SOTON/OQ 392076</td>\n",
              "      <td>7.0500</td>\n",
              "      <td>NaN</td>\n",
              "      <td>S</td>\n",
              "    </tr>\n",
              "    <tr>\n",
              "      <th>885</th>\n",
              "      <td>886</td>\n",
              "      <td>0</td>\n",
              "      <td>3</td>\n",
              "      <td>Rice, Mrs. William (Margaret Norton)</td>\n",
              "      <td>female</td>\n",
              "      <td>39.0</td>\n",
              "      <td>0</td>\n",
              "      <td>5</td>\n",
              "      <td>382652</td>\n",
              "      <td>29.1250</td>\n",
              "      <td>NaN</td>\n",
              "      <td>Q</td>\n",
              "    </tr>\n",
              "    <tr>\n",
              "      <th>886</th>\n",
              "      <td>887</td>\n",
              "      <td>0</td>\n",
              "      <td>2</td>\n",
              "      <td>Montvila, Rev. Juozas</td>\n",
              "      <td>male</td>\n",
              "      <td>27.0</td>\n",
              "      <td>0</td>\n",
              "      <td>0</td>\n",
              "      <td>211536</td>\n",
              "      <td>13.0000</td>\n",
              "      <td>NaN</td>\n",
              "      <td>S</td>\n",
              "    </tr>\n",
              "    <tr>\n",
              "      <th>888</th>\n",
              "      <td>889</td>\n",
              "      <td>0</td>\n",
              "      <td>3</td>\n",
              "      <td>Johnston, Miss. Catherine Helen \"Carrie\"</td>\n",
              "      <td>female</td>\n",
              "      <td>NaN</td>\n",
              "      <td>1</td>\n",
              "      <td>2</td>\n",
              "      <td>W./C. 6607</td>\n",
              "      <td>23.4500</td>\n",
              "      <td>NaN</td>\n",
              "      <td>S</td>\n",
              "    </tr>\n",
              "    <tr>\n",
              "      <th>890</th>\n",
              "      <td>891</td>\n",
              "      <td>0</td>\n",
              "      <td>3</td>\n",
              "      <td>Dooley, Mr. Patrick</td>\n",
              "      <td>male</td>\n",
              "      <td>32.0</td>\n",
              "      <td>0</td>\n",
              "      <td>0</td>\n",
              "      <td>370376</td>\n",
              "      <td>7.7500</td>\n",
              "      <td>NaN</td>\n",
              "      <td>Q</td>\n",
              "    </tr>\n",
              "  </tbody>\n",
              "</table>\n",
              "<p>549 rows × 12 columns</p>\n",
              "</div>"
            ],
            "text/plain": [
              "     PassengerId  Survived  Pclass                                      Name  \\\n",
              "0              1         0       3                   Braund, Mr. Owen Harris   \n",
              "4              5         0       3                  Allen, Mr. William Henry   \n",
              "5              6         0       3                          Moran, Mr. James   \n",
              "6              7         0       1                   McCarthy, Mr. Timothy J   \n",
              "7              8         0       3            Palsson, Master. Gosta Leonard   \n",
              "..           ...       ...     ...                                       ...   \n",
              "884          885         0       3                    Sutehall, Mr. Henry Jr   \n",
              "885          886         0       3      Rice, Mrs. William (Margaret Norton)   \n",
              "886          887         0       2                     Montvila, Rev. Juozas   \n",
              "888          889         0       3  Johnston, Miss. Catherine Helen \"Carrie\"   \n",
              "890          891         0       3                       Dooley, Mr. Patrick   \n",
              "\n",
              "        Sex   Age  SibSp  Parch           Ticket     Fare Cabin Embarked  \n",
              "0      male  22.0      1      0        A/5 21171   7.2500   NaN        S  \n",
              "4      male  35.0      0      0           373450   8.0500   NaN        S  \n",
              "5      male   NaN      0      0           330877   8.4583   NaN        Q  \n",
              "6      male  54.0      0      0            17463  51.8625   E46        S  \n",
              "7      male   2.0      3      1           349909  21.0750   NaN        S  \n",
              "..      ...   ...    ...    ...              ...      ...   ...      ...  \n",
              "884    male  25.0      0      0  SOTON/OQ 392076   7.0500   NaN        S  \n",
              "885  female  39.0      0      5           382652  29.1250   NaN        Q  \n",
              "886    male  27.0      0      0           211536  13.0000   NaN        S  \n",
              "888  female   NaN      1      2       W./C. 6607  23.4500   NaN        S  \n",
              "890    male  32.0      0      0           370376   7.7500   NaN        Q  \n",
              "\n",
              "[549 rows x 12 columns]"
            ]
          },
          "execution_count": 62,
          "metadata": {},
          "output_type": "execute_result"
        }
      ]
    },
    {
      "cell_type": "markdown",
      "metadata": {
        "id": "uYqIJnvHj-ms"
      },
      "source": [
        "### show me my way, please! <img src=\"https://www.robotsepeti.com/nao-insansi-robot-platformu-v6-egitmen-educator-versiyonu-insansi-robot-softbank-robotics-9282-48-B.png\" height = \"100\" width=\"300\" alt=\"Robot\">"
      ]
    },
    {
      "cell_type": "code",
      "metadata": {
        "id": "DrXrFcy4j-ms"
      },
      "source": [
        "L = [\"right 20\", \"right 30\", \"left 50\", \"up 10\", \"down 20\"]"
      ],
      "execution_count": null,
      "outputs": []
    },
    {
      "cell_type": "code",
      "metadata": {
        "id": "AwjRUpZNj-ms"
      },
      "source": [
        "x = y = 0"
      ],
      "execution_count": null,
      "outputs": []
    },
    {
      "cell_type": "code",
      "metadata": {
        "id": "d5lucqJ8j-ms",
        "outputId": "bebd109d-9782-46c0-c90a-a6a7151e65bd"
      },
      "source": [
        "for i in range(len(L)) :\n",
        "    if L[i].startswith(\"r\") : x = x + int(L[i].split()[1])\n",
        "    elif L[i].startswith(\"l\") : x = x - int(L[i].split()[1])\n",
        "    elif L[i].startswith(\"u\") : y = y + int(L[i].split()[1])\n",
        "    elif L[i].startswith(\"d\") : y = y - int(L[i].split()[1])\n",
        "[x, y]"
      ],
      "execution_count": null,
      "outputs": [
        {
          "data": {
            "text/plain": [
              "[0, -10]"
            ]
          },
          "execution_count": 71,
          "metadata": {},
          "output_type": "execute_result"
        }
      ]
    },
    {
      "cell_type": "code",
      "metadata": {
        "id": "pp31OL4jj-mt",
        "outputId": "d09c67a4-6db2-473c-a39b-00c320817a9e"
      },
      "source": [
        "\"right 20\".split()[1]"
      ],
      "execution_count": null,
      "outputs": [
        {
          "data": {
            "text/plain": [
              "'20'"
            ]
          },
          "execution_count": 66,
          "metadata": {},
          "output_type": "execute_result"
        }
      ]
    },
    {
      "cell_type": "code",
      "metadata": {
        "id": "UUE4rNRhj-mt",
        "outputId": "48db1300-4443-447c-e547-c3b25b5cd927"
      },
      "source": [
        "print(\"ahttps://www.google.com\".startswith((\"http://\", \"https://\", \"ahttp\")))"
      ],
      "execution_count": null,
      "outputs": [
        {
          "name": "stdout",
          "output_type": "stream",
          "text": [
            "True\n"
          ]
        }
      ]
    },
    {
      "cell_type": "code",
      "metadata": {
        "id": "8vzSS9RCj-mt",
        "outputId": "47d33210-e029-4997-aee3-06971ff48679"
      },
      "source": [
        "print(\"http://www.google.co.uk\".endswith((\".com\", \"co.uk\")))"
      ],
      "execution_count": null,
      "outputs": [
        {
          "name": "stdout",
          "output_type": "stream",
          "text": [
            "True\n"
          ]
        }
      ]
    },
    {
      "cell_type": "code",
      "metadata": {
        "id": "S8JinCcWj-mt"
      },
      "source": [
        "ops = {\"+\" : (lambda x, y : x+y), \"-\" : (lambda x, y : x-y), \"/\" : (lambda x, y : x/y)}"
      ],
      "execution_count": null,
      "outputs": []
    },
    {
      "cell_type": "code",
      "metadata": {
        "id": "B2adGFqlj-mu",
        "outputId": "72f67212-388e-4f3e-9f7f-6d1259da3526"
      },
      "source": [
        "ops"
      ],
      "execution_count": null,
      "outputs": [
        {
          "data": {
            "text/plain": [
              "{'+': <function __main__.<lambda>(x, y)>,\n",
              " '-': <function __main__.<lambda>(x, y)>,\n",
              " '/': <function __main__.<lambda>(x, y)>}"
            ]
          },
          "execution_count": 78,
          "metadata": {},
          "output_type": "execute_result"
        }
      ]
    },
    {
      "cell_type": "code",
      "metadata": {
        "id": "_aQsqh8Wj-mu",
        "outputId": "03d65bea-2588-4815-a4ca-173928d17e41"
      },
      "source": [
        "ops[\"+\"](3, 5)"
      ],
      "execution_count": null,
      "outputs": [
        {
          "data": {
            "text/plain": [
              "8"
            ]
          },
          "execution_count": 80,
          "metadata": {},
          "output_type": "execute_result"
        }
      ]
    },
    {
      "cell_type": "code",
      "metadata": {
        "id": "Q_TrjYSyj-mu",
        "outputId": "6dbd11f7-fa85-4f54-f546-baffde7871cc"
      },
      "source": [
        "ops[\"-\"](11, 5)"
      ],
      "execution_count": null,
      "outputs": [
        {
          "data": {
            "text/plain": [
              "6"
            ]
          },
          "execution_count": 82,
          "metadata": {},
          "output_type": "execute_result"
        }
      ]
    },
    {
      "cell_type": "code",
      "metadata": {
        "id": "XVwV-yH6j-mu"
      },
      "source": [
        "normal = {\"bir\" : 11, \"iki\" : 22}"
      ],
      "execution_count": null,
      "outputs": []
    },
    {
      "cell_type": "code",
      "metadata": {
        "id": "L5fGZh34j-mv",
        "outputId": "2784371b-1719-41c7-8ebd-5795b35e2eed"
      },
      "source": [
        "normal[\"bir\"]"
      ],
      "execution_count": null,
      "outputs": [
        {
          "data": {
            "text/plain": [
              "11"
            ]
          },
          "execution_count": 84,
          "metadata": {},
          "output_type": "execute_result"
        }
      ]
    },
    {
      "cell_type": "code",
      "metadata": {
        "id": "hSGqo7hNj-mv",
        "outputId": "40b99a49-c350-4772-ae8f-03e0f372f028"
      },
      "source": [
        "type(normal[\"bir\"])"
      ],
      "execution_count": null,
      "outputs": [
        {
          "data": {
            "text/plain": [
              "int"
            ]
          },
          "execution_count": 85,
          "metadata": {},
          "output_type": "execute_result"
        }
      ]
    },
    {
      "cell_type": "code",
      "metadata": {
        "id": "r7wYbOJMj-mv"
      },
      "source": [
        ""
      ],
      "execution_count": null,
      "outputs": []
    }
  ]
}