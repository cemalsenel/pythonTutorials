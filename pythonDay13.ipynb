{
  "nbformat": 4,
  "nbformat_minor": 0,
  "metadata": {
    "colab": {
      "name": "pythonDay13.ipynb",
      "provenance": [],
      "collapsed_sections": []
    },
    "kernelspec": {
      "name": "python3",
      "display_name": "Python 3"
    },
    "language_info": {
      "name": "python"
    }
  },
  "cells": [
    {
      "cell_type": "code",
      "metadata": {
        "id": "4FhBYfAjzvm6"
      },
      "source": [
        "# Set"
      ],
      "execution_count": null,
      "outputs": []
    },
    {
      "cell_type": "code",
      "metadata": {
        "colab": {
          "base_uri": "https://localhost:8080/"
        },
        "id": "Za130bdAzvqj",
        "outputId": "bcc5320f-7b73-48b8-e029-e40880d5168f"
      },
      "source": [
        "a = set(\"philaaaadelphia\")\n",
        "b = set(\"jimmy\")\n",
        "print(a)\n",
        "print(b)"
      ],
      "execution_count": 13,
      "outputs": [
        {
          "output_type": "stream",
          "name": "stdout",
          "text": [
            "{'a', 'h', 'p', 'i', 'e', 'l', 'd'}\n",
            "{'y', 'i', 'm', 'j'}\n"
          ]
        }
      ]
    },
    {
      "cell_type": "code",
      "metadata": {
        "colab": {
          "base_uri": "https://localhost:8080/"
        },
        "id": "V-yLNXKkzvzm",
        "outputId": "4d064da8-dc10-45b1-9b94-a6911ea3b40a"
      },
      "source": [
        "print(a.difference(b))\n",
        "print(a - b)\n",
        "print(b.difference(a))\n",
        "print(b - a)"
      ],
      "execution_count": 11,
      "outputs": [
        {
          "output_type": "stream",
          "name": "stdout",
          "text": [
            "{'a', 'h', 'p', 'e', 'l', 'd'}\n",
            "{'a', 'h', 'p', 'e', 'l', 'd'}\n",
            "{'j', 'y', 'm'}\n",
            "{'j', 'y', 'm'}\n"
          ]
        }
      ]
    },
    {
      "cell_type": "code",
      "metadata": {
        "colab": {
          "base_uri": "https://localhost:8080/"
        },
        "id": "YXhf1_kqzwAT",
        "outputId": "c51510e3-bd96-4068-d8ff-3509671eef05"
      },
      "source": [
        "print(a.union(b))\n",
        "print(a | b)"
      ],
      "execution_count": 9,
      "outputs": [
        {
          "output_type": "stream",
          "name": "stdout",
          "text": [
            "{'a', 'h', 'j', 'p', 'i', 'e', 'l', 'd', 'y', 'm'}\n",
            "{'a', 'h', 'j', 'p', 'i', 'e', 'l', 'd', 'y', 'm'}\n"
          ]
        }
      ]
    },
    {
      "cell_type": "code",
      "metadata": {
        "colab": {
          "base_uri": "https://localhost:8080/"
        },
        "id": "BIenWLnJzwEY",
        "outputId": "e48882e9-255d-4fe0-9bdd-5d7d6b7287c8"
      },
      "source": [
        "print(a.intersection(b))\n",
        "print(a & b)"
      ],
      "execution_count": 12,
      "outputs": [
        {
          "output_type": "stream",
          "name": "stdout",
          "text": [
            "{'i'}\n",
            "{'i'}\n"
          ]
        }
      ]
    },
    {
      "cell_type": "code",
      "metadata": {
        "colab": {
          "base_uri": "https://localhost:8080/"
        },
        "id": "_UbvEaEDzwLS",
        "outputId": "03fe4258-8abb-4c16-a9f0-42a14c48efa2"
      },
      "source": [
        "date = \"09/04/2021\"\n",
        "a = set(date)\n",
        "print(a)"
      ],
      "execution_count": 15,
      "outputs": [
        {
          "output_type": "stream",
          "name": "stdout",
          "text": [
            "{'/', '1', '4', '9', '0', '2'}\n"
          ]
        }
      ]
    },
    {
      "cell_type": "code",
      "metadata": {
        "colab": {
          "base_uri": "https://localhost:8080/"
        },
        "id": "rM0-rrlyzwO4",
        "outputId": "7197b3d5-e604-4d40-b243-b42160240ebe"
      },
      "source": [
        "date_set = {\"09/04/2021\"}\n",
        "print(date_set)"
      ],
      "execution_count": 16,
      "outputs": [
        {
          "output_type": "stream",
          "name": "stdout",
          "text": [
            "{'09/04/2021'}\n"
          ]
        }
      ]
    },
    {
      "cell_type": "code",
      "metadata": {
        "colab": {
          "base_uri": "https://localhost:8080/"
        },
        "id": "UyK_ubqCzwSy",
        "outputId": "2a11bfc4-2cea-49d9-d88f-fb634c73f270"
      },
      "source": [
        "given_list = [1,1,1,1,2,2,2,3,3,3,4,4,4,4]\n",
        "print(set(given_list))"
      ],
      "execution_count": 17,
      "outputs": [
        {
          "output_type": "stream",
          "name": "stdout",
          "text": [
            "{1, 2, 3, 4}\n"
          ]
        }
      ]
    },
    {
      "cell_type": "code",
      "metadata": {
        "colab": {
          "base_uri": "https://localhost:8080/"
        },
        "id": "0S29uLuYzwbp",
        "outputId": "c5edd6bc-0d6c-4238-85e7-a0ae8962ff0a"
      },
      "source": [
        "usa = set(\"Washington\")\n",
        "newzealand=set(\"Willington\")\n",
        "print(usa - newzealand)\n",
        "print(newzealand - usa)\n",
        "print(usa | newzealand)\n",
        "print(usa & newzealand)"
      ],
      "execution_count": 21,
      "outputs": [
        {
          "output_type": "stream",
          "name": "stdout",
          "text": [
            "{'a', 's', 'h'}\n",
            "{'l'}\n",
            "{'a', 'o', 'h', 't', 'i', 'l', 'n', 'W', 'g', 's'}\n",
            "{'o', 't', 'i', 'n', 'g', 'W'}\n"
          ]
        }
      ]
    },
    {
      "cell_type": "code",
      "metadata": {
        "colab": {
          "base_uri": "https://localhost:8080/",
          "height": 185
        },
        "id": "2vOixJAxRhhd",
        "outputId": "7b860168-594f-4d66-ff26-cca861ae8a2b"
      },
      "source": [
        "given_list = [1,1,1,1,2,2,2,3,3,3,4,4,4,4]\n",
        "{given_list}  # unhashable type: 'list'"
      ],
      "execution_count": 22,
      "outputs": [
        {
          "output_type": "error",
          "ename": "TypeError",
          "evalue": "ignored",
          "traceback": [
            "\u001b[0;31m---------------------------------------------------------------------------\u001b[0m",
            "\u001b[0;31mTypeError\u001b[0m                                 Traceback (most recent call last)",
            "\u001b[0;32m<ipython-input-22-a1fd9152fe4b>\u001b[0m in \u001b[0;36m<module>\u001b[0;34m()\u001b[0m\n\u001b[1;32m      1\u001b[0m \u001b[0mgiven_list\u001b[0m \u001b[0;34m=\u001b[0m \u001b[0;34m[\u001b[0m\u001b[0;36m1\u001b[0m\u001b[0;34m,\u001b[0m\u001b[0;36m1\u001b[0m\u001b[0;34m,\u001b[0m\u001b[0;36m1\u001b[0m\u001b[0;34m,\u001b[0m\u001b[0;36m1\u001b[0m\u001b[0;34m,\u001b[0m\u001b[0;36m2\u001b[0m\u001b[0;34m,\u001b[0m\u001b[0;36m2\u001b[0m\u001b[0;34m,\u001b[0m\u001b[0;36m2\u001b[0m\u001b[0;34m,\u001b[0m\u001b[0;36m3\u001b[0m\u001b[0;34m,\u001b[0m\u001b[0;36m3\u001b[0m\u001b[0;34m,\u001b[0m\u001b[0;36m3\u001b[0m\u001b[0;34m,\u001b[0m\u001b[0;36m4\u001b[0m\u001b[0;34m,\u001b[0m\u001b[0;36m4\u001b[0m\u001b[0;34m,\u001b[0m\u001b[0;36m4\u001b[0m\u001b[0;34m,\u001b[0m\u001b[0;36m4\u001b[0m\u001b[0;34m]\u001b[0m\u001b[0;34m\u001b[0m\u001b[0;34m\u001b[0m\u001b[0m\n\u001b[0;32m----> 2\u001b[0;31m \u001b[0;34m{\u001b[0m\u001b[0mgiven_list\u001b[0m\u001b[0;34m}\u001b[0m\u001b[0;34m\u001b[0m\u001b[0;34m\u001b[0m\u001b[0m\n\u001b[0m",
            "\u001b[0;31mTypeError\u001b[0m: unhashable type: 'list'"
          ]
        }
      ]
    },
    {
      "cell_type": "code",
      "metadata": {
        "id": "aaK0aXiyzwgC"
      },
      "source": [
        "# Control Flow Statements"
      ],
      "execution_count": null,
      "outputs": []
    },
    {
      "cell_type": "code",
      "metadata": {
        "id": "eP-Vtr-tQ1qk"
      },
      "source": [
        "# if statements"
      ],
      "execution_count": null,
      "outputs": []
    },
    {
      "cell_type": "code",
      "metadata": {
        "colab": {
          "base_uri": "https://localhost:8080/"
        },
        "id": "4gUoSGvwQ1to",
        "outputId": "2be9583e-c28f-470b-c762-755e2727b979"
      },
      "source": [
        "if True:\n",
        "  print(\"It is True\")"
      ],
      "execution_count": 23,
      "outputs": [
        {
          "output_type": "stream",
          "name": "stdout",
          "text": [
            "It is True\n"
          ]
        }
      ]
    },
    {
      "cell_type": "code",
      "metadata": {
        "colab": {
          "base_uri": "https://localhost:8080/"
        },
        "id": "CTCIEz0LQ1v8",
        "outputId": "847426ee-93db-46c3-e55d-f27f38061cb2"
      },
      "source": [
        "if 1:\n",
        "  print(\"It is Truthy\")"
      ],
      "execution_count": 26,
      "outputs": [
        {
          "output_type": "stream",
          "name": "stdout",
          "text": [
            "It is Truthy\n"
          ]
        }
      ]
    },
    {
      "cell_type": "code",
      "metadata": {
        "colab": {
          "base_uri": "https://localhost:8080/"
        },
        "id": "D2XQ4SBKQ1yq",
        "outputId": "56f35642-e3ad-4152-a518-c0c7fc75ffa1"
      },
      "source": [
        "price = '2000'\n",
        "\n",
        "if price <= '2000':\n",
        "  print(\"It worked\")\n",
        "else:\n",
        "  print(\"It did not work\")"
      ],
      "execution_count": 27,
      "outputs": [
        {
          "output_type": "stream",
          "name": "stdout",
          "text": [
            "It worked\n"
          ]
        }
      ]
    },
    {
      "cell_type": "code",
      "metadata": {
        "id": "lKaMGljtWJlr"
      },
      "source": [
        "price = '2000'\n",
        "\n",
        "if price <= 2000:  # '<=' not supported between instances of 'str' and 'int'\n",
        "  print(\"It worked\")\n",
        "else:\n",
        "  print(\"It did not work\")"
      ],
      "execution_count": null,
      "outputs": []
    },
    {
      "cell_type": "code",
      "metadata": {
        "colab": {
          "base_uri": "https://localhost:8080/"
        },
        "id": "I8QIS2ztWJou",
        "outputId": "ca6c0783-59e2-4a2b-dd1e-bab4e3300bc2"
      },
      "source": [
        "meat= True\n",
        "bread = True\n",
        "\n",
        "lettuce = True\n",
        "pepper = True\n",
        "\n",
        "store = True\n",
        "\n",
        "hamburger = (meat and store and bread) and (lettuce or pepper)\n",
        "\n",
        "if hamburger:\n",
        "  print(\"Guten Appetit\")\n"
      ],
      "execution_count": 29,
      "outputs": [
        {
          "output_type": "stream",
          "name": "stdout",
          "text": [
            "Guten Appetit\n"
          ]
        }
      ]
    },
    {
      "cell_type": "code",
      "metadata": {
        "colab": {
          "base_uri": "https://localhost:8080/"
        },
        "id": "9a7qKGlGWJrg",
        "outputId": "61ba56d0-0f87-458d-cb6b-f7e9a66587b2"
      },
      "source": [
        "convert = input(\"Enter Yes or No\").title().strip() == \"Yes\"\n",
        "print(\"You entered :\", convert)"
      ],
      "execution_count": 31,
      "outputs": [
        {
          "output_type": "stream",
          "name": "stdout",
          "text": [
            "Enter Yes or Noabuziddin\n",
            "You entered : False\n"
          ]
        }
      ]
    },
    {
      "cell_type": "code",
      "metadata": {
        "id": "b0NuAjVFWJuS"
      },
      "source": [
        "print(\"You entered :\", input(\"Enter Yes or No\").title().strip() == \"Yes\")"
      ],
      "execution_count": null,
      "outputs": []
    },
    {
      "cell_type": "code",
      "metadata": {
        "colab": {
          "base_uri": "https://localhost:8080/"
        },
        "id": "YzlBKmGwQ11d",
        "outputId": "869e5449-fba4-4893-900d-ea5813f28357"
      },
      "source": [
        "num = int(input(\"Enter a number : \"))\n",
        "if num % 2 :\n",
        "  print(\"{} is a odd number\".format(num))\n",
        "else:\n",
        "  print(\"{} is a even number\".format(num))"
      ],
      "execution_count": 36,
      "outputs": [
        {
          "output_type": "stream",
          "name": "stdout",
          "text": [
            "Enter a number : 5\n",
            "5 is a odd number\n"
          ]
        }
      ]
    },
    {
      "cell_type": "code",
      "metadata": {
        "colab": {
          "base_uri": "https://localhost:8080/"
        },
        "id": "pnAJfjzmQ14t",
        "outputId": "d902b3bf-33de-422f-9083-91f5e66a8b5c"
      },
      "source": [
        "num = int(input(\"Enter a number : \"))\n",
        "if num == 0 :\n",
        "  print(\"{} is zero\".format(num))\n",
        "elif num > 0:\n",
        "  print(\"{} is greater than zero\".format(num))\n",
        "else:\n",
        "  print(\"{} is less than zero\".format(num))"
      ],
      "execution_count": 40,
      "outputs": [
        {
          "output_type": "stream",
          "name": "stdout",
          "text": [
            "Enter a number : -9\n",
            "-9 is less than zero\n"
          ]
        }
      ]
    },
    {
      "cell_type": "code",
      "metadata": {
        "colab": {
          "base_uri": "https://localhost:8080/"
        },
        "id": "ksKnAMRQQ17q",
        "outputId": "71357905-165c-466d-b8d9-b52ae068a9cc"
      },
      "source": [
        "num1 = int(input(\"Enter first number : \"))\n",
        "num2 = int(input(\"Enter second number : \"))\n",
        "\n",
        "if num1 > num2 :\n",
        "  print(\"{} is greater than {}\".format(num1, num2))\n",
        "elif num1 < num2 :\n",
        "  print(\"{} is less than {}\".format(num1, num2))\n",
        "else:\n",
        "  print(\"They are equal\")"
      ],
      "execution_count": 44,
      "outputs": [
        {
          "output_type": "stream",
          "name": "stdout",
          "text": [
            "Enter first number : 5\n",
            "Enter second number : 5\n",
            "They are equal\n"
          ]
        }
      ]
    },
    {
      "cell_type": "code",
      "metadata": {
        "id": "v1BM9JzFQ1-G"
      },
      "source": [
        "num1 = int(input(\"Enter first number : \"))\n",
        "num2 = int(input(\"Enter second number : \"))\n",
        "\n",
        "if num1 > num2 :\n",
        "  larger = num1\n",
        "else:\n",
        "  larger = num2\n",
        "  \n",
        "print(\"Larger number is \", larger)"
      ],
      "execution_count": null,
      "outputs": []
    },
    {
      "cell_type": "code",
      "metadata": {
        "colab": {
          "base_uri": "https://localhost:8080/"
        },
        "id": "D8lpmFTkzw9a",
        "outputId": "2f2e862d-7112-4d1c-d65b-6338ca8c23cb"
      },
      "source": [
        "bool_value = False\n",
        "\n",
        "if bool_value:\n",
        "  print(\"It is Yes\")\n",
        "else:\n",
        "  print(\"It is No\")"
      ],
      "execution_count": 46,
      "outputs": [
        {
          "output_type": "stream",
          "name": "stdout",
          "text": [
            "It is No\n"
          ]
        }
      ]
    },
    {
      "cell_type": "code",
      "metadata": {
        "id": "aO3k-xfxjqc2"
      },
      "source": [
        ""
      ],
      "execution_count": null,
      "outputs": []
    },
    {
      "cell_type": "code",
      "metadata": {
        "id": "R8THW7rVjqfv"
      },
      "source": [
        ""
      ],
      "execution_count": null,
      "outputs": []
    },
    {
      "cell_type": "code",
      "metadata": {
        "id": "HSaDJIHsjqi8"
      },
      "source": [
        ""
      ],
      "execution_count": null,
      "outputs": []
    },
    {
      "cell_type": "code",
      "metadata": {
        "id": "VITGp16Ijql0"
      },
      "source": [
        ""
      ],
      "execution_count": null,
      "outputs": []
    },
    {
      "cell_type": "code",
      "metadata": {
        "id": "jjEFF3hajqoq"
      },
      "source": [
        ""
      ],
      "execution_count": null,
      "outputs": []
    },
    {
      "cell_type": "code",
      "metadata": {
        "id": "6aqGcTTLjqrr"
      },
      "source": [
        ""
      ],
      "execution_count": null,
      "outputs": []
    }
  ]
}