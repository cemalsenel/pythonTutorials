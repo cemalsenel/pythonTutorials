{
  "nbformat": 4,
  "nbformat_minor": 0,
  "metadata": {
    "colab": {
      "name": "pythonDay15.ipynb",
      "provenance": [],
      "collapsed_sections": []
    },
    "kernelspec": {
      "name": "python3",
      "display_name": "Python 3"
    },
    "language_info": {
      "name": "python"
    }
  },
  "cells": [
    {
      "cell_type": "code",
      "metadata": {
        "colab": {
          "base_uri": "https://localhost:8080/"
        },
        "id": "2AdyXHWMzs3b",
        "outputId": "60bf0efd-af15-487b-ded4-90f762127666"
      },
      "source": [
        "sentence = input(\"Write a sentence\")\n",
        "words = sentence.split()\n",
        "i = 0\n",
        "longest = 0\n",
        "\n",
        "while i < len(words) :\n",
        "  if len(words[i]) > longest :\n",
        "    longest = len(words[i])\n",
        "  i +=1\n",
        "print(\"The longest words has {} chars.\".format(longest))\n"
      ],
      "execution_count": null,
      "outputs": [
        {
          "output_type": "stream",
          "name": "stdout",
          "text": [
            "Write a sentenceali ata bakar\n",
            "The longest words has 5 chars.\n"
          ]
        }
      ]
    },
    {
      "cell_type": "code",
      "metadata": {
        "id": "sorKX0Cxz2GH"
      },
      "source": [
        "# for loop"
      ],
      "execution_count": null,
      "outputs": []
    },
    {
      "cell_type": "code",
      "metadata": {
        "colab": {
          "base_uri": "https://localhost:8080/"
        },
        "id": "9N3Tqhb8z2JJ",
        "outputId": "f056dbb2-5f67-4441-9931-517da9d7b8fa"
      },
      "source": [
        "for i in [1, 2, 3, 4, 5, 6]:\n",
        "  print(i)"
      ],
      "execution_count": null,
      "outputs": [
        {
          "output_type": "stream",
          "name": "stdout",
          "text": [
            "1\n",
            "2\n",
            "3\n",
            "4\n",
            "5\n",
            "6\n"
          ]
        }
      ]
    },
    {
      "cell_type": "code",
      "metadata": {
        "colab": {
          "base_uri": "https://localhost:8080/"
        },
        "id": "DMiPwA5kz2Rm",
        "outputId": "0592be5b-670f-4d9a-a810-94eb0093bf8b"
      },
      "source": [
        "seasons = [\"spring\", \"summer\", \"autumn\", \"winter\"]\n",
        "\n",
        "for season in seasons :\n",
        "  print(season)"
      ],
      "execution_count": null,
      "outputs": [
        {
          "output_type": "stream",
          "name": "stdout",
          "text": [
            "spring\n",
            "summer\n",
            "autumn\n",
            "winter\n"
          ]
        }
      ]
    },
    {
      "cell_type": "code",
      "metadata": {
        "colab": {
          "base_uri": "https://localhost:8080/"
        },
        "id": "zY8vnOrcz2UZ",
        "outputId": "af5ec9cf-fa0a-41c2-ccf6-ba4b3d2d4843"
      },
      "source": [
        "names = [\"Jimmy\", \"John\", \"Joe\"]\n",
        "\n",
        "for name in names :\n",
        "  print(\"Hello \",name)"
      ],
      "execution_count": null,
      "outputs": [
        {
          "output_type": "stream",
          "name": "stdout",
          "text": [
            "Hello  Jimmy\n",
            "Hello  John\n",
            "Hello  Joe\n"
          ]
        }
      ]
    },
    {
      "cell_type": "code",
      "metadata": {
        "colab": {
          "base_uri": "https://localhost:8080/"
        },
        "id": "DtuxOnYEz2XG",
        "outputId": "2f08842d-2307-4ce5-9657-b6cb5fa5276d"
      },
      "source": [
        "sum = 0 \n",
        "for i in range(1,6):\n",
        "  sum += i\n",
        "print(sum)"
      ],
      "execution_count": null,
      "outputs": [
        {
          "output_type": "stream",
          "name": "stdout",
          "text": [
            "15\n"
          ]
        }
      ]
    },
    {
      "cell_type": "code",
      "metadata": {
        "colab": {
          "base_uri": "https://localhost:8080/"
        },
        "id": "OqOcw1Dwz2ad",
        "outputId": "2a8d0884-f98f-482f-80f2-a95ede76a3bb"
      },
      "source": [
        "numbers = []\n",
        "\n",
        "for i in range(6) :\n",
        "  numbers.append(i)\n",
        "print(numbers)"
      ],
      "execution_count": null,
      "outputs": [
        {
          "output_type": "stream",
          "name": "stdout",
          "text": [
            "[0, 1, 2, 3, 4, 5]\n"
          ]
        }
      ]
    },
    {
      "cell_type": "code",
      "metadata": {
        "colab": {
          "base_uri": "https://localhost:8080/"
        },
        "id": "9Rq3gp3Pz2da",
        "outputId": "ddc92a6a-6eb3-494d-b83f-57f47410107a"
      },
      "source": [
        "name = \"jimmy\"\n",
        "\n",
        "for i in name :\n",
        "  print(i, end = \" // \")"
      ],
      "execution_count": null,
      "outputs": [
        {
          "output_type": "stream",
          "name": "stdout",
          "text": [
            "j // i // m // m // y // "
          ]
        }
      ]
    },
    {
      "cell_type": "code",
      "metadata": {
        "colab": {
          "base_uri": "https://localhost:8080/"
        },
        "id": "I-tRO7kG3xWG",
        "outputId": "897bd67f-3f4b-43f5-c4d3-e72798826eed"
      },
      "source": [
        "word = \"jimmy\"\n",
        "count = 0\n",
        "\n",
        "for i in word :\n",
        "  count += 1\n",
        "  if count < len(word) :\n",
        "    i = i + \"-\"\n",
        "  print(i, end=\"\")"
      ],
      "execution_count": null,
      "outputs": [
        {
          "output_type": "stream",
          "name": "stdout",
          "text": [
            "j-i-m-m-y"
          ]
        }
      ]
    },
    {
      "cell_type": "code",
      "metadata": {
        "colab": {
          "base_uri": "https://localhost:8080/"
        },
        "id": "9LtL4U1I3xZc",
        "outputId": "e8fd3f44-f50f-448b-ac71-4d09df02c7ed"
      },
      "source": [
        "user = {\n",
        "    \"name\":\"Smith\",\n",
        "    \"surname\":\"John\",\n",
        "    \"age\":32\n",
        "}\n",
        "\n",
        "for attribute in user :  # dictionary key'ler üzerinden iterate edilir\n",
        "  print(attribute)"
      ],
      "execution_count": null,
      "outputs": [
        {
          "output_type": "stream",
          "name": "stdout",
          "text": [
            "name\n",
            "surname\n",
            "age\n"
          ]
        }
      ]
    },
    {
      "cell_type": "code",
      "metadata": {
        "colab": {
          "base_uri": "https://localhost:8080/"
        },
        "id": "Tpyl8oX16VMS",
        "outputId": "f6e09d6c-6183-4ed4-ac1e-3596cbf85e28"
      },
      "source": [
        "names =[\"cemil\", \"nurettin\", \"oguz\", \"victor\"]\n",
        "\n",
        "print(f\"cemil {names.index('oguz')} numaralı indeks'te\")"
      ],
      "execution_count": null,
      "outputs": [
        {
          "output_type": "stream",
          "name": "stdout",
          "text": [
            "cemil 2 numaralı indeks'te\n"
          ]
        }
      ]
    },
    {
      "cell_type": "code",
      "metadata": {
        "colab": {
          "base_uri": "https://localhost:8080/"
        },
        "id": "11Ft5tY86VmK",
        "outputId": "1bf652fa-7ba4-404e-b1bf-7a94acfb05b3"
      },
      "source": [
        "v = (\"five\", 5, True)\n",
        "(x, y, z) = v\n",
        "print(x, y, z)"
      ],
      "execution_count": null,
      "outputs": [
        {
          "output_type": "stream",
          "name": "stdout",
          "text": [
            "five 5 True\n"
          ]
        }
      ]
    },
    {
      "cell_type": "code",
      "metadata": {
        "colab": {
          "base_uri": "https://localhost:8080/"
        },
        "id": "Ty4gOBcA6VpT",
        "outputId": "610b8f8a-6717-42a6-8305-1f257b7b4bc7"
      },
      "source": [
        "(monday, tuesday, wedneday, thursday, friday, saturday, sunday) = tuple(range(1, 8))  # loops, collections, *  => object formatında dönen sonuçları bu yöntemler ile açabiliriz\n",
        "sunday"
      ],
      "execution_count": null,
      "outputs": [
        {
          "output_type": "execute_result",
          "data": {
            "text/plain": [
              "7"
            ]
          },
          "metadata": {},
          "execution_count": 19
        }
      ]
    },
    {
      "cell_type": "code",
      "metadata": {
        "colab": {
          "base_uri": "https://localhost:8080/"
        },
        "id": "TVeKSGgQ3xcn",
        "outputId": "1ba54cc8-0c90-4dc4-9902-5a5f075dc7c8"
      },
      "source": [
        "print([1, 2, 3, 4] + [\"11\", \"22\", 33])"
      ],
      "execution_count": null,
      "outputs": [
        {
          "output_type": "stream",
          "name": "stdout",
          "text": [
            "[1, 2, 3, 4, '11', '22', 33]\n"
          ]
        }
      ]
    },
    {
      "cell_type": "code",
      "metadata": {
        "colab": {
          "base_uri": "https://localhost:8080/"
        },
        "id": "_WQVsFcS3xe9",
        "outputId": "c4c4e60c-a0aa-48c5-a8cb-7bc8c37282d3"
      },
      "source": [
        "tt = (1, 2, [1, 3, 5])\n",
        "tt[2].append(4)\n",
        "tt"
      ],
      "execution_count": null,
      "outputs": [
        {
          "output_type": "execute_result",
          "data": {
            "text/plain": [
              "(1, 2, [1, 3, 5, 4])"
            ]
          },
          "metadata": {},
          "execution_count": 24
        }
      ]
    },
    {
      "cell_type": "code",
      "metadata": {
        "colab": {
          "base_uri": "https://localhost:8080/"
        },
        "id": "JbB-HLRM3xh9",
        "outputId": "631be744-ff1d-41d0-dfc2-19f69e0e0415"
      },
      "source": [
        "x, y = (10, 20)\n",
        "x,y"
      ],
      "execution_count": null,
      "outputs": [
        {
          "output_type": "execute_result",
          "data": {
            "text/plain": [
              "(10, 20)"
            ]
          },
          "metadata": {},
          "execution_count": 25
        }
      ]
    },
    {
      "cell_type": "code",
      "metadata": {
        "colab": {
          "base_uri": "https://localhost:8080/"
        },
        "id": "q6DD7id48jw3",
        "outputId": "4e5f883f-542d-4ad9-bfcb-aeba3fa1f957"
      },
      "source": [
        "# a, b = (10, 20, 30, 40)\n",
        "a, _, b, _ = (10, 20, 30, 40)\n",
        "a, b"
      ],
      "execution_count": null,
      "outputs": [
        {
          "output_type": "execute_result",
          "data": {
            "text/plain": [
              "(10, 30)"
            ]
          },
          "metadata": {},
          "execution_count": 28
        }
      ]
    },
    {
      "cell_type": "code",
      "metadata": {
        "colab": {
          "base_uri": "https://localhost:8080/"
        },
        "id": "liT1Jjfw8jzP",
        "outputId": "341fdb30-ce08-45fd-c695-3c154ccd4ebf"
      },
      "source": [
        "x, y, *z = (10, 20, 30, 40, 50)\n",
        "x, \" \", y,\" \", z"
      ],
      "execution_count": null,
      "outputs": [
        {
          "output_type": "execute_result",
          "data": {
            "text/plain": [
              "(10, ' ', 20, ' ', [30, 40, 50])"
            ]
          },
          "metadata": {},
          "execution_count": 29
        }
      ]
    },
    {
      "cell_type": "code",
      "metadata": {
        "id": "qlm98BMT8j2O"
      },
      "source": [
        "x, y, *_ = (10, 20, 30, 40, 50)"
      ],
      "execution_count": null,
      "outputs": []
    },
    {
      "cell_type": "code",
      "metadata": {
        "colab": {
          "base_uri": "https://localhost:8080/"
        },
        "id": "ZG3YVegW8j5b",
        "outputId": "0497417e-e685-4d84-e1b8-002a3c3f3bd1"
      },
      "source": [
        "x, y, *z, t  = (10, 20, 30, 40, 50, 60, 70)\n",
        "x, \" \", y,\" \", z, \" \", t"
      ],
      "execution_count": null,
      "outputs": [
        {
          "output_type": "execute_result",
          "data": {
            "text/plain": [
              "(10, ' ', 20, ' ', [30, 40, 50, 60], ' ', 70)"
            ]
          },
          "metadata": {},
          "execution_count": 30
        }
      ]
    },
    {
      "cell_type": "code",
      "metadata": {
        "colab": {
          "base_uri": "https://localhost:8080/"
        },
        "id": "bPWuPDg38j8q",
        "outputId": "470f6e11-e7b2-45a7-ae93-c60e45dea901"
      },
      "source": [
        "x, y, *_, t, w  = (10, 20, 30, 40, 50, 60, 70, 80, 90)\n",
        "x, \" \", y,\" \", t, \" \", w"
      ],
      "execution_count": null,
      "outputs": [
        {
          "output_type": "execute_result",
          "data": {
            "text/plain": [
              "(10, ' ', 20, ' ', 80, ' ', 90)"
            ]
          },
          "metadata": {},
          "execution_count": 31
        }
      ]
    },
    {
      "cell_type": "code",
      "metadata": {
        "colab": {
          "base_uri": "https://localhost:8080/"
        },
        "id": "7NeCbli78kAM",
        "outputId": "1d60cd85-ee72-4e20-ae86-7f50b8b6297c"
      },
      "source": [
        "user = {\n",
        "    \"name\":\"Smith\",\n",
        "    \"surname\":\"John\",\n",
        "    \"age\":32\n",
        "}\n",
        "\n",
        "for attribute in user.values() :  \n",
        "  print(attribute, end=\" \")"
      ],
      "execution_count": null,
      "outputs": [
        {
          "output_type": "stream",
          "name": "stdout",
          "text": [
            "Smith John 32 "
          ]
        }
      ]
    },
    {
      "cell_type": "code",
      "metadata": {
        "colab": {
          "base_uri": "https://localhost:8080/"
        },
        "id": "2rvxcGGg8kCf",
        "outputId": "c1739b77-9164-4d64-d7c6-7027b99e674d"
      },
      "source": [
        "user = {\n",
        "    \"name\":\"Smith\",\n",
        "    \"surname\":\"John\",\n",
        "    \"age\":32\n",
        "}\n",
        "\n",
        "for key, value in user.items() :  \n",
        "  print(key, \":\", value)"
      ],
      "execution_count": null,
      "outputs": [
        {
          "output_type": "stream",
          "name": "stdout",
          "text": [
            "name : Smith\n",
            "surname : John\n",
            "age : 32\n"
          ]
        }
      ]
    },
    {
      "cell_type": "code",
      "metadata": {
        "colab": {
          "base_uri": "https://localhost:8080/"
        },
        "id": "eAdqxmI6_ENC",
        "outputId": "09288f73-de9d-4a11-dc31-c8a453545eeb"
      },
      "source": [
        "user = {\n",
        "    \"name\":\"Smith\",\n",
        "    \"surname\":\"John\",\n",
        "    \"age\":32\n",
        "}\n",
        "\n",
        "for item in user.items() :  \n",
        "  print(item)"
      ],
      "execution_count": null,
      "outputs": [
        {
          "output_type": "stream",
          "name": "stdout",
          "text": [
            "('name', 'Smith')\n",
            "('surname', 'John')\n",
            "('age', 32)\n"
          ]
        }
      ]
    },
    {
      "cell_type": "code",
      "metadata": {
        "colab": {
          "base_uri": "https://localhost:8080/"
        },
        "id": "dyIVd8nf_EQe",
        "outputId": "2f6f3492-344a-4f18-ed09-7149ec926711"
      },
      "source": [
        "number = int(input(\"Enter a number : \"))\n",
        "\n",
        "for i in range(11):\n",
        "  print(\"{} x {} = {}\".format(number, i , (i*number)))"
      ],
      "execution_count": null,
      "outputs": [
        {
          "output_type": "stream",
          "name": "stdout",
          "text": [
            "Enter a number : 11\n",
            "11 x 0 = 0\n",
            "11 x 1 = 11\n",
            "11 x 2 = 22\n",
            "11 x 3 = 33\n",
            "11 x 4 = 44\n",
            "11 x 5 = 55\n",
            "11 x 6 = 66\n",
            "11 x 7 = 77\n",
            "11 x 8 = 88\n",
            "11 x 9 = 99\n",
            "11 x 10 = 110\n"
          ]
        }
      ]
    },
    {
      "cell_type": "code",
      "metadata": {
        "colab": {
          "base_uri": "https://localhost:8080/"
        },
        "id": "nrMmLFF0_ETK",
        "outputId": "72830a6a-c0ab-478e-86c4-ea1e7a8f3765"
      },
      "source": [
        "print(*range(6))  # for, collections, *\n",
        "\n",
        "print(*(\"jimmy\"))\n",
        "\n",
        "print(*range(10, -8, -2))\n",
        "\n",
        "print(*range(1,25,4))\n",
        "\n",
        "print(set(range(1,6,2)))\n",
        "\n",
        "print(tuple(range(1,6,2)))\n",
        "\n",
        "print(list(range(1,6,2)))\n",
        "\n",
        "for i in range(1,6) :\n",
        "  print(i, end=\" \")\n"
      ],
      "execution_count": null,
      "outputs": [
        {
          "output_type": "stream",
          "name": "stdout",
          "text": [
            "0 1 2 3 4 5\n",
            "j i m m y\n",
            "10 8 6 4 2 0 -2 -4 -6\n",
            "1 5 9 13 17 21\n",
            "{1, 3, 5}\n",
            "(1, 3, 5)\n",
            "[1, 3, 5]\n",
            "1 2 3 4 5 "
          ]
        }
      ]
    },
    {
      "cell_type": "code",
      "metadata": {
        "colab": {
          "base_uri": "https://localhost:8080/"
        },
        "id": "jQVPpDw6_EVm",
        "outputId": "9721aa88-b7a3-4489-feb9-9f22a86ca828"
      },
      "source": [
        "text = [\"one\", \"two\", \"three\", \"four\"]\n",
        "numbers = [1, 2, 3, 4]\n",
        "\n",
        "print(*zip(text, numbers))\n",
        "\n",
        "print(list(zip(text, numbers)))\n",
        "\n",
        "print(tuple(zip(text, numbers)))\n",
        "\n",
        "for x,y in zip(text, numbers):\n",
        "  print(x, \" : \", y)"
      ],
      "execution_count": null,
      "outputs": [
        {
          "output_type": "stream",
          "name": "stdout",
          "text": [
            "('one', 1) ('two', 2) ('three', 3) ('four', 4)\n",
            "[('one', 1), ('two', 2), ('three', 3), ('four', 4)]\n",
            "(('one', 1), ('two', 2), ('three', 3), ('four', 4))\n",
            "one  :  1\n",
            "two  :  2\n",
            "three  :  3\n",
            "four  :  4\n"
          ]
        }
      ]
    },
    {
      "cell_type": "code",
      "metadata": {
        "id": "_wGHUCU2_EYp"
      },
      "source": [
        ""
      ],
      "execution_count": null,
      "outputs": []
    },
    {
      "cell_type": "code",
      "metadata": {
        "id": "G9a_-ahB_Eby"
      },
      "source": [
        ""
      ],
      "execution_count": null,
      "outputs": []
    },
    {
      "cell_type": "code",
      "metadata": {
        "id": "8OySJwgP8kFD"
      },
      "source": [
        ""
      ],
      "execution_count": null,
      "outputs": []
    },
    {
      "cell_type": "code",
      "metadata": {
        "id": "92RrtnUt3xlE"
      },
      "source": [
        ""
      ],
      "execution_count": null,
      "outputs": []
    }
  ]
}