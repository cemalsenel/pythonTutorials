{
  "nbformat": 4,
  "nbformat_minor": 0,
  "metadata": {
    "colab": {
      "name": "pythonDay14.ipynb",
      "provenance": [],
      "collapsed_sections": []
    },
    "kernelspec": {
      "name": "python3",
      "display_name": "Python 3"
    },
    "language_info": {
      "name": "python"
    }
  },
  "cells": [
    {
      "cell_type": "code",
      "metadata": {
        "colab": {
          "base_uri": "https://localhost:8080/"
        },
        "id": "FpqhNTX9kfLt",
        "outputId": "39d1bf7d-5059-4b8b-99a5-1194a6e1860b"
      },
      "source": [
        "score = float(input(\"Enter your score : \"))\n",
        "\n",
        "if score >= 90 :\n",
        "  if score >= 95 :\n",
        "    degree = \"A+\"\n",
        "  else:\n",
        "    degree = \"A\" \n",
        "elif score >= 80 :\n",
        "  if score >= 85 :\n",
        "    degree = \"B+\"\n",
        "  else:\n",
        "    degree=\"B\"\n",
        "else:\n",
        "  degree = \"B-\"\n",
        "print(\"Your degree is : \", degree)"
      ],
      "execution_count": 1,
      "outputs": [
        {
          "output_type": "stream",
          "name": "stdout",
          "text": [
            "Your degree is :  B\n"
          ]
        }
      ]
    },
    {
      "cell_type": "code",
      "metadata": {
        "id": "TR2N7yiyiHRp"
      },
      "source": [
        "# Loops"
      ],
      "execution_count": null,
      "outputs": []
    },
    {
      "cell_type": "code",
      "metadata": {
        "id": "Im_nwc7ZiHUu"
      },
      "source": [
        "#while"
      ],
      "execution_count": null,
      "outputs": []
    },
    {
      "cell_type": "code",
      "metadata": {
        "colab": {
          "base_uri": "https://localhost:8080/"
        },
        "id": "JJ0lqq8XiHXH",
        "outputId": "f17f839e-c8d6-4928-dcc5-180686385f4b"
      },
      "source": [
        "while None:\n",
        "  print(\"Inside While\")\n",
        "print(\"Outside While\")"
      ],
      "execution_count": 2,
      "outputs": [
        {
          "output_type": "stream",
          "name": "stdout",
          "text": [
            "Outside While\n"
          ]
        }
      ]
    },
    {
      "cell_type": "code",
      "metadata": {
        "colab": {
          "base_uri": "https://localhost:8080/"
        },
        "id": "f5_3_1MliHZ8",
        "outputId": "e3764e61-53ad-4df6-fbda-386f34989f62"
      },
      "source": [
        "number = 0\n",
        "while number <= 6 :\n",
        "  print(number)\n",
        "  number += 1\n",
        "print(\"Number is greater than 6\")"
      ],
      "execution_count": 3,
      "outputs": [
        {
          "output_type": "stream",
          "name": "stdout",
          "text": [
            "0\n",
            "1\n",
            "2\n",
            "3\n",
            "4\n",
            "5\n",
            "6\n",
            "Number is greater than 6\n"
          ]
        }
      ]
    },
    {
      "cell_type": "code",
      "metadata": {
        "colab": {
          "base_uri": "https://localhost:8080/"
        },
        "id": "b1eI5gubiHfV",
        "outputId": "bf38c14a-af2d-459a-aa20-95c22477ed71"
      },
      "source": [
        "my_list = [\"a\", \"b\", \"c\", \"d\", \"e\", \"f\"]\n",
        "\n",
        "a = 0\n",
        "while a < len(my_list):\n",
        "  print(\"square of {} is : {}\".format(a, a**2))\n",
        "  a +=1"
      ],
      "execution_count": 4,
      "outputs": [
        {
          "output_type": "stream",
          "name": "stdout",
          "text": [
            "square of 0 is : 0\n",
            "square of 1 is : 1\n",
            "square of 2 is : 4\n",
            "square of 3 is : 9\n",
            "square of 4 is : 16\n",
            "square of 5 is : 25\n"
          ]
        }
      ]
    },
    {
      "cell_type": "code",
      "metadata": {
        "colab": {
          "base_uri": "https://localhost:8080/"
        },
        "id": "q71Bz7b6iHqd",
        "outputId": "5febc525-d3ad-4b11-a66a-54d540867263"
      },
      "source": [
        "age = input(\"Enter your age  : \")\n",
        "\n",
        "while not age.isdigit() :\n",
        "  print(\"You entered incorrect!\")\n",
        "  age = input(\"Enter valid age : \")\n",
        "print(\"You entered valid age : \", age)"
      ],
      "execution_count": 14,
      "outputs": [
        {
          "output_type": "stream",
          "name": "stdout",
          "text": [
            "Enter your age  : h\n",
            "You entered incorrect!\n",
            "Enter valid age : 5\n",
            "You entered valid age :  5\n"
          ]
        }
      ]
    },
    {
      "cell_type": "code",
      "metadata": {
        "colab": {
          "base_uri": "https://localhost:8080/"
        },
        "id": "Om9cdADDoSLl",
        "outputId": "a475e2cc-d8e1-407f-f8c2-8a7252e5b01a"
      },
      "source": [
        "answer = 45\n",
        "question = \"Guess a number : \"\n",
        "while True :\n",
        "  guess = int(input(question))\n",
        "  if guess < answer :\n",
        "    print(\"Little higher!\")\n",
        "  elif guess > answer :\n",
        "    print(\"Little lower!\")\n",
        "  else : # guess == answer\n",
        "    print(\"Right!\")\n",
        "    break"
      ],
      "execution_count": 17,
      "outputs": [
        {
          "output_type": "stream",
          "name": "stdout",
          "text": [
            "Guess a number : 34\n",
            "Little higher!\n",
            "Guess a number : 54\n",
            "Little lower!\n",
            "Guess a number : 25\n",
            "Little higher!\n",
            "Guess a number : 44\n",
            "Little higher!\n",
            "Guess a number : 45\n",
            "Right!\n"
          ]
        }
      ]
    },
    {
      "cell_type": "code",
      "metadata": {
        "colab": {
          "base_uri": "https://localhost:8080/"
        },
        "id": "1KeajHLpoSOG",
        "outputId": "3f2e8ea3-fff2-4eae-a1dc-ca036d11b0e5"
      },
      "source": [
        "# The Most Frequent Numbers\n",
        "\n",
        "numbers = [-1, 5, 9, 6, 5, 3, 2, 5, 1, 3, 7, 5]\n",
        "max(numbers)"
      ],
      "execution_count": 23,
      "outputs": [
        {
          "output_type": "execute_result",
          "data": {
            "text/plain": [
              "9"
            ]
          },
          "metadata": {},
          "execution_count": 23
        }
      ]
    },
    {
      "cell_type": "code",
      "metadata": {
        "colab": {
          "base_uri": "https://localhost:8080/",
          "height": 35
        },
        "id": "g9FlBvUFoSRE",
        "outputId": "d225cea6-164d-4c1c-9448-700aff926f79"
      },
      "source": [
        "empty = []\n",
        "max(empty, default = \"Boş array\")"
      ],
      "execution_count": 19,
      "outputs": [
        {
          "output_type": "execute_result",
          "data": {
            "application/vnd.google.colaboratory.intrinsic+json": {
              "type": "string"
            },
            "text/plain": [
              "'Boş array'"
            ]
          },
          "metadata": {},
          "execution_count": 19
        }
      ]
    },
    {
      "cell_type": "code",
      "metadata": {
        "colab": {
          "base_uri": "https://localhost:8080/"
        },
        "id": "e-A7-Z8xoSTS",
        "outputId": "7411d954-acf8-48a1-867a-aeb8023058d3"
      },
      "source": [
        "numbers = [-1, 5, 9, 6, 5, 3, 2, 5, 1, 3, 7, 5]\n",
        "numbers.count(5)  "
      ],
      "execution_count": 25,
      "outputs": [
        {
          "output_type": "execute_result",
          "data": {
            "text/plain": [
              "4"
            ]
          },
          "metadata": {},
          "execution_count": 25
        }
      ]
    },
    {
      "cell_type": "code",
      "metadata": {
        "colab": {
          "base_uri": "https://localhost:8080/"
        },
        "id": "yjaJb6qeoSY5",
        "outputId": "4ae087cc-b08e-47da-bd7b-e820681f0555"
      },
      "source": [
        "numbers = [-1, 5, 9, 6, 5, 3, 2, 5, 1, 3, 7, 5]\n",
        "max(numbers, key = numbers.count)  # en fazla 5 tekrar ediliyor"
      ],
      "execution_count": 27,
      "outputs": [
        {
          "output_type": "execute_result",
          "data": {
            "text/plain": [
              "5"
            ]
          },
          "metadata": {},
          "execution_count": 27
        }
      ]
    },
    {
      "cell_type": "code",
      "metadata": {
        "colab": {
          "base_uri": "https://localhost:8080/"
        },
        "id": "pZbNgwryoSd8",
        "outputId": "40b46fc6-87c9-4d49-e5af-5160630e518c"
      },
      "source": [
        "numbers = [-1, 5, 9, 6, 5, 3, 2, 5, 1, 3, 7, 5]\n",
        "numbers.count(max(numbers, key= numbers.count))  # 4 tane 5 var"
      ],
      "execution_count": 28,
      "outputs": [
        {
          "output_type": "execute_result",
          "data": {
            "text/plain": [
              "4"
            ]
          },
          "metadata": {},
          "execution_count": 28
        }
      ]
    },
    {
      "cell_type": "code",
      "metadata": {
        "id": "gUeZfMl3oShL"
      },
      "source": [
        "# Comfortable Words"
      ],
      "execution_count": null,
      "outputs": []
    },
    {
      "cell_type": "code",
      "metadata": {
        "colab": {
          "base_uri": "https://localhost:8080/"
        },
        "id": "1W6KKQdBoSqO",
        "outputId": "2ac88517-8b9f-4470-8ee8-863cb93593c2"
      },
      "source": [
        "left = set(\"qwertasdfgzxcvb\")\n",
        "right = set(\"nmçhjkliyuıop\")\n",
        "\n",
        "word = set(\"asdfghjkl\")\n",
        "leftcheck = bool(word.intersection(left))\n",
        "rightcheck = bool(word.intersection(right))\n",
        "\n",
        "print(rightcheck and leftcheck)"
      ],
      "execution_count": 31,
      "outputs": [
        {
          "output_type": "stream",
          "name": "stdout",
          "text": [
            "False\n"
          ]
        }
      ]
    },
    {
      "cell_type": "code",
      "metadata": {
        "id": "B5TTD5ZBuypd"
      },
      "source": [
        ""
      ],
      "execution_count": null,
      "outputs": []
    },
    {
      "cell_type": "code",
      "metadata": {
        "id": "f-DNgVN1uys1"
      },
      "source": [
        ""
      ],
      "execution_count": null,
      "outputs": []
    },
    {
      "cell_type": "code",
      "metadata": {
        "id": "Z720YSxQoSte"
      },
      "source": [
        ""
      ],
      "execution_count": null,
      "outputs": []
    }
  ]
}